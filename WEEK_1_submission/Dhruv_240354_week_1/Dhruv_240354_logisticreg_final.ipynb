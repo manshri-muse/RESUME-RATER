{
  "cells": [
    {
      "cell_type": "markdown",
      "metadata": {
        "id": "oi74FlKnB08V"
      },
      "source": [
        "<a class=\"anchor\" id=\"0.1\"></a>\n",
        "# **Table of Contents**\n",
        "\n",
        "\n",
        "1.\t[Introduction to Logistic Regression](#1)\n",
        "2.\t[Logistic Regression intuition](#2)\n",
        "3.\t[Assumptions of Logistic Regression](#3)\n",
        "4.\t[Types of Logistic Regression](#4)\n",
        "5.\t[Import libraries](#5)\n",
        "6.\t[Import dataset](#6)\n",
        "7.\t[Exploratory data analysis](#7)\n",
        "8.\t[Declare feature vector and target variable](#8)\n",
        "9.\t[Split data into separate training and test set](#9)\n",
        "10.\t[Feature engineering](#10)\n",
        "11.\t[Feature scaling](#11)\n",
        "12.\t[Model training](#12)\n",
        "13.\t[Predict results](#13)\n",
        "14.\t[Check accuracy score](#14)\n",
        "15.\t[Confusion matrix](#15)\n",
        "16.\t[Classification metrices](#16)\n",
        "17.\t[Adjusting the threshold level](#17)\n",
        "18.\t[ROC - AUC](#18)\n",
        "19.\t[k-Fold Cross Validation](#19)\n",
        "20.\t[Results and conclusion](#20)\n"
      ]
    },
    {
      "cell_type": "markdown",
      "metadata": {
        "id": "--u3z2mSB08X"
      },
      "source": [
        "# **1. Introduction to Logistic Regression** <a class=\"anchor\" id=\"1\"></a>\n",
        "\n",
        "\n",
        "[Table of Contents](#0.1)\n",
        "\n",
        "\n",
        "When data scientists may come across a new classification problem, the first algorithm that may come across their mind is **Logistic Regression**. It is a supervised learning classification algorithm which is used to predict observations to a discrete set of classes. Practically, it is used to classify observations into different categories. Hence, its output is discrete in nature. **Logistic Regression** is also called **Logit Regression**. It is one of the most simple, straightforward and versatile classification algorithms which is used to solve classification problems."
      ]
    },
    {
      "cell_type": "markdown",
      "metadata": {
        "id": "RpwOMDPxB08X"
      },
      "source": [
        "# **2. Logistic Regression intuition** <a class=\"anchor\" id=\"2\"></a>\n",
        "\n",
        "\n",
        "[Table of Contents](#0.1)\n",
        "\n",
        "\n",
        "In statistics, the **Logistic Regression model** is a widely used statistical model which is primarily used for classification purposes. It means that given a set of observations, Logistic Regression algorithm helps us to classify these observations into two or more discrete classes. So, the target variable is discrete in nature.\n",
        "\n",
        "\n",
        "The Logistic Regression algorithm works as follows -"
      ]
    },
    {
      "cell_type": "markdown",
      "metadata": {
        "id": "noemFlbmB08Y"
      },
      "source": [
        "## **Implement linear equation**\n",
        "\n",
        "\n",
        "Logistic Regression algorithm works by implementing a linear equation with independent or explanatory variables to predict a response value. For example, we consider the example of number of hours studied and probability of passing the exam. Here, number of hours studied is the explanatory variable and it is denoted by x1. Probability of passing the exam is the response or target variable and it is denoted by z.\n",
        "\n",
        "\n",
        "If we have one explanatory variable (x1) and one response variable (z), then the linear equation would be given mathematically with the following equation-\n",
        "\n",
        "    z = β0 + β1x1    \n",
        "\n",
        "Here, the coefficients β0 and β1 are the parameters of the model.\n",
        "\n",
        "\n",
        "If there are multiple explanatory variables, then the above equation can be extended to\n",
        "\n",
        "    z = β0 + β1x1+ β2x2+……..+ βnxn\n",
        "    \n",
        "Here, the coefficients β0, β1, β2 and βn are the parameters of the model.\n",
        "\n",
        "So, the predicted response value is given by the above equations and is denoted by z."
      ]
    },
    {
      "cell_type": "markdown",
      "metadata": {
        "id": "hY1x3pFYB08Y"
      },
      "source": [
        "## **Sigmoid Function**\n",
        "\n",
        "This predicted response value, denoted by z is then converted into a probability value that lie between 0 and 1. We use the sigmoid function in order to map predicted values to probability values. This sigmoid function then maps any real value into a probability value between 0 and 1.\n",
        "\n",
        "In machine learning, sigmoid function is used to map predictions to probabilities. The sigmoid function has an S shaped curve. It is also called sigmoid curve.\n",
        "\n",
        "A Sigmoid function is a special case of the Logistic function. It is given by the following mathematical formula.\n",
        "\n",
        "Graphically, we can represent sigmoid function with the following graph."
      ]
    },
    {
      "cell_type": "markdown",
      "metadata": {
        "id": "xNf1amMpB08Y"
      },
      "source": [
        "### Sigmoid Function\n",
        "\n",
        "![Sigmoid Function](https://miro.medium.com/max/970/1*Xu7B5y9gp0iL5ooBj7LtWw.png)"
      ]
    },
    {
      "cell_type": "markdown",
      "metadata": {
        "id": "0DuB_-VmB08Y"
      },
      "source": [
        "## **Decision boundary**\n",
        "\n",
        "The sigmoid function returns a probability value between 0 and 1. This probability value is then mapped to a discrete class which is either “0” or “1”. In order to map this probability value to a discrete class (pass/fail, yes/no, true/false), we select a threshold value. This threshold value is called Decision boundary. Above this threshold value, we will map the probability values into class 1 and below which we will map values into class 0.\n",
        "\n",
        "Mathematically, it can be expressed as follows:-\n",
        "\n",
        "p ≥ 0.5 => class = 1\n",
        "\n",
        "p < 0.5 => class = 0\n",
        "\n",
        "Generally, the decision boundary is set to 0.5. So, if the probability value is 0.8 (> 0.5), we will map this observation to class 1. Similarly, if the probability value is 0.2 (< 0.5), we will map this observation to class 0. This is represented in the graph below-"
      ]
    },
    {
      "cell_type": "markdown",
      "metadata": {
        "id": "EO8rJ-npB08Z"
      },
      "source": [
        "![Decision boundary in sigmoid function](https://ml-cheatsheet.readthedocs.io/en/latest/_images/logistic_regression_sigmoid_w_threshold.png)"
      ]
    },
    {
      "cell_type": "markdown",
      "metadata": {
        "id": "BrSb40T3B08Z"
      },
      "source": [
        "## **Making predictions**\n",
        "\n",
        "Now, we know about sigmoid function and decision boundary in logistic regression. We can use our knowledge of sigmoid function and decision boundary to write a prediction function. A prediction function in logistic regression returns the probability of the observation being positive, Yes or True. We call this as class 1 and it is denoted by P(class = 1). If the probability inches closer to one, then we will be more confident about our model that the observation is in class 1, otherwise it is in class 0.\n"
      ]
    },
    {
      "cell_type": "markdown",
      "metadata": {
        "id": "KAc1eLz6B08Z"
      },
      "source": [
        "# **3. Assumptions of Logistic Regression** <a class=\"anchor\" id=\"3\"></a>\n",
        "\n",
        "\n",
        "[Table of Contents](#0.1)\n",
        "\n",
        "\n",
        "The Logistic Regression model requires several key assumptions. These are as follows:-\n",
        "\n",
        "1. Logistic Regression model requires the dependent variable to be binary, multinomial or ordinal in nature.\n",
        "\n",
        "2. It requires the observations to be independent of each other. So, the observations should not come from repeated measurements.\n",
        "\n",
        "3. Logistic Regression algorithm requires little or no multicollinearity among the independent variables. It means that the independent variables should not be too highly correlated with each other.\n",
        "\n",
        "4. Logistic Regression model assumes linearity of independent variables and log odds.\n",
        "\n",
        "5. The success of Logistic Regression model depends on the sample sizes. Typically, it requires a large sample size to achieve the high accuracy."
      ]
    },
    {
      "cell_type": "markdown",
      "metadata": {
        "id": "pTWFg1dgB08Z"
      },
      "source": [
        "# **4. Types of Logistic Regression** <a class=\"anchor\" id=\"4\"></a>\n",
        "\n",
        "\n",
        "[Table of Contents](#0.1)\n",
        "\n",
        "\n",
        "Logistic Regression model can be classified into three groups based on the target variable categories. These three groups are described below:-\n",
        "\n",
        "### 1. Binary Logistic Regression\n",
        "\n",
        "In Binary Logistic Regression, the target variable has two possible categories. The common examples of categories are yes or no, good or bad, true or false, spam or no spam and pass or fail.\n",
        "\n",
        "\n",
        "### 2. Multinomial Logistic Regression\n",
        "\n",
        "In Multinomial Logistic Regression, the target variable has three or more categories which are not in any particular order. So, there are three or more nominal categories. The examples include the type of categories of fruits - apple, mango, orange and banana.\n",
        "\n",
        "\n",
        "### 3. Ordinal Logistic Regression\n",
        "\n",
        "In Ordinal Logistic Regression, the target variable has three or more ordinal categories. So, there is intrinsic order involved with the categories. For example, the student performance can be categorized as poor, average, good and excellent.\n"
      ]
    },
    {
      "cell_type": "markdown",
      "metadata": {
        "id": "x65sfJJ_B08Z"
      },
      "source": [
        "# **5. Import libraries** <a class=\"anchor\" id=\"5\"></a>\n",
        "\n",
        "\n",
        "[Table of Contents](#0.1)"
      ]
    },
    {
      "cell_type": "code",
      "execution_count": 1,
      "metadata": {
        "id": "iiaiQYlZB08Z"
      },
      "outputs": [],
      "source": [
        "import numpy as np # linear algebra\n",
        "import pandas as pd # data processing, CSV file I/O (e.g. pd.read_csv)\n",
        "import matplotlib.pyplot as plt # data visualization\n",
        "import seaborn as sns # statistical data visualization\n",
        "# %matplotlib inline\n",
        "import os\n"
      ]
    },
    {
      "cell_type": "code",
      "execution_count": 2,
      "metadata": {
        "id": "BwRVk8w4B08a"
      },
      "outputs": [],
      "source": [
        "import warnings\n",
        "\n",
        "warnings.filterwarnings('ignore')"
      ]
    },
    {
      "cell_type": "markdown",
      "metadata": {
        "id": "Krj8nNvDB08b"
      },
      "source": [
        "# **6. Import dataset** <a class=\"anchor\" id=\"6\"></a>\n",
        "\n",
        "\n",
        "[Table of Contents](#0.1)"
      ]
    },
    {
      "cell_type": "code",
      "execution_count": 4,
      "metadata": {
        "id": "GChjho9CB08b"
      },
      "outputs": [],
      "source": [
        "data = 'weatherAUS.csv'\n",
        "\n",
        "df = pd.read_csv(data)"
      ]
    },
    {
      "cell_type": "markdown",
      "metadata": {
        "id": "Sgjb8AmwB08b"
      },
      "source": [
        "# **7. Exploratory data analysis** <a class=\"anchor\" id=\"7\"></a>\n",
        "\n",
        "\n",
        "[Table of Contents](#0.1)\n",
        "\n",
        "\n",
        "Now, I will explore the data to gain insights about the data."
      ]
    },
    {
      "cell_type": "code",
      "execution_count": 5,
      "metadata": {
        "colab": {
          "base_uri": "https://localhost:8080/"
        },
        "id": "LHHiFzpfB08b",
        "outputId": "7fd13750-571a-4d30-f45a-bf47b4e5f790"
      },
      "outputs": [
        {
          "data": {
            "text/plain": [
              "(142193, 24)"
            ]
          },
          "execution_count": 5,
          "metadata": {},
          "output_type": "execute_result"
        }
      ],
      "source": [
        "# view dimensions of dataset\n",
        "\n",
        "df.shape"
      ]
    },
    {
      "cell_type": "markdown",
      "metadata": {
        "id": "wpuDAODfB08b"
      },
      "source": [
        "We can see that there are 142193 instances and 24 variables in the data set."
      ]
    },
    {
      "cell_type": "code",
      "execution_count": 6,
      "metadata": {
        "colab": {
          "base_uri": "https://localhost:8080/",
          "height": 342
        },
        "id": "y_stY5rwB08b",
        "outputId": "f7969e5c-993b-4125-8f78-91a94fb64706"
      },
      "outputs": [
        {
          "data": {
            "text/html": [
              "<div>\n",
              "<style scoped>\n",
              "    .dataframe tbody tr th:only-of-type {\n",
              "        vertical-align: middle;\n",
              "    }\n",
              "\n",
              "    .dataframe tbody tr th {\n",
              "        vertical-align: top;\n",
              "    }\n",
              "\n",
              "    .dataframe thead th {\n",
              "        text-align: right;\n",
              "    }\n",
              "</style>\n",
              "<table border=\"1\" class=\"dataframe\">\n",
              "  <thead>\n",
              "    <tr style=\"text-align: right;\">\n",
              "      <th></th>\n",
              "      <th>Date</th>\n",
              "      <th>Location</th>\n",
              "      <th>MinTemp</th>\n",
              "      <th>MaxTemp</th>\n",
              "      <th>Rainfall</th>\n",
              "      <th>Evaporation</th>\n",
              "      <th>Sunshine</th>\n",
              "      <th>WindGustDir</th>\n",
              "      <th>WindGustSpeed</th>\n",
              "      <th>WindDir9am</th>\n",
              "      <th>...</th>\n",
              "      <th>Humidity3pm</th>\n",
              "      <th>Pressure9am</th>\n",
              "      <th>Pressure3pm</th>\n",
              "      <th>Cloud9am</th>\n",
              "      <th>Cloud3pm</th>\n",
              "      <th>Temp9am</th>\n",
              "      <th>Temp3pm</th>\n",
              "      <th>RainToday</th>\n",
              "      <th>RISK_MM</th>\n",
              "      <th>RainTomorrow</th>\n",
              "    </tr>\n",
              "  </thead>\n",
              "  <tbody>\n",
              "    <tr>\n",
              "      <th>0</th>\n",
              "      <td>2008-12-01</td>\n",
              "      <td>Albury</td>\n",
              "      <td>13.4</td>\n",
              "      <td>22.9</td>\n",
              "      <td>0.6</td>\n",
              "      <td>NaN</td>\n",
              "      <td>NaN</td>\n",
              "      <td>W</td>\n",
              "      <td>44.0</td>\n",
              "      <td>W</td>\n",
              "      <td>...</td>\n",
              "      <td>22.0</td>\n",
              "      <td>1007.7</td>\n",
              "      <td>1007.1</td>\n",
              "      <td>8.0</td>\n",
              "      <td>NaN</td>\n",
              "      <td>16.9</td>\n",
              "      <td>21.8</td>\n",
              "      <td>No</td>\n",
              "      <td>0.0</td>\n",
              "      <td>No</td>\n",
              "    </tr>\n",
              "    <tr>\n",
              "      <th>1</th>\n",
              "      <td>2008-12-02</td>\n",
              "      <td>Albury</td>\n",
              "      <td>7.4</td>\n",
              "      <td>25.1</td>\n",
              "      <td>0.0</td>\n",
              "      <td>NaN</td>\n",
              "      <td>NaN</td>\n",
              "      <td>WNW</td>\n",
              "      <td>44.0</td>\n",
              "      <td>NNW</td>\n",
              "      <td>...</td>\n",
              "      <td>25.0</td>\n",
              "      <td>1010.6</td>\n",
              "      <td>1007.8</td>\n",
              "      <td>NaN</td>\n",
              "      <td>NaN</td>\n",
              "      <td>17.2</td>\n",
              "      <td>24.3</td>\n",
              "      <td>No</td>\n",
              "      <td>0.0</td>\n",
              "      <td>No</td>\n",
              "    </tr>\n",
              "    <tr>\n",
              "      <th>2</th>\n",
              "      <td>2008-12-03</td>\n",
              "      <td>Albury</td>\n",
              "      <td>12.9</td>\n",
              "      <td>25.7</td>\n",
              "      <td>0.0</td>\n",
              "      <td>NaN</td>\n",
              "      <td>NaN</td>\n",
              "      <td>WSW</td>\n",
              "      <td>46.0</td>\n",
              "      <td>W</td>\n",
              "      <td>...</td>\n",
              "      <td>30.0</td>\n",
              "      <td>1007.6</td>\n",
              "      <td>1008.7</td>\n",
              "      <td>NaN</td>\n",
              "      <td>2.0</td>\n",
              "      <td>21.0</td>\n",
              "      <td>23.2</td>\n",
              "      <td>No</td>\n",
              "      <td>0.0</td>\n",
              "      <td>No</td>\n",
              "    </tr>\n",
              "    <tr>\n",
              "      <th>3</th>\n",
              "      <td>2008-12-04</td>\n",
              "      <td>Albury</td>\n",
              "      <td>9.2</td>\n",
              "      <td>28.0</td>\n",
              "      <td>0.0</td>\n",
              "      <td>NaN</td>\n",
              "      <td>NaN</td>\n",
              "      <td>NE</td>\n",
              "      <td>24.0</td>\n",
              "      <td>SE</td>\n",
              "      <td>...</td>\n",
              "      <td>16.0</td>\n",
              "      <td>1017.6</td>\n",
              "      <td>1012.8</td>\n",
              "      <td>NaN</td>\n",
              "      <td>NaN</td>\n",
              "      <td>18.1</td>\n",
              "      <td>26.5</td>\n",
              "      <td>No</td>\n",
              "      <td>1.0</td>\n",
              "      <td>No</td>\n",
              "    </tr>\n",
              "    <tr>\n",
              "      <th>4</th>\n",
              "      <td>2008-12-05</td>\n",
              "      <td>Albury</td>\n",
              "      <td>17.5</td>\n",
              "      <td>32.3</td>\n",
              "      <td>1.0</td>\n",
              "      <td>NaN</td>\n",
              "      <td>NaN</td>\n",
              "      <td>W</td>\n",
              "      <td>41.0</td>\n",
              "      <td>ENE</td>\n",
              "      <td>...</td>\n",
              "      <td>33.0</td>\n",
              "      <td>1010.8</td>\n",
              "      <td>1006.0</td>\n",
              "      <td>7.0</td>\n",
              "      <td>8.0</td>\n",
              "      <td>17.8</td>\n",
              "      <td>29.7</td>\n",
              "      <td>No</td>\n",
              "      <td>0.2</td>\n",
              "      <td>No</td>\n",
              "    </tr>\n",
              "  </tbody>\n",
              "</table>\n",
              "<p>5 rows × 24 columns</p>\n",
              "</div>"
            ],
            "text/plain": [
              "         Date Location  MinTemp  MaxTemp  Rainfall  Evaporation  Sunshine  \\\n",
              "0  2008-12-01   Albury     13.4     22.9       0.6          NaN       NaN   \n",
              "1  2008-12-02   Albury      7.4     25.1       0.0          NaN       NaN   \n",
              "2  2008-12-03   Albury     12.9     25.7       0.0          NaN       NaN   \n",
              "3  2008-12-04   Albury      9.2     28.0       0.0          NaN       NaN   \n",
              "4  2008-12-05   Albury     17.5     32.3       1.0          NaN       NaN   \n",
              "\n",
              "  WindGustDir  WindGustSpeed WindDir9am  ... Humidity3pm  Pressure9am  \\\n",
              "0           W           44.0          W  ...        22.0       1007.7   \n",
              "1         WNW           44.0        NNW  ...        25.0       1010.6   \n",
              "2         WSW           46.0          W  ...        30.0       1007.6   \n",
              "3          NE           24.0         SE  ...        16.0       1017.6   \n",
              "4           W           41.0        ENE  ...        33.0       1010.8   \n",
              "\n",
              "   Pressure3pm  Cloud9am  Cloud3pm  Temp9am  Temp3pm  RainToday  RISK_MM  \\\n",
              "0       1007.1       8.0       NaN     16.9     21.8         No      0.0   \n",
              "1       1007.8       NaN       NaN     17.2     24.3         No      0.0   \n",
              "2       1008.7       NaN       2.0     21.0     23.2         No      0.0   \n",
              "3       1012.8       NaN       NaN     18.1     26.5         No      1.0   \n",
              "4       1006.0       7.0       8.0     17.8     29.7         No      0.2   \n",
              "\n",
              "   RainTomorrow  \n",
              "0            No  \n",
              "1            No  \n",
              "2            No  \n",
              "3            No  \n",
              "4            No  \n",
              "\n",
              "[5 rows x 24 columns]"
            ]
          },
          "execution_count": 6,
          "metadata": {},
          "output_type": "execute_result"
        }
      ],
      "source": [
        "# preview the dataset\n",
        "\n",
        "df.head()"
      ]
    },
    {
      "cell_type": "code",
      "execution_count": 7,
      "metadata": {
        "colab": {
          "base_uri": "https://localhost:8080/"
        },
        "id": "2Q5-830uB08c",
        "outputId": "515b70fd-c519-4618-da26-6cddf6f385fa"
      },
      "outputs": [
        {
          "data": {
            "text/plain": [
              "Index(['Date', 'Location', 'MinTemp', 'MaxTemp', 'Rainfall', 'Evaporation',\n",
              "       'Sunshine', 'WindGustDir', 'WindGustSpeed', 'WindDir9am', 'WindDir3pm',\n",
              "       'WindSpeed9am', 'WindSpeed3pm', 'Humidity9am', 'Humidity3pm',\n",
              "       'Pressure9am', 'Pressure3pm', 'Cloud9am', 'Cloud3pm', 'Temp9am',\n",
              "       'Temp3pm', 'RainToday', 'RISK_MM', 'RainTomorrow'],\n",
              "      dtype='object')"
            ]
          },
          "execution_count": 7,
          "metadata": {},
          "output_type": "execute_result"
        }
      ],
      "source": [
        "col_names = df.columns\n",
        "\n",
        "col_names"
      ]
    },
    {
      "cell_type": "markdown",
      "metadata": {
        "id": "kTNyr2AfB08c"
      },
      "source": [
        "### Drop  RISK_MM variable\n",
        "\n",
        "It is given in the dataset description, that we should drop the `RISK_MM` feature variable from the dataset description. So, we\n",
        "should drop it as follows-"
      ]
    },
    {
      "cell_type": "code",
      "execution_count": 8,
      "metadata": {
        "id": "4GsS0-k9B08c"
      },
      "outputs": [],
      "source": [
        "df.drop(['RISK_MM'], axis=1, inplace=True)"
      ]
    },
    {
      "cell_type": "markdown",
      "metadata": {
        "id": "Ga-OLHPFDqgf"
      },
      "source": [
        "Fill the Gap to see the required output"
      ]
    },
    {
      "cell_type": "code",
      "execution_count": 11,
      "metadata": {
        "colab": {
          "base_uri": "https://localhost:8080/"
        },
        "id": "vxlg8TQZB08c",
        "outputId": "5274daa5-fec9-4506-8585-b90129da9c62"
      },
      "outputs": [
        {
          "name": "stdout",
          "output_type": "stream",
          "text": [
            "<class 'pandas.core.frame.DataFrame'>\n",
            "RangeIndex: 142193 entries, 0 to 142192\n",
            "Data columns (total 23 columns):\n",
            " #   Column         Non-Null Count   Dtype  \n",
            "---  ------         --------------   -----  \n",
            " 0   Date           142193 non-null  object \n",
            " 1   Location       142193 non-null  object \n",
            " 2   MinTemp        141556 non-null  float64\n",
            " 3   MaxTemp        141871 non-null  float64\n",
            " 4   Rainfall       140787 non-null  float64\n",
            " 5   Evaporation    81350 non-null   float64\n",
            " 6   Sunshine       74377 non-null   float64\n",
            " 7   WindGustDir    132863 non-null  object \n",
            " 8   WindGustSpeed  132923 non-null  float64\n",
            " 9   WindDir9am     132180 non-null  object \n",
            " 10  WindDir3pm     138415 non-null  object \n",
            " 11  WindSpeed9am   140845 non-null  float64\n",
            " 12  WindSpeed3pm   139563 non-null  float64\n",
            " 13  Humidity9am    140419 non-null  float64\n",
            " 14  Humidity3pm    138583 non-null  float64\n",
            " 15  Pressure9am    128179 non-null  float64\n",
            " 16  Pressure3pm    128212 non-null  float64\n",
            " 17  Cloud9am       88536 non-null   float64\n",
            " 18  Cloud3pm       85099 non-null   float64\n",
            " 19  Temp9am        141289 non-null  float64\n",
            " 20  Temp3pm        139467 non-null  float64\n",
            " 21  RainToday      140787 non-null  object \n",
            " 22  RainTomorrow   142193 non-null  object \n",
            "dtypes: float64(16), object(7)\n",
            "memory usage: 25.0+ MB\n"
          ]
        }
      ],
      "source": [
        "# view summary of dataset\n",
        "\n",
        "df.info()"
      ]
    },
    {
      "cell_type": "markdown",
      "metadata": {
        "id": "-0A732nlB08c"
      },
      "source": [
        "### Types of variables\n",
        "\n",
        "\n",
        "In this section, I segregate the dataset into categorical and numerical variables. There are a mixture of categorical and numerical variables in the dataset. Categorical variables have data type object. Numerical variables have data type float64.\n",
        "\n",
        "\n",
        "First of all, I will find categorical variables."
      ]
    },
    {
      "cell_type": "code",
      "execution_count": 12,
      "metadata": {
        "colab": {
          "base_uri": "https://localhost:8080/"
        },
        "id": "hRIYoBtOB08c",
        "outputId": "4ccc3430-a71b-4700-d322-508ff2853893"
      },
      "outputs": [
        {
          "name": "stdout",
          "output_type": "stream",
          "text": [
            "There are 7 categorical variables\n",
            "\n",
            "The categorical variables are : ['Date', 'Location', 'WindGustDir', 'WindDir9am', 'WindDir3pm', 'RainToday', 'RainTomorrow']\n"
          ]
        }
      ],
      "source": [
        "# find categorical variables\n",
        "#Fill the Gap\n",
        "\n",
        "categorical = [var for var in df.columns if df[var].dtype=='O']\n",
        "\n",
        "print('There are {} categorical variables\\n'.format(len(categorical)))\n",
        "\n",
        "print('The categorical variables are :', categorical)"
      ]
    },
    {
      "cell_type": "code",
      "execution_count": 13,
      "metadata": {
        "colab": {
          "base_uri": "https://localhost:8080/",
          "height": 206
        },
        "id": "j_U7RZeuB08d",
        "outputId": "597d4b2c-0093-4e69-8b9d-964141106571"
      },
      "outputs": [
        {
          "data": {
            "text/html": [
              "<div>\n",
              "<style scoped>\n",
              "    .dataframe tbody tr th:only-of-type {\n",
              "        vertical-align: middle;\n",
              "    }\n",
              "\n",
              "    .dataframe tbody tr th {\n",
              "        vertical-align: top;\n",
              "    }\n",
              "\n",
              "    .dataframe thead th {\n",
              "        text-align: right;\n",
              "    }\n",
              "</style>\n",
              "<table border=\"1\" class=\"dataframe\">\n",
              "  <thead>\n",
              "    <tr style=\"text-align: right;\">\n",
              "      <th></th>\n",
              "      <th>Date</th>\n",
              "      <th>Location</th>\n",
              "      <th>WindGustDir</th>\n",
              "      <th>WindDir9am</th>\n",
              "      <th>WindDir3pm</th>\n",
              "      <th>RainToday</th>\n",
              "      <th>RainTomorrow</th>\n",
              "    </tr>\n",
              "  </thead>\n",
              "  <tbody>\n",
              "    <tr>\n",
              "      <th>0</th>\n",
              "      <td>2008-12-01</td>\n",
              "      <td>Albury</td>\n",
              "      <td>W</td>\n",
              "      <td>W</td>\n",
              "      <td>WNW</td>\n",
              "      <td>No</td>\n",
              "      <td>No</td>\n",
              "    </tr>\n",
              "    <tr>\n",
              "      <th>1</th>\n",
              "      <td>2008-12-02</td>\n",
              "      <td>Albury</td>\n",
              "      <td>WNW</td>\n",
              "      <td>NNW</td>\n",
              "      <td>WSW</td>\n",
              "      <td>No</td>\n",
              "      <td>No</td>\n",
              "    </tr>\n",
              "    <tr>\n",
              "      <th>2</th>\n",
              "      <td>2008-12-03</td>\n",
              "      <td>Albury</td>\n",
              "      <td>WSW</td>\n",
              "      <td>W</td>\n",
              "      <td>WSW</td>\n",
              "      <td>No</td>\n",
              "      <td>No</td>\n",
              "    </tr>\n",
              "    <tr>\n",
              "      <th>3</th>\n",
              "      <td>2008-12-04</td>\n",
              "      <td>Albury</td>\n",
              "      <td>NE</td>\n",
              "      <td>SE</td>\n",
              "      <td>E</td>\n",
              "      <td>No</td>\n",
              "      <td>No</td>\n",
              "    </tr>\n",
              "    <tr>\n",
              "      <th>4</th>\n",
              "      <td>2008-12-05</td>\n",
              "      <td>Albury</td>\n",
              "      <td>W</td>\n",
              "      <td>ENE</td>\n",
              "      <td>NW</td>\n",
              "      <td>No</td>\n",
              "      <td>No</td>\n",
              "    </tr>\n",
              "  </tbody>\n",
              "</table>\n",
              "</div>"
            ],
            "text/plain": [
              "         Date Location WindGustDir WindDir9am WindDir3pm RainToday  \\\n",
              "0  2008-12-01   Albury           W          W        WNW        No   \n",
              "1  2008-12-02   Albury         WNW        NNW        WSW        No   \n",
              "2  2008-12-03   Albury         WSW          W        WSW        No   \n",
              "3  2008-12-04   Albury          NE         SE          E        No   \n",
              "4  2008-12-05   Albury           W        ENE         NW        No   \n",
              "\n",
              "  RainTomorrow  \n",
              "0           No  \n",
              "1           No  \n",
              "2           No  \n",
              "3           No  \n",
              "4           No  "
            ]
          },
          "execution_count": 13,
          "metadata": {},
          "output_type": "execute_result"
        }
      ],
      "source": [
        "# view the categorical variables\n",
        "\n",
        "df[categorical].head()"
      ]
    },
    {
      "cell_type": "markdown",
      "metadata": {
        "id": "aQ86JuXYB08d"
      },
      "source": [
        "### Summary of categorical variables\n",
        "\n",
        "\n",
        "- There is a date variable. It is denoted by `Date` column.\n",
        "\n",
        "\n",
        "- There are 6 categorical variables. These are given by `Location`, `WindGustDir`, `WindDir9am`, `WindDir3pm`, `RainToday` and  `RainTomorrow`.\n",
        "\n",
        "\n",
        "- There are two binary categorical variables - `RainToday` and  `RainTomorrow`.\n",
        "\n",
        "\n",
        "- `RainTomorrow` is the target variable."
      ]
    },
    {
      "cell_type": "markdown",
      "metadata": {
        "id": "IYwLGpEcB08d"
      },
      "source": [
        "## Explore problems within categorical variables\n",
        "\n",
        "\n",
        "First, I will explore the categorical variables.\n",
        "\n",
        "\n",
        "### Missing values in categorical variables"
      ]
    },
    {
      "cell_type": "code",
      "execution_count": 14,
      "metadata": {
        "colab": {
          "base_uri": "https://localhost:8080/",
          "height": 303
        },
        "id": "u4r-DK6KB08d",
        "outputId": "a228567d-bc6b-4625-cb1c-f5c582850c1b"
      },
      "outputs": [
        {
          "data": {
            "text/plain": [
              "Date                0\n",
              "Location            0\n",
              "WindGustDir      9330\n",
              "WindDir9am      10013\n",
              "WindDir3pm       3778\n",
              "RainToday        1406\n",
              "RainTomorrow        0\n",
              "dtype: int64"
            ]
          },
          "execution_count": 14,
          "metadata": {},
          "output_type": "execute_result"
        }
      ],
      "source": [
        "# check missing values in categorical variables\n",
        "# Fill the Gap\n",
        "\n",
        "df[categorical].isnull().sum()"
      ]
    },
    {
      "cell_type": "code",
      "execution_count": 15,
      "metadata": {
        "colab": {
          "base_uri": "https://localhost:8080/"
        },
        "id": "N43_tkuBB08d",
        "outputId": "5ec9308b-a843-4145-d446-342fb7e96316"
      },
      "outputs": [
        {
          "name": "stdout",
          "output_type": "stream",
          "text": [
            "WindGustDir     9330\n",
            "WindDir9am     10013\n",
            "WindDir3pm      3778\n",
            "RainToday       1406\n",
            "dtype: int64\n"
          ]
        }
      ],
      "source": [
        "# print categorical variables containing missing values\n",
        "# Fill the Gap\n",
        "\n",
        "\n",
        "cat1 = [var for var in categorical if df[var].isnull().sum()!=0]\n",
        "\n",
        "print(df[cat1].isnull().sum())"
      ]
    },
    {
      "cell_type": "markdown",
      "metadata": {
        "id": "SPNlQpIeB08d"
      },
      "source": [
        "We can see that there are only 4 categorical variables in the dataset which contains missing values. These are `WindGustDir`, `WindDir9am`, `WindDir3pm` and `RainToday`."
      ]
    },
    {
      "cell_type": "markdown",
      "metadata": {
        "id": "pqMbTDFLB08e"
      },
      "source": [
        "### Frequency counts of categorical variables\n",
        "\n",
        "\n",
        "Now, I will check the frequency counts of categorical variables."
      ]
    },
    {
      "cell_type": "code",
      "execution_count": 16,
      "metadata": {
        "colab": {
          "base_uri": "https://localhost:8080/"
        },
        "id": "DjTa0q9_B08e",
        "outputId": "b01e9cfe-bd4d-4a9a-fac8-c9cdddec2721"
      },
      "outputs": [
        {
          "name": "stdout",
          "output_type": "stream",
          "text": [
            "Date\n",
            "2013-12-01    49\n",
            "2014-01-09    49\n",
            "2014-01-11    49\n",
            "2014-01-12    49\n",
            "2014-01-13    49\n",
            "              ..\n",
            "2007-11-29     1\n",
            "2007-11-28     1\n",
            "2007-11-27     1\n",
            "2007-11-26     1\n",
            "2008-01-31     1\n",
            "Name: count, Length: 3436, dtype: int64\n",
            "Location\n",
            "Canberra            3418\n",
            "Sydney              3337\n",
            "Perth               3193\n",
            "Darwin              3192\n",
            "Hobart              3188\n",
            "Brisbane            3161\n",
            "Adelaide            3090\n",
            "Bendigo             3034\n",
            "Townsville          3033\n",
            "AliceSprings        3031\n",
            "MountGambier        3030\n",
            "Launceston          3028\n",
            "Ballarat            3028\n",
            "Albany              3016\n",
            "Albury              3011\n",
            "PerthAirport        3009\n",
            "MelbourneAirport    3009\n",
            "Mildura             3007\n",
            "SydneyAirport       3005\n",
            "Nuriootpa           3002\n",
            "Sale                3000\n",
            "Watsonia            2999\n",
            "Tuggeranong         2998\n",
            "Portland            2996\n",
            "Woomera             2990\n",
            "Cairns              2988\n",
            "Cobar               2988\n",
            "Wollongong          2983\n",
            "GoldCoast           2980\n",
            "WaggaWagga          2976\n",
            "Penrith             2964\n",
            "NorfolkIsland       2964\n",
            "SalmonGums          2955\n",
            "Newcastle           2955\n",
            "CoffsHarbour        2953\n",
            "Witchcliffe         2952\n",
            "Richmond            2951\n",
            "Dartmoor            2943\n",
            "NorahHead           2929\n",
            "BadgerysCreek       2928\n",
            "MountGinini         2907\n",
            "Moree               2854\n",
            "Walpole             2819\n",
            "PearceRAAF          2762\n",
            "Williamtown         2553\n",
            "Melbourne           2435\n",
            "Nhil                1569\n",
            "Katherine           1559\n",
            "Uluru               1521\n",
            "Name: count, dtype: int64\n",
            "WindGustDir\n",
            "W      9780\n",
            "SE     9309\n",
            "E      9071\n",
            "N      9033\n",
            "SSE    8993\n",
            "S      8949\n",
            "WSW    8901\n",
            "SW     8797\n",
            "SSW    8610\n",
            "WNW    8066\n",
            "NW     8003\n",
            "ENE    7992\n",
            "ESE    7305\n",
            "NE     7060\n",
            "NNW    6561\n",
            "NNE    6433\n",
            "Name: count, dtype: int64\n",
            "WindDir9am\n",
            "N      11393\n",
            "SE      9162\n",
            "E       9024\n",
            "SSE     8966\n",
            "NW      8552\n",
            "S       8493\n",
            "W       8260\n",
            "SW      8237\n",
            "NNE     7948\n",
            "NNW     7840\n",
            "ENE     7735\n",
            "ESE     7558\n",
            "NE      7527\n",
            "SSW     7448\n",
            "WNW     7194\n",
            "WSW     6843\n",
            "Name: count, dtype: int64\n",
            "WindDir3pm\n",
            "SE     10663\n",
            "W       9911\n",
            "S       9598\n",
            "WSW     9329\n",
            "SW      9182\n",
            "SSE     9142\n",
            "N       8667\n",
            "WNW     8656\n",
            "NW      8468\n",
            "ESE     8382\n",
            "E       8342\n",
            "NE      8164\n",
            "SSW     8010\n",
            "NNW     7733\n",
            "ENE     7724\n",
            "NNE     6444\n",
            "Name: count, dtype: int64\n",
            "RainToday\n",
            "No     109332\n",
            "Yes     31455\n",
            "Name: count, dtype: int64\n",
            "RainTomorrow\n",
            "No     110316\n",
            "Yes     31877\n",
            "Name: count, dtype: int64\n"
          ]
        }
      ],
      "source": [
        "# view frequency of categorical variables\n",
        "\n",
        "for var in categorical:\n",
        "\n",
        "    print(df[var].value_counts())"
      ]
    },
    {
      "cell_type": "code",
      "execution_count": 17,
      "metadata": {
        "colab": {
          "base_uri": "https://localhost:8080/"
        },
        "id": "18bo_AO2B08e",
        "outputId": "3d8b0833-a013-474f-c45b-c36f34659721"
      },
      "outputs": [
        {
          "name": "stdout",
          "output_type": "stream",
          "text": [
            "Date\n",
            "2013-12-01    0.000345\n",
            "2014-01-09    0.000345\n",
            "2014-01-11    0.000345\n",
            "2014-01-12    0.000345\n",
            "2014-01-13    0.000345\n",
            "                ...   \n",
            "2007-11-29    0.000007\n",
            "2007-11-28    0.000007\n",
            "2007-11-27    0.000007\n",
            "2007-11-26    0.000007\n",
            "2008-01-31    0.000007\n",
            "Name: count, Length: 3436, dtype: float64\n",
            "Location\n",
            "Canberra            0.024038\n",
            "Sydney              0.023468\n",
            "Perth               0.022455\n",
            "Darwin              0.022448\n",
            "Hobart              0.022420\n",
            "Brisbane            0.022230\n",
            "Adelaide            0.021731\n",
            "Bendigo             0.021337\n",
            "Townsville          0.021330\n",
            "AliceSprings        0.021316\n",
            "MountGambier        0.021309\n",
            "Launceston          0.021295\n",
            "Ballarat            0.021295\n",
            "Albany              0.021211\n",
            "Albury              0.021175\n",
            "PerthAirport        0.021161\n",
            "MelbourneAirport    0.021161\n",
            "Mildura             0.021147\n",
            "SydneyAirport       0.021133\n",
            "Nuriootpa           0.021112\n",
            "Sale                0.021098\n",
            "Watsonia            0.021091\n",
            "Tuggeranong         0.021084\n",
            "Portland            0.021070\n",
            "Woomera             0.021028\n",
            "Cairns              0.021014\n",
            "Cobar               0.021014\n",
            "Wollongong          0.020979\n",
            "GoldCoast           0.020957\n",
            "WaggaWagga          0.020929\n",
            "Penrith             0.020845\n",
            "NorfolkIsland       0.020845\n",
            "SalmonGums          0.020782\n",
            "Newcastle           0.020782\n",
            "CoffsHarbour        0.020768\n",
            "Witchcliffe         0.020761\n",
            "Richmond            0.020753\n",
            "Dartmoor            0.020697\n",
            "NorahHead           0.020599\n",
            "BadgerysCreek       0.020592\n",
            "MountGinini         0.020444\n",
            "Moree               0.020071\n",
            "Walpole             0.019825\n",
            "PearceRAAF          0.019424\n",
            "Williamtown         0.017954\n",
            "Melbourne           0.017125\n",
            "Nhil                0.011034\n",
            "Katherine           0.010964\n",
            "Uluru               0.010697\n",
            "Name: count, dtype: float64\n",
            "WindGustDir\n",
            "W      0.068780\n",
            "SE     0.065467\n",
            "E      0.063794\n",
            "N      0.063526\n",
            "SSE    0.063245\n",
            "S      0.062936\n",
            "WSW    0.062598\n",
            "SW     0.061867\n",
            "SSW    0.060552\n",
            "WNW    0.056726\n",
            "NW     0.056283\n",
            "ENE    0.056205\n",
            "ESE    0.051374\n",
            "NE     0.049651\n",
            "NNW    0.046142\n",
            "NNE    0.045241\n",
            "Name: count, dtype: float64\n",
            "WindDir9am\n",
            "N      0.080123\n",
            "SE     0.064434\n",
            "E      0.063463\n",
            "SSE    0.063055\n",
            "NW     0.060144\n",
            "S      0.059729\n",
            "W      0.058090\n",
            "SW     0.057928\n",
            "NNE    0.055896\n",
            "NNW    0.055136\n",
            "ENE    0.054398\n",
            "ESE    0.053153\n",
            "NE     0.052935\n",
            "SSW    0.052380\n",
            "WNW    0.050593\n",
            "WSW    0.048125\n",
            "Name: count, dtype: float64\n",
            "WindDir3pm\n",
            "SE     0.074990\n",
            "W      0.069701\n",
            "S      0.067500\n",
            "WSW    0.065608\n",
            "SW     0.064574\n",
            "SSE    0.064293\n",
            "N      0.060952\n",
            "WNW    0.060875\n",
            "NW     0.059553\n",
            "ESE    0.058948\n",
            "E      0.058667\n",
            "NE     0.057415\n",
            "SSW    0.056332\n",
            "NNW    0.054384\n",
            "ENE    0.054321\n",
            "NNE    0.045319\n",
            "Name: count, dtype: float64\n",
            "RainToday\n",
            "No     0.768899\n",
            "Yes    0.221213\n",
            "Name: count, dtype: float64\n",
            "RainTomorrow\n",
            "No     0.775819\n",
            "Yes    0.224181\n",
            "Name: count, dtype: float64\n"
          ]
        }
      ],
      "source": [
        "# view frequency distribution of categorical variables\n",
        "\n",
        "for var in categorical:\n",
        "\n",
        "    print(df[var].value_counts()/float(len(df)))"
      ]
    },
    {
      "cell_type": "markdown",
      "metadata": {
        "id": "Bu_ztRT-B08e"
      },
      "source": [
        "### Number of labels: cardinality\n",
        "\n",
        "\n",
        "The number of labels within a categorical variable is known as **cardinality**. A high number of labels within a variable is known as **high cardinality**. High cardinality may pose some serious problems in the machine learning model. So, I will check for high cardinality."
      ]
    },
    {
      "cell_type": "code",
      "execution_count": 19,
      "metadata": {
        "colab": {
          "base_uri": "https://localhost:8080/"
        },
        "id": "bU8fCQqDB08e",
        "outputId": "8bd0437d-e709-45a9-f542-1c05dc9a67de"
      },
      "outputs": [
        {
          "name": "stdout",
          "output_type": "stream",
          "text": [
            "Date  contains  3436  labels\n",
            "Location  contains  49  labels\n",
            "WindGustDir  contains  17  labels\n",
            "WindDir9am  contains  17  labels\n",
            "WindDir3pm  contains  17  labels\n",
            "RainToday  contains  3  labels\n",
            "RainTomorrow  contains  2  labels\n"
          ]
        }
      ],
      "source": [
        "# check for cardinality in categorical variables\n",
        "# Fill the Gap\n",
        "\n",
        "\n",
        "for var in categorical:\n",
        "\n",
        "    print(var, ' contains ', len(df[var].unique()), ' labels')"
      ]
    },
    {
      "cell_type": "markdown",
      "metadata": {
        "id": "oJejqWX9B08e"
      },
      "source": [
        "We can see that there is a `Date` variable which needs to be preprocessed. I will do preprocessing in the following section.\n",
        "\n",
        "\n",
        "All the other variables contain relatively smaller number of variables."
      ]
    },
    {
      "cell_type": "markdown",
      "metadata": {
        "id": "pUzLRUbHB08e"
      },
      "source": [
        "### Feature Engineering of Date Variable"
      ]
    },
    {
      "cell_type": "code",
      "execution_count": 20,
      "metadata": {
        "colab": {
          "base_uri": "https://localhost:8080/"
        },
        "id": "zcdkSa_6B08i",
        "outputId": "72d36c76-5c28-4cba-cb07-33da306891e4"
      },
      "outputs": [
        {
          "data": {
            "text/plain": [
              "dtype('O')"
            ]
          },
          "execution_count": 20,
          "metadata": {},
          "output_type": "execute_result"
        }
      ],
      "source": [
        "df['Date'].dtypes"
      ]
    },
    {
      "cell_type": "markdown",
      "metadata": {
        "id": "GzEiedvVB08i"
      },
      "source": [
        "We can see that the data type of `Date` variable is object. I will parse the date currently coded as object into datetime format.\n",
        "\n",
        "Fill the Gap"
      ]
    },
    {
      "cell_type": "code",
      "execution_count": 22,
      "metadata": {
        "id": "loa0VWqBB08i"
      },
      "outputs": [],
      "source": [
        "# parse the dates, currently coded as strings, into datetime format\n",
        "\n",
        "df['Date'] = pd.to_datetime(df['Date'])"
      ]
    },
    {
      "cell_type": "code",
      "execution_count": 24,
      "metadata": {
        "colab": {
          "base_uri": "https://localhost:8080/",
          "height": 241
        },
        "id": "z9Nlfk6fB08j",
        "outputId": "9d8b57cc-b3bc-4f81-f9d3-e0391c2c45f7"
      },
      "outputs": [
        {
          "data": {
            "text/plain": [
              "0    2008\n",
              "1    2008\n",
              "2    2008\n",
              "3    2008\n",
              "4    2008\n",
              "Name: Year, dtype: int32"
            ]
          },
          "execution_count": 24,
          "metadata": {},
          "output_type": "execute_result"
        }
      ],
      "source": [
        "# extract year from date\n",
        "\n",
        "df['Year'] = df['Date'].dt.year\n",
        "\n",
        "df['Year'].head()"
      ]
    },
    {
      "cell_type": "code",
      "execution_count": 25,
      "metadata": {
        "colab": {
          "base_uri": "https://localhost:8080/",
          "height": 241
        },
        "id": "8Hu81KOkB08j",
        "outputId": "951563e1-327a-4aec-d925-a5e81db34524"
      },
      "outputs": [
        {
          "data": {
            "text/plain": [
              "0    12\n",
              "1    12\n",
              "2    12\n",
              "3    12\n",
              "4    12\n",
              "Name: Month, dtype: int32"
            ]
          },
          "execution_count": 25,
          "metadata": {},
          "output_type": "execute_result"
        }
      ],
      "source": [
        "# extract month from date\n",
        "\n",
        "df['Month'] = df['Date'].dt.month\n",
        "\n",
        "df['Month'].head()"
      ]
    },
    {
      "cell_type": "code",
      "execution_count": 26,
      "metadata": {
        "colab": {
          "base_uri": "https://localhost:8080/",
          "height": 241
        },
        "id": "GVQMq1u_B08j",
        "outputId": "bbaa5abe-02af-4f50-a285-95622e5197ae"
      },
      "outputs": [
        {
          "data": {
            "text/plain": [
              "0    1\n",
              "1    2\n",
              "2    3\n",
              "3    4\n",
              "4    5\n",
              "Name: Day, dtype: int32"
            ]
          },
          "execution_count": 26,
          "metadata": {},
          "output_type": "execute_result"
        }
      ],
      "source": [
        "# extract day from date\n",
        "\n",
        "df['Day'] = df['Date'].dt.day\n",
        "\n",
        "df['Day'].head()"
      ]
    },
    {
      "cell_type": "code",
      "execution_count": 27,
      "metadata": {
        "colab": {
          "base_uri": "https://localhost:8080/"
        },
        "id": "OD78-DsTB08j",
        "outputId": "71f51201-bcc6-462f-81bc-688362c19c98"
      },
      "outputs": [
        {
          "name": "stdout",
          "output_type": "stream",
          "text": [
            "<class 'pandas.core.frame.DataFrame'>\n",
            "RangeIndex: 142193 entries, 0 to 142192\n",
            "Data columns (total 26 columns):\n",
            " #   Column         Non-Null Count   Dtype         \n",
            "---  ------         --------------   -----         \n",
            " 0   Date           142193 non-null  datetime64[ns]\n",
            " 1   Location       142193 non-null  object        \n",
            " 2   MinTemp        141556 non-null  float64       \n",
            " 3   MaxTemp        141871 non-null  float64       \n",
            " 4   Rainfall       140787 non-null  float64       \n",
            " 5   Evaporation    81350 non-null   float64       \n",
            " 6   Sunshine       74377 non-null   float64       \n",
            " 7   WindGustDir    132863 non-null  object        \n",
            " 8   WindGustSpeed  132923 non-null  float64       \n",
            " 9   WindDir9am     132180 non-null  object        \n",
            " 10  WindDir3pm     138415 non-null  object        \n",
            " 11  WindSpeed9am   140845 non-null  float64       \n",
            " 12  WindSpeed3pm   139563 non-null  float64       \n",
            " 13  Humidity9am    140419 non-null  float64       \n",
            " 14  Humidity3pm    138583 non-null  float64       \n",
            " 15  Pressure9am    128179 non-null  float64       \n",
            " 16  Pressure3pm    128212 non-null  float64       \n",
            " 17  Cloud9am       88536 non-null   float64       \n",
            " 18  Cloud3pm       85099 non-null   float64       \n",
            " 19  Temp9am        141289 non-null  float64       \n",
            " 20  Temp3pm        139467 non-null  float64       \n",
            " 21  RainToday      140787 non-null  object        \n",
            " 22  RainTomorrow   142193 non-null  object        \n",
            " 23  Year           142193 non-null  int32         \n",
            " 24  Month          142193 non-null  int32         \n",
            " 25  Day            142193 non-null  int32         \n",
            "dtypes: datetime64[ns](1), float64(16), int32(3), object(6)\n",
            "memory usage: 26.6+ MB\n"
          ]
        }
      ],
      "source": [
        "# again view the summary of dataset\n",
        "\n",
        "df.info()"
      ]
    },
    {
      "cell_type": "markdown",
      "metadata": {
        "id": "FoXx9hx7B08j"
      },
      "source": [
        "We can see that there are three additional columns created from `Date` variable. Now, I will drop the original `Date` variable from the dataset."
      ]
    },
    {
      "cell_type": "code",
      "execution_count": 28,
      "metadata": {
        "id": "FB505JQ7B08k"
      },
      "outputs": [],
      "source": [
        "# drop the original Date variable\n",
        "\n",
        "df.drop('Date', axis=1, inplace = True)"
      ]
    },
    {
      "cell_type": "code",
      "execution_count": 29,
      "metadata": {
        "colab": {
          "base_uri": "https://localhost:8080/",
          "height": 255
        },
        "id": "dfAo-3pgB08k",
        "outputId": "853c384f-f8b4-43e7-eece-403ae29c41b7"
      },
      "outputs": [
        {
          "data": {
            "text/html": [
              "<div>\n",
              "<style scoped>\n",
              "    .dataframe tbody tr th:only-of-type {\n",
              "        vertical-align: middle;\n",
              "    }\n",
              "\n",
              "    .dataframe tbody tr th {\n",
              "        vertical-align: top;\n",
              "    }\n",
              "\n",
              "    .dataframe thead th {\n",
              "        text-align: right;\n",
              "    }\n",
              "</style>\n",
              "<table border=\"1\" class=\"dataframe\">\n",
              "  <thead>\n",
              "    <tr style=\"text-align: right;\">\n",
              "      <th></th>\n",
              "      <th>Location</th>\n",
              "      <th>MinTemp</th>\n",
              "      <th>MaxTemp</th>\n",
              "      <th>Rainfall</th>\n",
              "      <th>Evaporation</th>\n",
              "      <th>Sunshine</th>\n",
              "      <th>WindGustDir</th>\n",
              "      <th>WindGustSpeed</th>\n",
              "      <th>WindDir9am</th>\n",
              "      <th>WindDir3pm</th>\n",
              "      <th>...</th>\n",
              "      <th>Pressure3pm</th>\n",
              "      <th>Cloud9am</th>\n",
              "      <th>Cloud3pm</th>\n",
              "      <th>Temp9am</th>\n",
              "      <th>Temp3pm</th>\n",
              "      <th>RainToday</th>\n",
              "      <th>RainTomorrow</th>\n",
              "      <th>Year</th>\n",
              "      <th>Month</th>\n",
              "      <th>Day</th>\n",
              "    </tr>\n",
              "  </thead>\n",
              "  <tbody>\n",
              "    <tr>\n",
              "      <th>0</th>\n",
              "      <td>Albury</td>\n",
              "      <td>13.4</td>\n",
              "      <td>22.9</td>\n",
              "      <td>0.6</td>\n",
              "      <td>NaN</td>\n",
              "      <td>NaN</td>\n",
              "      <td>W</td>\n",
              "      <td>44.0</td>\n",
              "      <td>W</td>\n",
              "      <td>WNW</td>\n",
              "      <td>...</td>\n",
              "      <td>1007.1</td>\n",
              "      <td>8.0</td>\n",
              "      <td>NaN</td>\n",
              "      <td>16.9</td>\n",
              "      <td>21.8</td>\n",
              "      <td>No</td>\n",
              "      <td>No</td>\n",
              "      <td>2008</td>\n",
              "      <td>12</td>\n",
              "      <td>1</td>\n",
              "    </tr>\n",
              "    <tr>\n",
              "      <th>1</th>\n",
              "      <td>Albury</td>\n",
              "      <td>7.4</td>\n",
              "      <td>25.1</td>\n",
              "      <td>0.0</td>\n",
              "      <td>NaN</td>\n",
              "      <td>NaN</td>\n",
              "      <td>WNW</td>\n",
              "      <td>44.0</td>\n",
              "      <td>NNW</td>\n",
              "      <td>WSW</td>\n",
              "      <td>...</td>\n",
              "      <td>1007.8</td>\n",
              "      <td>NaN</td>\n",
              "      <td>NaN</td>\n",
              "      <td>17.2</td>\n",
              "      <td>24.3</td>\n",
              "      <td>No</td>\n",
              "      <td>No</td>\n",
              "      <td>2008</td>\n",
              "      <td>12</td>\n",
              "      <td>2</td>\n",
              "    </tr>\n",
              "    <tr>\n",
              "      <th>2</th>\n",
              "      <td>Albury</td>\n",
              "      <td>12.9</td>\n",
              "      <td>25.7</td>\n",
              "      <td>0.0</td>\n",
              "      <td>NaN</td>\n",
              "      <td>NaN</td>\n",
              "      <td>WSW</td>\n",
              "      <td>46.0</td>\n",
              "      <td>W</td>\n",
              "      <td>WSW</td>\n",
              "      <td>...</td>\n",
              "      <td>1008.7</td>\n",
              "      <td>NaN</td>\n",
              "      <td>2.0</td>\n",
              "      <td>21.0</td>\n",
              "      <td>23.2</td>\n",
              "      <td>No</td>\n",
              "      <td>No</td>\n",
              "      <td>2008</td>\n",
              "      <td>12</td>\n",
              "      <td>3</td>\n",
              "    </tr>\n",
              "    <tr>\n",
              "      <th>3</th>\n",
              "      <td>Albury</td>\n",
              "      <td>9.2</td>\n",
              "      <td>28.0</td>\n",
              "      <td>0.0</td>\n",
              "      <td>NaN</td>\n",
              "      <td>NaN</td>\n",
              "      <td>NE</td>\n",
              "      <td>24.0</td>\n",
              "      <td>SE</td>\n",
              "      <td>E</td>\n",
              "      <td>...</td>\n",
              "      <td>1012.8</td>\n",
              "      <td>NaN</td>\n",
              "      <td>NaN</td>\n",
              "      <td>18.1</td>\n",
              "      <td>26.5</td>\n",
              "      <td>No</td>\n",
              "      <td>No</td>\n",
              "      <td>2008</td>\n",
              "      <td>12</td>\n",
              "      <td>4</td>\n",
              "    </tr>\n",
              "    <tr>\n",
              "      <th>4</th>\n",
              "      <td>Albury</td>\n",
              "      <td>17.5</td>\n",
              "      <td>32.3</td>\n",
              "      <td>1.0</td>\n",
              "      <td>NaN</td>\n",
              "      <td>NaN</td>\n",
              "      <td>W</td>\n",
              "      <td>41.0</td>\n",
              "      <td>ENE</td>\n",
              "      <td>NW</td>\n",
              "      <td>...</td>\n",
              "      <td>1006.0</td>\n",
              "      <td>7.0</td>\n",
              "      <td>8.0</td>\n",
              "      <td>17.8</td>\n",
              "      <td>29.7</td>\n",
              "      <td>No</td>\n",
              "      <td>No</td>\n",
              "      <td>2008</td>\n",
              "      <td>12</td>\n",
              "      <td>5</td>\n",
              "    </tr>\n",
              "  </tbody>\n",
              "</table>\n",
              "<p>5 rows × 25 columns</p>\n",
              "</div>"
            ],
            "text/plain": [
              "  Location  MinTemp  MaxTemp  Rainfall  Evaporation  Sunshine WindGustDir  \\\n",
              "0   Albury     13.4     22.9       0.6          NaN       NaN           W   \n",
              "1   Albury      7.4     25.1       0.0          NaN       NaN         WNW   \n",
              "2   Albury     12.9     25.7       0.0          NaN       NaN         WSW   \n",
              "3   Albury      9.2     28.0       0.0          NaN       NaN          NE   \n",
              "4   Albury     17.5     32.3       1.0          NaN       NaN           W   \n",
              "\n",
              "   WindGustSpeed WindDir9am WindDir3pm  ...  Pressure3pm  Cloud9am  Cloud3pm  \\\n",
              "0           44.0          W        WNW  ...       1007.1       8.0       NaN   \n",
              "1           44.0        NNW        WSW  ...       1007.8       NaN       NaN   \n",
              "2           46.0          W        WSW  ...       1008.7       NaN       2.0   \n",
              "3           24.0         SE          E  ...       1012.8       NaN       NaN   \n",
              "4           41.0        ENE         NW  ...       1006.0       7.0       8.0   \n",
              "\n",
              "   Temp9am  Temp3pm  RainToday  RainTomorrow  Year  Month  Day  \n",
              "0     16.9     21.8         No            No  2008     12    1  \n",
              "1     17.2     24.3         No            No  2008     12    2  \n",
              "2     21.0     23.2         No            No  2008     12    3  \n",
              "3     18.1     26.5         No            No  2008     12    4  \n",
              "4     17.8     29.7         No            No  2008     12    5  \n",
              "\n",
              "[5 rows x 25 columns]"
            ]
          },
          "execution_count": 29,
          "metadata": {},
          "output_type": "execute_result"
        }
      ],
      "source": [
        "# preview the dataset again\n",
        "\n",
        "df.head()"
      ]
    },
    {
      "cell_type": "markdown",
      "metadata": {
        "id": "3nFOQuXDB08k"
      },
      "source": [
        "Now, we can see that the `Date` variable has been removed from the dataset.\n"
      ]
    },
    {
      "cell_type": "markdown",
      "metadata": {
        "id": "OfehTHOuB08k"
      },
      "source": [
        "### Explore Categorical Variables\n",
        "\n",
        "\n",
        "Now, I will explore the categorical variables one by one."
      ]
    },
    {
      "cell_type": "code",
      "execution_count": 30,
      "metadata": {
        "colab": {
          "base_uri": "https://localhost:8080/"
        },
        "id": "X6Nc9wcYB08k",
        "outputId": "5ec29fac-25ba-4ef8-aae1-88b52c639b7e"
      },
      "outputs": [
        {
          "name": "stdout",
          "output_type": "stream",
          "text": [
            "There are 6 categorical variables\n",
            "\n",
            "The categorical variables are : ['Location', 'WindGustDir', 'WindDir9am', 'WindDir3pm', 'RainToday', 'RainTomorrow']\n"
          ]
        }
      ],
      "source": [
        "# find categorical variables\n",
        "# Fill the Gap\n",
        "\n",
        "categorical = [var for var in df.columns if df[var].dtype=='O']\n",
        "\n",
        "print('There are {} categorical variables\\n'.format(len(categorical)))\n",
        "\n",
        "print('The categorical variables are :', categorical)"
      ]
    },
    {
      "cell_type": "markdown",
      "metadata": {
        "id": "uew0B3BVB08k"
      },
      "source": [
        "We can see that there are 6 categorical variables in the dataset. The `Date` variable has been removed. First, I will check missing values in categorical variables."
      ]
    },
    {
      "cell_type": "code",
      "execution_count": 31,
      "metadata": {
        "colab": {
          "base_uri": "https://localhost:8080/",
          "height": 272
        },
        "id": "IR-ulScIB08k",
        "outputId": "69518c37-f76f-43b1-a323-ef346b89d374"
      },
      "outputs": [
        {
          "data": {
            "text/plain": [
              "Location            0\n",
              "WindGustDir      9330\n",
              "WindDir9am      10013\n",
              "WindDir3pm       3778\n",
              "RainToday        1406\n",
              "RainTomorrow        0\n",
              "dtype: int64"
            ]
          },
          "execution_count": 31,
          "metadata": {},
          "output_type": "execute_result"
        }
      ],
      "source": [
        "# check for missing values in categorical variables\n",
        "\n",
        "df[categorical].isnull().sum()"
      ]
    },
    {
      "cell_type": "markdown",
      "metadata": {
        "id": "iFKfCCdyB08l"
      },
      "source": [
        "We can see that `WindGustDir`, `WindDir9am`, `WindDir3pm`, `RainToday` variables contain missing values. I will explore these variables one by one."
      ]
    },
    {
      "cell_type": "markdown",
      "metadata": {
        "id": "On_o2bBVB08l"
      },
      "source": [
        "### Explore `Location` variable"
      ]
    },
    {
      "cell_type": "code",
      "execution_count": 32,
      "metadata": {
        "colab": {
          "base_uri": "https://localhost:8080/"
        },
        "id": "-K-UhZyVB08l",
        "outputId": "01829177-4af4-4f30-bc05-8048984a1bca"
      },
      "outputs": [
        {
          "name": "stdout",
          "output_type": "stream",
          "text": [
            "Location contains 49 labels\n"
          ]
        }
      ],
      "source": [
        "# print number of labels in Location variable\n",
        "# Fill the Gap\n",
        "\n",
        "print('Location contains', len(df['Location'].unique()), 'labels')"
      ]
    },
    {
      "cell_type": "code",
      "execution_count": 33,
      "metadata": {
        "colab": {
          "base_uri": "https://localhost:8080/"
        },
        "id": "vCKPdUdNB08l",
        "outputId": "e0ba2987-4034-401a-ba66-0e390b3a5698"
      },
      "outputs": [
        {
          "data": {
            "text/plain": [
              "array(['Albury', 'BadgerysCreek', 'Cobar', 'CoffsHarbour', 'Moree',\n",
              "       'Newcastle', 'NorahHead', 'NorfolkIsland', 'Penrith', 'Richmond',\n",
              "       'Sydney', 'SydneyAirport', 'WaggaWagga', 'Williamtown',\n",
              "       'Wollongong', 'Canberra', 'Tuggeranong', 'MountGinini', 'Ballarat',\n",
              "       'Bendigo', 'Sale', 'MelbourneAirport', 'Melbourne', 'Mildura',\n",
              "       'Nhil', 'Portland', 'Watsonia', 'Dartmoor', 'Brisbane', 'Cairns',\n",
              "       'GoldCoast', 'Townsville', 'Adelaide', 'MountGambier', 'Nuriootpa',\n",
              "       'Woomera', 'Albany', 'Witchcliffe', 'PearceRAAF', 'PerthAirport',\n",
              "       'Perth', 'SalmonGums', 'Walpole', 'Hobart', 'Launceston',\n",
              "       'AliceSprings', 'Darwin', 'Katherine', 'Uluru'], dtype=object)"
            ]
          },
          "execution_count": 33,
          "metadata": {},
          "output_type": "execute_result"
        }
      ],
      "source": [
        "# check labels in location variable\n",
        "\n",
        "df.Location.unique()"
      ]
    },
    {
      "cell_type": "code",
      "execution_count": 34,
      "metadata": {
        "colab": {
          "base_uri": "https://localhost:8080/",
          "height": 1000
        },
        "id": "nT1NZJyXB08l",
        "outputId": "7196ef3d-2dbd-4eb2-f90f-b5f614e54b95"
      },
      "outputs": [
        {
          "data": {
            "text/plain": [
              "Location\n",
              "Canberra            3418\n",
              "Sydney              3337\n",
              "Perth               3193\n",
              "Darwin              3192\n",
              "Hobart              3188\n",
              "Brisbane            3161\n",
              "Adelaide            3090\n",
              "Bendigo             3034\n",
              "Townsville          3033\n",
              "AliceSprings        3031\n",
              "MountGambier        3030\n",
              "Launceston          3028\n",
              "Ballarat            3028\n",
              "Albany              3016\n",
              "Albury              3011\n",
              "PerthAirport        3009\n",
              "MelbourneAirport    3009\n",
              "Mildura             3007\n",
              "SydneyAirport       3005\n",
              "Nuriootpa           3002\n",
              "Sale                3000\n",
              "Watsonia            2999\n",
              "Tuggeranong         2998\n",
              "Portland            2996\n",
              "Woomera             2990\n",
              "Cairns              2988\n",
              "Cobar               2988\n",
              "Wollongong          2983\n",
              "GoldCoast           2980\n",
              "WaggaWagga          2976\n",
              "Penrith             2964\n",
              "NorfolkIsland       2964\n",
              "SalmonGums          2955\n",
              "Newcastle           2955\n",
              "CoffsHarbour        2953\n",
              "Witchcliffe         2952\n",
              "Richmond            2951\n",
              "Dartmoor            2943\n",
              "NorahHead           2929\n",
              "BadgerysCreek       2928\n",
              "MountGinini         2907\n",
              "Moree               2854\n",
              "Walpole             2819\n",
              "PearceRAAF          2762\n",
              "Williamtown         2553\n",
              "Melbourne           2435\n",
              "Nhil                1569\n",
              "Katherine           1559\n",
              "Uluru               1521\n",
              "Name: count, dtype: int64"
            ]
          },
          "execution_count": 34,
          "metadata": {},
          "output_type": "execute_result"
        }
      ],
      "source": [
        "# check frequency distribution of values in Location variable\n",
        "\n",
        "df.Location.value_counts()"
      ]
    },
    {
      "cell_type": "code",
      "execution_count": 35,
      "metadata": {
        "colab": {
          "base_uri": "https://localhost:8080/",
          "height": 255
        },
        "id": "8CvlcG4ZB08m",
        "outputId": "dd0aa977-8f78-4a50-eef1-6043dc2cd133"
      },
      "outputs": [
        {
          "data": {
            "text/html": [
              "<div>\n",
              "<style scoped>\n",
              "    .dataframe tbody tr th:only-of-type {\n",
              "        vertical-align: middle;\n",
              "    }\n",
              "\n",
              "    .dataframe tbody tr th {\n",
              "        vertical-align: top;\n",
              "    }\n",
              "\n",
              "    .dataframe thead th {\n",
              "        text-align: right;\n",
              "    }\n",
              "</style>\n",
              "<table border=\"1\" class=\"dataframe\">\n",
              "  <thead>\n",
              "    <tr style=\"text-align: right;\">\n",
              "      <th></th>\n",
              "      <th>Albany</th>\n",
              "      <th>Albury</th>\n",
              "      <th>AliceSprings</th>\n",
              "      <th>BadgerysCreek</th>\n",
              "      <th>Ballarat</th>\n",
              "      <th>Bendigo</th>\n",
              "      <th>Brisbane</th>\n",
              "      <th>Cairns</th>\n",
              "      <th>Canberra</th>\n",
              "      <th>Cobar</th>\n",
              "      <th>...</th>\n",
              "      <th>Townsville</th>\n",
              "      <th>Tuggeranong</th>\n",
              "      <th>Uluru</th>\n",
              "      <th>WaggaWagga</th>\n",
              "      <th>Walpole</th>\n",
              "      <th>Watsonia</th>\n",
              "      <th>Williamtown</th>\n",
              "      <th>Witchcliffe</th>\n",
              "      <th>Wollongong</th>\n",
              "      <th>Woomera</th>\n",
              "    </tr>\n",
              "  </thead>\n",
              "  <tbody>\n",
              "    <tr>\n",
              "      <th>0</th>\n",
              "      <td>False</td>\n",
              "      <td>True</td>\n",
              "      <td>False</td>\n",
              "      <td>False</td>\n",
              "      <td>False</td>\n",
              "      <td>False</td>\n",
              "      <td>False</td>\n",
              "      <td>False</td>\n",
              "      <td>False</td>\n",
              "      <td>False</td>\n",
              "      <td>...</td>\n",
              "      <td>False</td>\n",
              "      <td>False</td>\n",
              "      <td>False</td>\n",
              "      <td>False</td>\n",
              "      <td>False</td>\n",
              "      <td>False</td>\n",
              "      <td>False</td>\n",
              "      <td>False</td>\n",
              "      <td>False</td>\n",
              "      <td>False</td>\n",
              "    </tr>\n",
              "    <tr>\n",
              "      <th>1</th>\n",
              "      <td>False</td>\n",
              "      <td>True</td>\n",
              "      <td>False</td>\n",
              "      <td>False</td>\n",
              "      <td>False</td>\n",
              "      <td>False</td>\n",
              "      <td>False</td>\n",
              "      <td>False</td>\n",
              "      <td>False</td>\n",
              "      <td>False</td>\n",
              "      <td>...</td>\n",
              "      <td>False</td>\n",
              "      <td>False</td>\n",
              "      <td>False</td>\n",
              "      <td>False</td>\n",
              "      <td>False</td>\n",
              "      <td>False</td>\n",
              "      <td>False</td>\n",
              "      <td>False</td>\n",
              "      <td>False</td>\n",
              "      <td>False</td>\n",
              "    </tr>\n",
              "    <tr>\n",
              "      <th>2</th>\n",
              "      <td>False</td>\n",
              "      <td>True</td>\n",
              "      <td>False</td>\n",
              "      <td>False</td>\n",
              "      <td>False</td>\n",
              "      <td>False</td>\n",
              "      <td>False</td>\n",
              "      <td>False</td>\n",
              "      <td>False</td>\n",
              "      <td>False</td>\n",
              "      <td>...</td>\n",
              "      <td>False</td>\n",
              "      <td>False</td>\n",
              "      <td>False</td>\n",
              "      <td>False</td>\n",
              "      <td>False</td>\n",
              "      <td>False</td>\n",
              "      <td>False</td>\n",
              "      <td>False</td>\n",
              "      <td>False</td>\n",
              "      <td>False</td>\n",
              "    </tr>\n",
              "    <tr>\n",
              "      <th>3</th>\n",
              "      <td>False</td>\n",
              "      <td>True</td>\n",
              "      <td>False</td>\n",
              "      <td>False</td>\n",
              "      <td>False</td>\n",
              "      <td>False</td>\n",
              "      <td>False</td>\n",
              "      <td>False</td>\n",
              "      <td>False</td>\n",
              "      <td>False</td>\n",
              "      <td>...</td>\n",
              "      <td>False</td>\n",
              "      <td>False</td>\n",
              "      <td>False</td>\n",
              "      <td>False</td>\n",
              "      <td>False</td>\n",
              "      <td>False</td>\n",
              "      <td>False</td>\n",
              "      <td>False</td>\n",
              "      <td>False</td>\n",
              "      <td>False</td>\n",
              "    </tr>\n",
              "    <tr>\n",
              "      <th>4</th>\n",
              "      <td>False</td>\n",
              "      <td>True</td>\n",
              "      <td>False</td>\n",
              "      <td>False</td>\n",
              "      <td>False</td>\n",
              "      <td>False</td>\n",
              "      <td>False</td>\n",
              "      <td>False</td>\n",
              "      <td>False</td>\n",
              "      <td>False</td>\n",
              "      <td>...</td>\n",
              "      <td>False</td>\n",
              "      <td>False</td>\n",
              "      <td>False</td>\n",
              "      <td>False</td>\n",
              "      <td>False</td>\n",
              "      <td>False</td>\n",
              "      <td>False</td>\n",
              "      <td>False</td>\n",
              "      <td>False</td>\n",
              "      <td>False</td>\n",
              "    </tr>\n",
              "  </tbody>\n",
              "</table>\n",
              "<p>5 rows × 48 columns</p>\n",
              "</div>"
            ],
            "text/plain": [
              "   Albany  Albury  AliceSprings  BadgerysCreek  Ballarat  Bendigo  Brisbane  \\\n",
              "0   False    True         False          False     False    False     False   \n",
              "1   False    True         False          False     False    False     False   \n",
              "2   False    True         False          False     False    False     False   \n",
              "3   False    True         False          False     False    False     False   \n",
              "4   False    True         False          False     False    False     False   \n",
              "\n",
              "   Cairns  Canberra  Cobar  ...  Townsville  Tuggeranong  Uluru  WaggaWagga  \\\n",
              "0   False     False  False  ...       False        False  False       False   \n",
              "1   False     False  False  ...       False        False  False       False   \n",
              "2   False     False  False  ...       False        False  False       False   \n",
              "3   False     False  False  ...       False        False  False       False   \n",
              "4   False     False  False  ...       False        False  False       False   \n",
              "\n",
              "   Walpole  Watsonia  Williamtown  Witchcliffe  Wollongong  Woomera  \n",
              "0    False     False        False        False       False    False  \n",
              "1    False     False        False        False       False    False  \n",
              "2    False     False        False        False       False    False  \n",
              "3    False     False        False        False       False    False  \n",
              "4    False     False        False        False       False    False  \n",
              "\n",
              "[5 rows x 48 columns]"
            ]
          },
          "execution_count": 35,
          "metadata": {},
          "output_type": "execute_result"
        }
      ],
      "source": [
        "# let's do One Hot Encoding of Location variable\n",
        "# get k-1 dummy variables after One Hot Encoding\n",
        "# preview the dataset with head() method\n",
        "\n",
        "pd.get_dummies(df.Location, drop_first=True).head()"
      ]
    },
    {
      "cell_type": "markdown",
      "metadata": {
        "id": "_361TUQyB08m"
      },
      "source": [
        "### Explore `WindGustDir` variable"
      ]
    },
    {
      "cell_type": "code",
      "execution_count": 36,
      "metadata": {
        "colab": {
          "base_uri": "https://localhost:8080/"
        },
        "id": "_HKhVSbKB08m",
        "outputId": "c4c9aa08-935f-439e-9225-2180ec6e0996"
      },
      "outputs": [
        {
          "name": "stdout",
          "output_type": "stream",
          "text": [
            "WindGustDir contains 17 labels\n"
          ]
        }
      ],
      "source": [
        "# print number of labels in WindGustDir variable\n",
        "# Fill the Gap\n",
        "\n",
        "print('WindGustDir contains', len(df['WindGustDir'].unique()), 'labels')"
      ]
    },
    {
      "cell_type": "code",
      "execution_count": 38,
      "metadata": {
        "colab": {
          "base_uri": "https://localhost:8080/"
        },
        "id": "nXDbNv0CB08m",
        "outputId": "cbf2ddc6-fce2-49c8-eb72-8019867121eb"
      },
      "outputs": [
        {
          "data": {
            "text/plain": [
              "array(['W', 'WNW', 'WSW', 'NE', 'NNW', 'N', 'NNE', 'SW', 'ENE', 'SSE',\n",
              "       'S', 'NW', 'SE', 'ESE', nan, 'E', 'SSW'], dtype=object)"
            ]
          },
          "execution_count": 38,
          "metadata": {},
          "output_type": "execute_result"
        }
      ],
      "source": [
        "# check labels in WindGustDir variable\n",
        "\n",
        "df['WindGustDir'].unique()"
      ]
    },
    {
      "cell_type": "code",
      "execution_count": 39,
      "metadata": {
        "colab": {
          "base_uri": "https://localhost:8080/",
          "height": 617
        },
        "id": "FgfRJ8V7B08m",
        "outputId": "0f672e88-544b-497b-9eff-89d7c7d2011e"
      },
      "outputs": [
        {
          "data": {
            "text/plain": [
              "WindGustDir\n",
              "W      9780\n",
              "SE     9309\n",
              "E      9071\n",
              "N      9033\n",
              "SSE    8993\n",
              "S      8949\n",
              "WSW    8901\n",
              "SW     8797\n",
              "SSW    8610\n",
              "WNW    8066\n",
              "NW     8003\n",
              "ENE    7992\n",
              "ESE    7305\n",
              "NE     7060\n",
              "NNW    6561\n",
              "NNE    6433\n",
              "Name: count, dtype: int64"
            ]
          },
          "execution_count": 39,
          "metadata": {},
          "output_type": "execute_result"
        }
      ],
      "source": [
        "# check frequency distribution of values in WindGustDir variable\n",
        "\n",
        "df.WindGustDir.value_counts()"
      ]
    },
    {
      "cell_type": "code",
      "execution_count": 40,
      "metadata": {
        "colab": {
          "base_uri": "https://localhost:8080/",
          "height": 206
        },
        "id": "pzdedUq_B08m",
        "outputId": "b24c0deb-6d92-49c2-cda6-07a13e30f70d"
      },
      "outputs": [
        {
          "data": {
            "text/html": [
              "<div>\n",
              "<style scoped>\n",
              "    .dataframe tbody tr th:only-of-type {\n",
              "        vertical-align: middle;\n",
              "    }\n",
              "\n",
              "    .dataframe tbody tr th {\n",
              "        vertical-align: top;\n",
              "    }\n",
              "\n",
              "    .dataframe thead th {\n",
              "        text-align: right;\n",
              "    }\n",
              "</style>\n",
              "<table border=\"1\" class=\"dataframe\">\n",
              "  <thead>\n",
              "    <tr style=\"text-align: right;\">\n",
              "      <th></th>\n",
              "      <th>ENE</th>\n",
              "      <th>ESE</th>\n",
              "      <th>N</th>\n",
              "      <th>NE</th>\n",
              "      <th>NNE</th>\n",
              "      <th>NNW</th>\n",
              "      <th>NW</th>\n",
              "      <th>S</th>\n",
              "      <th>SE</th>\n",
              "      <th>SSE</th>\n",
              "      <th>SSW</th>\n",
              "      <th>SW</th>\n",
              "      <th>W</th>\n",
              "      <th>WNW</th>\n",
              "      <th>WSW</th>\n",
              "      <th>NaN</th>\n",
              "    </tr>\n",
              "  </thead>\n",
              "  <tbody>\n",
              "    <tr>\n",
              "      <th>0</th>\n",
              "      <td>False</td>\n",
              "      <td>False</td>\n",
              "      <td>False</td>\n",
              "      <td>False</td>\n",
              "      <td>False</td>\n",
              "      <td>False</td>\n",
              "      <td>False</td>\n",
              "      <td>False</td>\n",
              "      <td>False</td>\n",
              "      <td>False</td>\n",
              "      <td>False</td>\n",
              "      <td>False</td>\n",
              "      <td>True</td>\n",
              "      <td>False</td>\n",
              "      <td>False</td>\n",
              "      <td>False</td>\n",
              "    </tr>\n",
              "    <tr>\n",
              "      <th>1</th>\n",
              "      <td>False</td>\n",
              "      <td>False</td>\n",
              "      <td>False</td>\n",
              "      <td>False</td>\n",
              "      <td>False</td>\n",
              "      <td>False</td>\n",
              "      <td>False</td>\n",
              "      <td>False</td>\n",
              "      <td>False</td>\n",
              "      <td>False</td>\n",
              "      <td>False</td>\n",
              "      <td>False</td>\n",
              "      <td>False</td>\n",
              "      <td>True</td>\n",
              "      <td>False</td>\n",
              "      <td>False</td>\n",
              "    </tr>\n",
              "    <tr>\n",
              "      <th>2</th>\n",
              "      <td>False</td>\n",
              "      <td>False</td>\n",
              "      <td>False</td>\n",
              "      <td>False</td>\n",
              "      <td>False</td>\n",
              "      <td>False</td>\n",
              "      <td>False</td>\n",
              "      <td>False</td>\n",
              "      <td>False</td>\n",
              "      <td>False</td>\n",
              "      <td>False</td>\n",
              "      <td>False</td>\n",
              "      <td>False</td>\n",
              "      <td>False</td>\n",
              "      <td>True</td>\n",
              "      <td>False</td>\n",
              "    </tr>\n",
              "    <tr>\n",
              "      <th>3</th>\n",
              "      <td>False</td>\n",
              "      <td>False</td>\n",
              "      <td>False</td>\n",
              "      <td>True</td>\n",
              "      <td>False</td>\n",
              "      <td>False</td>\n",
              "      <td>False</td>\n",
              "      <td>False</td>\n",
              "      <td>False</td>\n",
              "      <td>False</td>\n",
              "      <td>False</td>\n",
              "      <td>False</td>\n",
              "      <td>False</td>\n",
              "      <td>False</td>\n",
              "      <td>False</td>\n",
              "      <td>False</td>\n",
              "    </tr>\n",
              "    <tr>\n",
              "      <th>4</th>\n",
              "      <td>False</td>\n",
              "      <td>False</td>\n",
              "      <td>False</td>\n",
              "      <td>False</td>\n",
              "      <td>False</td>\n",
              "      <td>False</td>\n",
              "      <td>False</td>\n",
              "      <td>False</td>\n",
              "      <td>False</td>\n",
              "      <td>False</td>\n",
              "      <td>False</td>\n",
              "      <td>False</td>\n",
              "      <td>True</td>\n",
              "      <td>False</td>\n",
              "      <td>False</td>\n",
              "      <td>False</td>\n",
              "    </tr>\n",
              "  </tbody>\n",
              "</table>\n",
              "</div>"
            ],
            "text/plain": [
              "     ENE    ESE      N     NE    NNE    NNW     NW      S     SE    SSE  \\\n",
              "0  False  False  False  False  False  False  False  False  False  False   \n",
              "1  False  False  False  False  False  False  False  False  False  False   \n",
              "2  False  False  False  False  False  False  False  False  False  False   \n",
              "3  False  False  False   True  False  False  False  False  False  False   \n",
              "4  False  False  False  False  False  False  False  False  False  False   \n",
              "\n",
              "     SSW     SW      W    WNW    WSW    NaN  \n",
              "0  False  False   True  False  False  False  \n",
              "1  False  False  False   True  False  False  \n",
              "2  False  False  False  False   True  False  \n",
              "3  False  False  False  False  False  False  \n",
              "4  False  False   True  False  False  False  "
            ]
          },
          "execution_count": 40,
          "metadata": {},
          "output_type": "execute_result"
        }
      ],
      "source": [
        "# let's do One Hot Encoding of WindGustDir variable\n",
        "# get k-1 dummy variables after One Hot Encoding\n",
        "# also add an additional dummy variable to indicate there was missing data\n",
        "# preview the dataset with head() method\n",
        "\n",
        "pd.get_dummies(df.WindGustDir, drop_first=True, dummy_na=True).head()"
      ]
    },
    {
      "cell_type": "code",
      "execution_count": 41,
      "metadata": {
        "colab": {
          "base_uri": "https://localhost:8080/",
          "height": 585
        },
        "id": "gq-iYAKhB08n",
        "outputId": "f0dff0a4-d0ef-4ae5-9cbb-f6c5e47e774f"
      },
      "outputs": [
        {
          "data": {
            "text/plain": [
              "ENE    7992\n",
              "ESE    7305\n",
              "N      9033\n",
              "NE     7060\n",
              "NNE    6433\n",
              "NNW    6561\n",
              "NW     8003\n",
              "S      8949\n",
              "SE     9309\n",
              "SSE    8993\n",
              "SSW    8610\n",
              "SW     8797\n",
              "W      9780\n",
              "WNW    8066\n",
              "WSW    8901\n",
              "NaN    9330\n",
              "dtype: int64"
            ]
          },
          "execution_count": 41,
          "metadata": {},
          "output_type": "execute_result"
        }
      ],
      "source": [
        "# sum the number of 1s per boolean variable over the rows of the dataset\n",
        "# it will tell us how many observations we have for each category\n",
        "\n",
        "pd.get_dummies(df.WindGustDir, drop_first=True, dummy_na=True).sum(axis=0)"
      ]
    },
    {
      "cell_type": "markdown",
      "metadata": {
        "id": "ITwCDh6lB08n"
      },
      "source": [
        "We can see that there are 9330 missing values in WindGustDir variable."
      ]
    },
    {
      "cell_type": "markdown",
      "metadata": {
        "id": "0LOuPQxEB08n"
      },
      "source": [
        "### Explore `WindDir9am` variable"
      ]
    },
    {
      "cell_type": "code",
      "execution_count": 42,
      "metadata": {
        "colab": {
          "base_uri": "https://localhost:8080/"
        },
        "id": "pz7XaC7TB08n",
        "outputId": "2f5c28d1-5026-495b-b38e-09d0b37b7810"
      },
      "outputs": [
        {
          "name": "stdout",
          "output_type": "stream",
          "text": [
            "WindDir9am contains 17 labels\n"
          ]
        }
      ],
      "source": [
        "# print number of labels in WindDir9am variable\n",
        "# Fill the Gap\n",
        "\n",
        "print('WindDir9am contains', len(df['WindDir9am'].unique()), 'labels')"
      ]
    },
    {
      "cell_type": "code",
      "execution_count": 43,
      "metadata": {
        "colab": {
          "base_uri": "https://localhost:8080/"
        },
        "id": "IzsXLmmeB08n",
        "outputId": "8a56898e-1e91-4551-bf10-3941359bae0c"
      },
      "outputs": [
        {
          "data": {
            "text/plain": [
              "array(['W', 'NNW', 'SE', 'ENE', 'SW', 'SSE', 'S', 'NE', nan, 'SSW', 'N',\n",
              "       'WSW', 'ESE', 'E', 'NW', 'WNW', 'NNE'], dtype=object)"
            ]
          },
          "execution_count": 43,
          "metadata": {},
          "output_type": "execute_result"
        }
      ],
      "source": [
        "# check labels in WindDir9am variable\n",
        "\n",
        "df['WindDir9am'].unique()"
      ]
    },
    {
      "cell_type": "code",
      "execution_count": 44,
      "metadata": {
        "colab": {
          "base_uri": "https://localhost:8080/",
          "height": 617
        },
        "id": "0LHnHoodB08n",
        "outputId": "8a256c83-448e-41a0-8ec8-591ce62f438f"
      },
      "outputs": [
        {
          "data": {
            "text/plain": [
              "WindDir9am\n",
              "N      11393\n",
              "SE      9162\n",
              "E       9024\n",
              "SSE     8966\n",
              "NW      8552\n",
              "S       8493\n",
              "W       8260\n",
              "SW      8237\n",
              "NNE     7948\n",
              "NNW     7840\n",
              "ENE     7735\n",
              "ESE     7558\n",
              "NE      7527\n",
              "SSW     7448\n",
              "WNW     7194\n",
              "WSW     6843\n",
              "Name: count, dtype: int64"
            ]
          },
          "execution_count": 44,
          "metadata": {},
          "output_type": "execute_result"
        }
      ],
      "source": [
        "# check frequency distribution of values in WindDir9am variable\n",
        "\n",
        "df['WindDir9am'].value_counts()"
      ]
    },
    {
      "cell_type": "code",
      "execution_count": 45,
      "metadata": {
        "colab": {
          "base_uri": "https://localhost:8080/",
          "height": 206
        },
        "id": "s78XPy4HB08o",
        "outputId": "d3461868-11b8-4df0-a6a1-1ed3f3ffdb90"
      },
      "outputs": [
        {
          "data": {
            "text/html": [
              "<div>\n",
              "<style scoped>\n",
              "    .dataframe tbody tr th:only-of-type {\n",
              "        vertical-align: middle;\n",
              "    }\n",
              "\n",
              "    .dataframe tbody tr th {\n",
              "        vertical-align: top;\n",
              "    }\n",
              "\n",
              "    .dataframe thead th {\n",
              "        text-align: right;\n",
              "    }\n",
              "</style>\n",
              "<table border=\"1\" class=\"dataframe\">\n",
              "  <thead>\n",
              "    <tr style=\"text-align: right;\">\n",
              "      <th></th>\n",
              "      <th>ENE</th>\n",
              "      <th>ESE</th>\n",
              "      <th>N</th>\n",
              "      <th>NE</th>\n",
              "      <th>NNE</th>\n",
              "      <th>NNW</th>\n",
              "      <th>NW</th>\n",
              "      <th>S</th>\n",
              "      <th>SE</th>\n",
              "      <th>SSE</th>\n",
              "      <th>SSW</th>\n",
              "      <th>SW</th>\n",
              "      <th>W</th>\n",
              "      <th>WNW</th>\n",
              "      <th>WSW</th>\n",
              "      <th>NaN</th>\n",
              "    </tr>\n",
              "  </thead>\n",
              "  <tbody>\n",
              "    <tr>\n",
              "      <th>0</th>\n",
              "      <td>False</td>\n",
              "      <td>False</td>\n",
              "      <td>False</td>\n",
              "      <td>False</td>\n",
              "      <td>False</td>\n",
              "      <td>False</td>\n",
              "      <td>False</td>\n",
              "      <td>False</td>\n",
              "      <td>False</td>\n",
              "      <td>False</td>\n",
              "      <td>False</td>\n",
              "      <td>False</td>\n",
              "      <td>True</td>\n",
              "      <td>False</td>\n",
              "      <td>False</td>\n",
              "      <td>False</td>\n",
              "    </tr>\n",
              "    <tr>\n",
              "      <th>1</th>\n",
              "      <td>False</td>\n",
              "      <td>False</td>\n",
              "      <td>False</td>\n",
              "      <td>False</td>\n",
              "      <td>False</td>\n",
              "      <td>True</td>\n",
              "      <td>False</td>\n",
              "      <td>False</td>\n",
              "      <td>False</td>\n",
              "      <td>False</td>\n",
              "      <td>False</td>\n",
              "      <td>False</td>\n",
              "      <td>False</td>\n",
              "      <td>False</td>\n",
              "      <td>False</td>\n",
              "      <td>False</td>\n",
              "    </tr>\n",
              "    <tr>\n",
              "      <th>2</th>\n",
              "      <td>False</td>\n",
              "      <td>False</td>\n",
              "      <td>False</td>\n",
              "      <td>False</td>\n",
              "      <td>False</td>\n",
              "      <td>False</td>\n",
              "      <td>False</td>\n",
              "      <td>False</td>\n",
              "      <td>False</td>\n",
              "      <td>False</td>\n",
              "      <td>False</td>\n",
              "      <td>False</td>\n",
              "      <td>True</td>\n",
              "      <td>False</td>\n",
              "      <td>False</td>\n",
              "      <td>False</td>\n",
              "    </tr>\n",
              "    <tr>\n",
              "      <th>3</th>\n",
              "      <td>False</td>\n",
              "      <td>False</td>\n",
              "      <td>False</td>\n",
              "      <td>False</td>\n",
              "      <td>False</td>\n",
              "      <td>False</td>\n",
              "      <td>False</td>\n",
              "      <td>False</td>\n",
              "      <td>True</td>\n",
              "      <td>False</td>\n",
              "      <td>False</td>\n",
              "      <td>False</td>\n",
              "      <td>False</td>\n",
              "      <td>False</td>\n",
              "      <td>False</td>\n",
              "      <td>False</td>\n",
              "    </tr>\n",
              "    <tr>\n",
              "      <th>4</th>\n",
              "      <td>True</td>\n",
              "      <td>False</td>\n",
              "      <td>False</td>\n",
              "      <td>False</td>\n",
              "      <td>False</td>\n",
              "      <td>False</td>\n",
              "      <td>False</td>\n",
              "      <td>False</td>\n",
              "      <td>False</td>\n",
              "      <td>False</td>\n",
              "      <td>False</td>\n",
              "      <td>False</td>\n",
              "      <td>False</td>\n",
              "      <td>False</td>\n",
              "      <td>False</td>\n",
              "      <td>False</td>\n",
              "    </tr>\n",
              "  </tbody>\n",
              "</table>\n",
              "</div>"
            ],
            "text/plain": [
              "     ENE    ESE      N     NE    NNE    NNW     NW      S     SE    SSE  \\\n",
              "0  False  False  False  False  False  False  False  False  False  False   \n",
              "1  False  False  False  False  False   True  False  False  False  False   \n",
              "2  False  False  False  False  False  False  False  False  False  False   \n",
              "3  False  False  False  False  False  False  False  False   True  False   \n",
              "4   True  False  False  False  False  False  False  False  False  False   \n",
              "\n",
              "     SSW     SW      W    WNW    WSW    NaN  \n",
              "0  False  False   True  False  False  False  \n",
              "1  False  False  False  False  False  False  \n",
              "2  False  False   True  False  False  False  \n",
              "3  False  False  False  False  False  False  \n",
              "4  False  False  False  False  False  False  "
            ]
          },
          "execution_count": 45,
          "metadata": {},
          "output_type": "execute_result"
        }
      ],
      "source": [
        "# let's do One Hot Encoding of WindDir9am variable\n",
        "# get k-1 dummy variables after One Hot Encoding\n",
        "# also add an additional dummy variable to indicate there was missing data\n",
        "# preview the dataset with head() method\n",
        "\n",
        "pd.get_dummies(df.WindDir9am, drop_first=True, dummy_na=True).head()"
      ]
    },
    {
      "cell_type": "code",
      "execution_count": 46,
      "metadata": {
        "colab": {
          "base_uri": "https://localhost:8080/",
          "height": 585
        },
        "id": "nlrmYo6GB08o",
        "outputId": "02794f99-3368-4ebe-d852-4176fa7cf8fb"
      },
      "outputs": [
        {
          "data": {
            "text/plain": [
              "ENE     7735\n",
              "ESE     7558\n",
              "N      11393\n",
              "NE      7527\n",
              "NNE     7948\n",
              "NNW     7840\n",
              "NW      8552\n",
              "S       8493\n",
              "SE      9162\n",
              "SSE     8966\n",
              "SSW     7448\n",
              "SW      8237\n",
              "W       8260\n",
              "WNW     7194\n",
              "WSW     6843\n",
              "NaN    10013\n",
              "dtype: int64"
            ]
          },
          "execution_count": 46,
          "metadata": {},
          "output_type": "execute_result"
        }
      ],
      "source": [
        "# sum the number of 1s per boolean variable over the rows of the dataset\n",
        "# it will tell us how many observations we have for each category\n",
        "\n",
        "pd.get_dummies(df.WindDir9am, drop_first=True, dummy_na=True).sum(axis=0)"
      ]
    },
    {
      "cell_type": "markdown",
      "metadata": {
        "id": "Ovq2ZI3LB08o"
      },
      "source": [
        "We can see that there are 10013 missing values in the `WindDir9am` variable."
      ]
    },
    {
      "cell_type": "markdown",
      "metadata": {
        "id": "GAhcbdCVB08o"
      },
      "source": [
        "### Explore `WindDir3pm` variable"
      ]
    },
    {
      "cell_type": "code",
      "execution_count": 47,
      "metadata": {
        "colab": {
          "base_uri": "https://localhost:8080/"
        },
        "id": "r-hVjF0WB08o",
        "outputId": "55f0d34d-3e85-4fc6-b3ee-ecb3ab4fd1a8"
      },
      "outputs": [
        {
          "name": "stdout",
          "output_type": "stream",
          "text": [
            "WindDir3pm contains 17 labels\n"
          ]
        }
      ],
      "source": [
        "# print number of labels in WindDir3pm variable\n",
        "# Fill the Gap\n",
        "\n",
        "print('WindDir3pm contains', len(df['WindDir3pm'].unique()), 'labels')"
      ]
    },
    {
      "cell_type": "code",
      "execution_count": 48,
      "metadata": {
        "colab": {
          "base_uri": "https://localhost:8080/"
        },
        "id": "vI_DRHplB08o",
        "outputId": "30d8137d-5067-43d4-cf7e-2b3bac66947f"
      },
      "outputs": [
        {
          "data": {
            "text/plain": [
              "array(['WNW', 'WSW', 'E', 'NW', 'W', 'SSE', 'ESE', 'ENE', 'NNW', 'SSW',\n",
              "       'SW', 'SE', 'N', 'S', 'NNE', nan, 'NE'], dtype=object)"
            ]
          },
          "execution_count": 48,
          "metadata": {},
          "output_type": "execute_result"
        }
      ],
      "source": [
        "# check labels in WindDir3pm variable\n",
        "\n",
        "df['WindDir3pm'].unique()"
      ]
    },
    {
      "cell_type": "code",
      "execution_count": 49,
      "metadata": {
        "colab": {
          "base_uri": "https://localhost:8080/",
          "height": 617
        },
        "id": "zOxC0U3gB08p",
        "outputId": "3359599b-dd8d-429b-bec3-c4e525372bbf"
      },
      "outputs": [
        {
          "data": {
            "text/plain": [
              "WindDir3pm\n",
              "SE     10663\n",
              "W       9911\n",
              "S       9598\n",
              "WSW     9329\n",
              "SW      9182\n",
              "SSE     9142\n",
              "N       8667\n",
              "WNW     8656\n",
              "NW      8468\n",
              "ESE     8382\n",
              "E       8342\n",
              "NE      8164\n",
              "SSW     8010\n",
              "NNW     7733\n",
              "ENE     7724\n",
              "NNE     6444\n",
              "Name: count, dtype: int64"
            ]
          },
          "execution_count": 49,
          "metadata": {},
          "output_type": "execute_result"
        }
      ],
      "source": [
        "# check frequency distribution of values in WindDir3pm variable\n",
        "\n",
        "df['WindDir3pm'].value_counts()"
      ]
    },
    {
      "cell_type": "code",
      "execution_count": 50,
      "metadata": {
        "colab": {
          "base_uri": "https://localhost:8080/",
          "height": 206
        },
        "id": "Z-l4pJoqB08p",
        "outputId": "adc27451-2202-401c-ec4a-aabf4579b6be"
      },
      "outputs": [
        {
          "data": {
            "text/html": [
              "<div>\n",
              "<style scoped>\n",
              "    .dataframe tbody tr th:only-of-type {\n",
              "        vertical-align: middle;\n",
              "    }\n",
              "\n",
              "    .dataframe tbody tr th {\n",
              "        vertical-align: top;\n",
              "    }\n",
              "\n",
              "    .dataframe thead th {\n",
              "        text-align: right;\n",
              "    }\n",
              "</style>\n",
              "<table border=\"1\" class=\"dataframe\">\n",
              "  <thead>\n",
              "    <tr style=\"text-align: right;\">\n",
              "      <th></th>\n",
              "      <th>ENE</th>\n",
              "      <th>ESE</th>\n",
              "      <th>N</th>\n",
              "      <th>NE</th>\n",
              "      <th>NNE</th>\n",
              "      <th>NNW</th>\n",
              "      <th>NW</th>\n",
              "      <th>S</th>\n",
              "      <th>SE</th>\n",
              "      <th>SSE</th>\n",
              "      <th>SSW</th>\n",
              "      <th>SW</th>\n",
              "      <th>W</th>\n",
              "      <th>WNW</th>\n",
              "      <th>WSW</th>\n",
              "      <th>NaN</th>\n",
              "    </tr>\n",
              "  </thead>\n",
              "  <tbody>\n",
              "    <tr>\n",
              "      <th>0</th>\n",
              "      <td>False</td>\n",
              "      <td>False</td>\n",
              "      <td>False</td>\n",
              "      <td>False</td>\n",
              "      <td>False</td>\n",
              "      <td>False</td>\n",
              "      <td>False</td>\n",
              "      <td>False</td>\n",
              "      <td>False</td>\n",
              "      <td>False</td>\n",
              "      <td>False</td>\n",
              "      <td>False</td>\n",
              "      <td>False</td>\n",
              "      <td>True</td>\n",
              "      <td>False</td>\n",
              "      <td>False</td>\n",
              "    </tr>\n",
              "    <tr>\n",
              "      <th>1</th>\n",
              "      <td>False</td>\n",
              "      <td>False</td>\n",
              "      <td>False</td>\n",
              "      <td>False</td>\n",
              "      <td>False</td>\n",
              "      <td>False</td>\n",
              "      <td>False</td>\n",
              "      <td>False</td>\n",
              "      <td>False</td>\n",
              "      <td>False</td>\n",
              "      <td>False</td>\n",
              "      <td>False</td>\n",
              "      <td>False</td>\n",
              "      <td>False</td>\n",
              "      <td>True</td>\n",
              "      <td>False</td>\n",
              "    </tr>\n",
              "    <tr>\n",
              "      <th>2</th>\n",
              "      <td>False</td>\n",
              "      <td>False</td>\n",
              "      <td>False</td>\n",
              "      <td>False</td>\n",
              "      <td>False</td>\n",
              "      <td>False</td>\n",
              "      <td>False</td>\n",
              "      <td>False</td>\n",
              "      <td>False</td>\n",
              "      <td>False</td>\n",
              "      <td>False</td>\n",
              "      <td>False</td>\n",
              "      <td>False</td>\n",
              "      <td>False</td>\n",
              "      <td>True</td>\n",
              "      <td>False</td>\n",
              "    </tr>\n",
              "    <tr>\n",
              "      <th>3</th>\n",
              "      <td>False</td>\n",
              "      <td>False</td>\n",
              "      <td>False</td>\n",
              "      <td>False</td>\n",
              "      <td>False</td>\n",
              "      <td>False</td>\n",
              "      <td>False</td>\n",
              "      <td>False</td>\n",
              "      <td>False</td>\n",
              "      <td>False</td>\n",
              "      <td>False</td>\n",
              "      <td>False</td>\n",
              "      <td>False</td>\n",
              "      <td>False</td>\n",
              "      <td>False</td>\n",
              "      <td>False</td>\n",
              "    </tr>\n",
              "    <tr>\n",
              "      <th>4</th>\n",
              "      <td>False</td>\n",
              "      <td>False</td>\n",
              "      <td>False</td>\n",
              "      <td>False</td>\n",
              "      <td>False</td>\n",
              "      <td>False</td>\n",
              "      <td>True</td>\n",
              "      <td>False</td>\n",
              "      <td>False</td>\n",
              "      <td>False</td>\n",
              "      <td>False</td>\n",
              "      <td>False</td>\n",
              "      <td>False</td>\n",
              "      <td>False</td>\n",
              "      <td>False</td>\n",
              "      <td>False</td>\n",
              "    </tr>\n",
              "  </tbody>\n",
              "</table>\n",
              "</div>"
            ],
            "text/plain": [
              "     ENE    ESE      N     NE    NNE    NNW     NW      S     SE    SSE  \\\n",
              "0  False  False  False  False  False  False  False  False  False  False   \n",
              "1  False  False  False  False  False  False  False  False  False  False   \n",
              "2  False  False  False  False  False  False  False  False  False  False   \n",
              "3  False  False  False  False  False  False  False  False  False  False   \n",
              "4  False  False  False  False  False  False   True  False  False  False   \n",
              "\n",
              "     SSW     SW      W    WNW    WSW    NaN  \n",
              "0  False  False  False   True  False  False  \n",
              "1  False  False  False  False   True  False  \n",
              "2  False  False  False  False   True  False  \n",
              "3  False  False  False  False  False  False  \n",
              "4  False  False  False  False  False  False  "
            ]
          },
          "execution_count": 50,
          "metadata": {},
          "output_type": "execute_result"
        }
      ],
      "source": [
        "# let's do One Hot Encoding of WindDir3pm variable\n",
        "# get k-1 dummy variables after One Hot Encoding\n",
        "# also add an additional dummy variable to indicate there was missing data\n",
        "# preview the dataset with head() method\n",
        "\n",
        "pd.get_dummies(df.WindDir3pm, drop_first=True, dummy_na=True).head()"
      ]
    },
    {
      "cell_type": "code",
      "execution_count": 51,
      "metadata": {
        "colab": {
          "base_uri": "https://localhost:8080/",
          "height": 585
        },
        "id": "VAS8cTBDB08p",
        "outputId": "1feeb007-1d65-4362-f32b-db38eacef7ee"
      },
      "outputs": [
        {
          "data": {
            "text/plain": [
              "ENE     7724\n",
              "ESE     8382\n",
              "N       8667\n",
              "NE      8164\n",
              "NNE     6444\n",
              "NNW     7733\n",
              "NW      8468\n",
              "S       9598\n",
              "SE     10663\n",
              "SSE     9142\n",
              "SSW     8010\n",
              "SW      9182\n",
              "W       9911\n",
              "WNW     8656\n",
              "WSW     9329\n",
              "NaN     3778\n",
              "dtype: int64"
            ]
          },
          "execution_count": 51,
          "metadata": {},
          "output_type": "execute_result"
        }
      ],
      "source": [
        "# sum the number of 1s per boolean variable over the rows of the dataset\n",
        "# it will tell us how many observations we have for each category\n",
        "\n",
        "pd.get_dummies(df.WindDir3pm, drop_first=True, dummy_na=True).sum(axis=0)"
      ]
    },
    {
      "cell_type": "markdown",
      "metadata": {
        "id": "n-NWwfYmB08p"
      },
      "source": [
        "There are 3778 missing values in the `WindDir3pm` variable."
      ]
    },
    {
      "cell_type": "markdown",
      "metadata": {
        "id": "QUmNuPoTB08p"
      },
      "source": [
        "### Explore `RainToday` variable"
      ]
    },
    {
      "cell_type": "code",
      "execution_count": 52,
      "metadata": {
        "colab": {
          "base_uri": "https://localhost:8080/"
        },
        "id": "VVk_By4lB08p",
        "outputId": "7dae8286-59b0-4be8-d4d7-af892df2c22c"
      },
      "outputs": [
        {
          "name": "stdout",
          "output_type": "stream",
          "text": [
            "RainToday contains 3 labels\n"
          ]
        }
      ],
      "source": [
        "# print number of labels in RainToday variable\n",
        "# Fill the Gap\n",
        "\n",
        "print('RainToday contains', len(df['RainToday'].unique()), 'labels')"
      ]
    },
    {
      "cell_type": "code",
      "execution_count": 53,
      "metadata": {
        "colab": {
          "base_uri": "https://localhost:8080/"
        },
        "id": "xt3ibIqMB08p",
        "outputId": "8f9350a7-c606-4a1a-9f94-1121cd1d3a00"
      },
      "outputs": [
        {
          "data": {
            "text/plain": [
              "array(['No', 'Yes', nan], dtype=object)"
            ]
          },
          "execution_count": 53,
          "metadata": {},
          "output_type": "execute_result"
        }
      ],
      "source": [
        "# check labels in WindGustDir variable\n",
        "\n",
        "df['RainToday'].unique()"
      ]
    },
    {
      "cell_type": "code",
      "execution_count": 54,
      "metadata": {
        "colab": {
          "base_uri": "https://localhost:8080/",
          "height": 178
        },
        "id": "lzAR5e9RB08q",
        "outputId": "940cdfe6-ddc9-4752-9002-89a946d41dfe"
      },
      "outputs": [
        {
          "data": {
            "text/plain": [
              "RainToday\n",
              "No     109332\n",
              "Yes     31455\n",
              "Name: count, dtype: int64"
            ]
          },
          "execution_count": 54,
          "metadata": {},
          "output_type": "execute_result"
        }
      ],
      "source": [
        "# check frequency distribution of values in WindGustDir variable\n",
        "\n",
        "df.RainToday.value_counts()"
      ]
    },
    {
      "cell_type": "code",
      "execution_count": 55,
      "metadata": {
        "colab": {
          "base_uri": "https://localhost:8080/",
          "height": 206
        },
        "id": "COjSaoS9B08q",
        "outputId": "3b7a7836-b9ab-4db3-fe07-ba30fb02ddc0"
      },
      "outputs": [
        {
          "data": {
            "text/html": [
              "<div>\n",
              "<style scoped>\n",
              "    .dataframe tbody tr th:only-of-type {\n",
              "        vertical-align: middle;\n",
              "    }\n",
              "\n",
              "    .dataframe tbody tr th {\n",
              "        vertical-align: top;\n",
              "    }\n",
              "\n",
              "    .dataframe thead th {\n",
              "        text-align: right;\n",
              "    }\n",
              "</style>\n",
              "<table border=\"1\" class=\"dataframe\">\n",
              "  <thead>\n",
              "    <tr style=\"text-align: right;\">\n",
              "      <th></th>\n",
              "      <th>Yes</th>\n",
              "      <th>NaN</th>\n",
              "    </tr>\n",
              "  </thead>\n",
              "  <tbody>\n",
              "    <tr>\n",
              "      <th>0</th>\n",
              "      <td>False</td>\n",
              "      <td>False</td>\n",
              "    </tr>\n",
              "    <tr>\n",
              "      <th>1</th>\n",
              "      <td>False</td>\n",
              "      <td>False</td>\n",
              "    </tr>\n",
              "    <tr>\n",
              "      <th>2</th>\n",
              "      <td>False</td>\n",
              "      <td>False</td>\n",
              "    </tr>\n",
              "    <tr>\n",
              "      <th>3</th>\n",
              "      <td>False</td>\n",
              "      <td>False</td>\n",
              "    </tr>\n",
              "    <tr>\n",
              "      <th>4</th>\n",
              "      <td>False</td>\n",
              "      <td>False</td>\n",
              "    </tr>\n",
              "  </tbody>\n",
              "</table>\n",
              "</div>"
            ],
            "text/plain": [
              "     Yes    NaN\n",
              "0  False  False\n",
              "1  False  False\n",
              "2  False  False\n",
              "3  False  False\n",
              "4  False  False"
            ]
          },
          "execution_count": 55,
          "metadata": {},
          "output_type": "execute_result"
        }
      ],
      "source": [
        "# let's do One Hot Encoding of RainToday variable\n",
        "# get k-1 dummy variables after One Hot Encoding\n",
        "# also add an additional dummy variable to indicate there was missing data\n",
        "# preview the dataset with head() method\n",
        "\n",
        "pd.get_dummies(df.RainToday, drop_first=True, dummy_na=True).head()"
      ]
    },
    {
      "cell_type": "code",
      "execution_count": 56,
      "metadata": {
        "colab": {
          "base_uri": "https://localhost:8080/",
          "height": 147
        },
        "id": "DzXK926KB08q",
        "outputId": "68bc3ecd-4356-4222-a20f-617487cec880"
      },
      "outputs": [
        {
          "data": {
            "text/plain": [
              "Yes    31455\n",
              "NaN     1406\n",
              "dtype: int64"
            ]
          },
          "execution_count": 56,
          "metadata": {},
          "output_type": "execute_result"
        }
      ],
      "source": [
        "# sum the number of 1s per boolean variable over the rows of the dataset\n",
        "# it will tell us how many observations we have for each category\n",
        "\n",
        "pd.get_dummies(df.RainToday, drop_first=True, dummy_na=True).sum(axis=0)"
      ]
    },
    {
      "cell_type": "markdown",
      "metadata": {
        "id": "_UC8MpDiB08q"
      },
      "source": [
        "There are 1406 missing values in the `RainToday` variable."
      ]
    },
    {
      "cell_type": "markdown",
      "metadata": {
        "id": "8t1CuUzsB08q"
      },
      "source": [
        "### Explore Numerical Variables"
      ]
    },
    {
      "cell_type": "code",
      "execution_count": 57,
      "metadata": {
        "colab": {
          "base_uri": "https://localhost:8080/"
        },
        "id": "o3a9-0rVB08q",
        "outputId": "2ed1a25e-12dc-4c07-ecc7-aa5cbde65385"
      },
      "outputs": [
        {
          "name": "stdout",
          "output_type": "stream",
          "text": [
            "There are 19 numerical variables\n",
            "\n",
            "The numerical variables are : ['MinTemp', 'MaxTemp', 'Rainfall', 'Evaporation', 'Sunshine', 'WindGustSpeed', 'WindSpeed9am', 'WindSpeed3pm', 'Humidity9am', 'Humidity3pm', 'Pressure9am', 'Pressure3pm', 'Cloud9am', 'Cloud3pm', 'Temp9am', 'Temp3pm', 'Year', 'Month', 'Day']\n"
          ]
        }
      ],
      "source": [
        "# find numerical variables\n",
        "# Fill the Gap\n",
        "\n",
        "numerical = [var for var in df.columns if df[var].dtype!='O']\n",
        "\n",
        "print('There are {} numerical variables\\n'.format(len(numerical)))\n",
        "\n",
        "print('The numerical variables are :', numerical)"
      ]
    },
    {
      "cell_type": "code",
      "execution_count": 58,
      "metadata": {
        "colab": {
          "base_uri": "https://localhost:8080/",
          "height": 226
        },
        "id": "tLJ83xnaB08r",
        "outputId": "44e083a0-54ff-414d-9a46-f5ece6c6bd8a"
      },
      "outputs": [
        {
          "data": {
            "text/html": [
              "<div>\n",
              "<style scoped>\n",
              "    .dataframe tbody tr th:only-of-type {\n",
              "        vertical-align: middle;\n",
              "    }\n",
              "\n",
              "    .dataframe tbody tr th {\n",
              "        vertical-align: top;\n",
              "    }\n",
              "\n",
              "    .dataframe thead th {\n",
              "        text-align: right;\n",
              "    }\n",
              "</style>\n",
              "<table border=\"1\" class=\"dataframe\">\n",
              "  <thead>\n",
              "    <tr style=\"text-align: right;\">\n",
              "      <th></th>\n",
              "      <th>MinTemp</th>\n",
              "      <th>MaxTemp</th>\n",
              "      <th>Rainfall</th>\n",
              "      <th>Evaporation</th>\n",
              "      <th>Sunshine</th>\n",
              "      <th>WindGustSpeed</th>\n",
              "      <th>WindSpeed9am</th>\n",
              "      <th>WindSpeed3pm</th>\n",
              "      <th>Humidity9am</th>\n",
              "      <th>Humidity3pm</th>\n",
              "      <th>Pressure9am</th>\n",
              "      <th>Pressure3pm</th>\n",
              "      <th>Cloud9am</th>\n",
              "      <th>Cloud3pm</th>\n",
              "      <th>Temp9am</th>\n",
              "      <th>Temp3pm</th>\n",
              "      <th>Year</th>\n",
              "      <th>Month</th>\n",
              "      <th>Day</th>\n",
              "    </tr>\n",
              "  </thead>\n",
              "  <tbody>\n",
              "    <tr>\n",
              "      <th>0</th>\n",
              "      <td>13.4</td>\n",
              "      <td>22.9</td>\n",
              "      <td>0.6</td>\n",
              "      <td>NaN</td>\n",
              "      <td>NaN</td>\n",
              "      <td>44.0</td>\n",
              "      <td>20.0</td>\n",
              "      <td>24.0</td>\n",
              "      <td>71.0</td>\n",
              "      <td>22.0</td>\n",
              "      <td>1007.7</td>\n",
              "      <td>1007.1</td>\n",
              "      <td>8.0</td>\n",
              "      <td>NaN</td>\n",
              "      <td>16.9</td>\n",
              "      <td>21.8</td>\n",
              "      <td>2008</td>\n",
              "      <td>12</td>\n",
              "      <td>1</td>\n",
              "    </tr>\n",
              "    <tr>\n",
              "      <th>1</th>\n",
              "      <td>7.4</td>\n",
              "      <td>25.1</td>\n",
              "      <td>0.0</td>\n",
              "      <td>NaN</td>\n",
              "      <td>NaN</td>\n",
              "      <td>44.0</td>\n",
              "      <td>4.0</td>\n",
              "      <td>22.0</td>\n",
              "      <td>44.0</td>\n",
              "      <td>25.0</td>\n",
              "      <td>1010.6</td>\n",
              "      <td>1007.8</td>\n",
              "      <td>NaN</td>\n",
              "      <td>NaN</td>\n",
              "      <td>17.2</td>\n",
              "      <td>24.3</td>\n",
              "      <td>2008</td>\n",
              "      <td>12</td>\n",
              "      <td>2</td>\n",
              "    </tr>\n",
              "    <tr>\n",
              "      <th>2</th>\n",
              "      <td>12.9</td>\n",
              "      <td>25.7</td>\n",
              "      <td>0.0</td>\n",
              "      <td>NaN</td>\n",
              "      <td>NaN</td>\n",
              "      <td>46.0</td>\n",
              "      <td>19.0</td>\n",
              "      <td>26.0</td>\n",
              "      <td>38.0</td>\n",
              "      <td>30.0</td>\n",
              "      <td>1007.6</td>\n",
              "      <td>1008.7</td>\n",
              "      <td>NaN</td>\n",
              "      <td>2.0</td>\n",
              "      <td>21.0</td>\n",
              "      <td>23.2</td>\n",
              "      <td>2008</td>\n",
              "      <td>12</td>\n",
              "      <td>3</td>\n",
              "    </tr>\n",
              "    <tr>\n",
              "      <th>3</th>\n",
              "      <td>9.2</td>\n",
              "      <td>28.0</td>\n",
              "      <td>0.0</td>\n",
              "      <td>NaN</td>\n",
              "      <td>NaN</td>\n",
              "      <td>24.0</td>\n",
              "      <td>11.0</td>\n",
              "      <td>9.0</td>\n",
              "      <td>45.0</td>\n",
              "      <td>16.0</td>\n",
              "      <td>1017.6</td>\n",
              "      <td>1012.8</td>\n",
              "      <td>NaN</td>\n",
              "      <td>NaN</td>\n",
              "      <td>18.1</td>\n",
              "      <td>26.5</td>\n",
              "      <td>2008</td>\n",
              "      <td>12</td>\n",
              "      <td>4</td>\n",
              "    </tr>\n",
              "    <tr>\n",
              "      <th>4</th>\n",
              "      <td>17.5</td>\n",
              "      <td>32.3</td>\n",
              "      <td>1.0</td>\n",
              "      <td>NaN</td>\n",
              "      <td>NaN</td>\n",
              "      <td>41.0</td>\n",
              "      <td>7.0</td>\n",
              "      <td>20.0</td>\n",
              "      <td>82.0</td>\n",
              "      <td>33.0</td>\n",
              "      <td>1010.8</td>\n",
              "      <td>1006.0</td>\n",
              "      <td>7.0</td>\n",
              "      <td>8.0</td>\n",
              "      <td>17.8</td>\n",
              "      <td>29.7</td>\n",
              "      <td>2008</td>\n",
              "      <td>12</td>\n",
              "      <td>5</td>\n",
              "    </tr>\n",
              "  </tbody>\n",
              "</table>\n",
              "</div>"
            ],
            "text/plain": [
              "   MinTemp  MaxTemp  Rainfall  Evaporation  Sunshine  WindGustSpeed  \\\n",
              "0     13.4     22.9       0.6          NaN       NaN           44.0   \n",
              "1      7.4     25.1       0.0          NaN       NaN           44.0   \n",
              "2     12.9     25.7       0.0          NaN       NaN           46.0   \n",
              "3      9.2     28.0       0.0          NaN       NaN           24.0   \n",
              "4     17.5     32.3       1.0          NaN       NaN           41.0   \n",
              "\n",
              "   WindSpeed9am  WindSpeed3pm  Humidity9am  Humidity3pm  Pressure9am  \\\n",
              "0          20.0          24.0         71.0         22.0       1007.7   \n",
              "1           4.0          22.0         44.0         25.0       1010.6   \n",
              "2          19.0          26.0         38.0         30.0       1007.6   \n",
              "3          11.0           9.0         45.0         16.0       1017.6   \n",
              "4           7.0          20.0         82.0         33.0       1010.8   \n",
              "\n",
              "   Pressure3pm  Cloud9am  Cloud3pm  Temp9am  Temp3pm  Year  Month  Day  \n",
              "0       1007.1       8.0       NaN     16.9     21.8  2008     12    1  \n",
              "1       1007.8       NaN       NaN     17.2     24.3  2008     12    2  \n",
              "2       1008.7       NaN       2.0     21.0     23.2  2008     12    3  \n",
              "3       1012.8       NaN       NaN     18.1     26.5  2008     12    4  \n",
              "4       1006.0       7.0       8.0     17.8     29.7  2008     12    5  "
            ]
          },
          "execution_count": 58,
          "metadata": {},
          "output_type": "execute_result"
        }
      ],
      "source": [
        "# view the numerical variables\n",
        "\n",
        "df[numerical].head()"
      ]
    },
    {
      "cell_type": "markdown",
      "metadata": {
        "id": "jlh0Vc7gB08r"
      },
      "source": [
        "### Summary of numerical variables\n",
        "\n",
        "\n",
        "- There are 16 numerical variables.\n",
        "\n",
        "\n",
        "- These are given by `MinTemp`, `MaxTemp`, `Rainfall`, `Evaporation`, `Sunshine`, `WindGustSpeed`, `WindSpeed9am`, `WindSpeed3pm`, `Humidity9am`, `Humidity3pm`, `Pressure9am`, `Pressure3pm`, `Cloud9am`, `Cloud3pm`, `Temp9am` and `Temp3pm`.\n",
        "\n",
        "\n",
        "- All of the numerical variables are of continuous type."
      ]
    },
    {
      "cell_type": "markdown",
      "metadata": {
        "id": "5FP3sPbmB08r"
      },
      "source": [
        "## Explore problems within numerical variables\n",
        "\n",
        "\n",
        "Now, I will explore the numerical variables.\n",
        "\n",
        "\n",
        "### Missing values in numerical variables"
      ]
    },
    {
      "cell_type": "code",
      "execution_count": 59,
      "metadata": {
        "colab": {
          "base_uri": "https://localhost:8080/",
          "height": 680
        },
        "id": "3DvrEDMIB08r",
        "outputId": "e9b9fdb5-ae88-42c2-ec49-5d79d0330429"
      },
      "outputs": [
        {
          "data": {
            "text/plain": [
              "MinTemp            637\n",
              "MaxTemp            322\n",
              "Rainfall          1406\n",
              "Evaporation      60843\n",
              "Sunshine         67816\n",
              "WindGustSpeed     9270\n",
              "WindSpeed9am      1348\n",
              "WindSpeed3pm      2630\n",
              "Humidity9am       1774\n",
              "Humidity3pm       3610\n",
              "Pressure9am      14014\n",
              "Pressure3pm      13981\n",
              "Cloud9am         53657\n",
              "Cloud3pm         57094\n",
              "Temp9am            904\n",
              "Temp3pm           2726\n",
              "Year                 0\n",
              "Month                0\n",
              "Day                  0\n",
              "dtype: int64"
            ]
          },
          "execution_count": 59,
          "metadata": {},
          "output_type": "execute_result"
        }
      ],
      "source": [
        "# check missing values in numerical variables\n",
        "\n",
        "df[numerical].isnull().sum()"
      ]
    },
    {
      "cell_type": "markdown",
      "metadata": {
        "id": "adNSJGUuB08r"
      },
      "source": [
        "We can see that all the 16 numerical variables contain missing values."
      ]
    },
    {
      "cell_type": "markdown",
      "metadata": {
        "id": "hyWdGrNVB08r"
      },
      "source": [
        "### Outliers in numerical variables"
      ]
    },
    {
      "cell_type": "code",
      "execution_count": 60,
      "metadata": {
        "colab": {
          "base_uri": "https://localhost:8080/"
        },
        "id": "ssyPDnSWB08r",
        "outputId": "ca18798c-9e2f-4d26-93aa-1d98686f8609"
      },
      "outputs": [
        {
          "name": "stdout",
          "output_type": "stream",
          "text": [
            "        MinTemp   MaxTemp  Rainfall  Evaporation  Sunshine  WindGustSpeed  \\\n",
            "count  141556.0  141871.0  140787.0      81350.0   74377.0       132923.0   \n",
            "mean       12.0      23.0       2.0          5.0       8.0           40.0   \n",
            "std         6.0       7.0       8.0          4.0       4.0           14.0   \n",
            "min        -8.0      -5.0       0.0          0.0       0.0            6.0   \n",
            "25%         8.0      18.0       0.0          3.0       5.0           31.0   \n",
            "50%        12.0      23.0       0.0          5.0       8.0           39.0   \n",
            "75%        17.0      28.0       1.0          7.0      11.0           48.0   \n",
            "max        34.0      48.0     371.0        145.0      14.0          135.0   \n",
            "\n",
            "       WindSpeed9am  WindSpeed3pm  Humidity9am  Humidity3pm  Pressure9am  \\\n",
            "count      140845.0      139563.0     140419.0     138583.0     128179.0   \n",
            "mean           14.0          19.0         69.0         51.0       1018.0   \n",
            "std             9.0           9.0         19.0         21.0          7.0   \n",
            "min             0.0           0.0          0.0          0.0        980.0   \n",
            "25%             7.0          13.0         57.0         37.0       1013.0   \n",
            "50%            13.0          19.0         70.0         52.0       1018.0   \n",
            "75%            19.0          24.0         83.0         66.0       1022.0   \n",
            "max           130.0          87.0        100.0        100.0       1041.0   \n",
            "\n",
            "       Pressure3pm  Cloud9am  Cloud3pm   Temp9am   Temp3pm      Year  \\\n",
            "count     128212.0   88536.0   85099.0  141289.0  139467.0  142193.0   \n",
            "mean        1015.0       4.0       5.0      17.0      22.0    2013.0   \n",
            "std            7.0       3.0       3.0       6.0       7.0       3.0   \n",
            "min          977.0       0.0       0.0      -7.0      -5.0    2007.0   \n",
            "25%         1010.0       1.0       2.0      12.0      17.0    2011.0   \n",
            "50%         1015.0       5.0       5.0      17.0      21.0    2013.0   \n",
            "75%         1020.0       7.0       7.0      22.0      26.0    2015.0   \n",
            "max         1040.0       9.0       9.0      40.0      47.0    2017.0   \n",
            "\n",
            "          Month       Day  \n",
            "count  142193.0  142193.0  \n",
            "mean        6.0      16.0  \n",
            "std         3.0       9.0  \n",
            "min         1.0       1.0  \n",
            "25%         3.0       8.0  \n",
            "50%         6.0      16.0  \n",
            "75%         9.0      23.0  \n",
            "max        12.0      31.0   2\n"
          ]
        }
      ],
      "source": [
        "# view summary statistics in numerical variables\n",
        "\n",
        "print(round(df[numerical].describe()),2)"
      ]
    },
    {
      "cell_type": "markdown",
      "metadata": {
        "id": "kIubwDiBB08s"
      },
      "source": [
        "On closer inspection, we can see that the `Rainfall`, `Evaporation`, `WindSpeed9am` and `WindSpeed3pm` columns may contain outliers.\n",
        "\n",
        "\n",
        "I will draw boxplots to visualise outliers in the above variables."
      ]
    },
    {
      "cell_type": "code",
      "execution_count": 62,
      "metadata": {
        "colab": {
          "base_uri": "https://localhost:8080/",
          "height": 847
        },
        "id": "vMamvMoAB08s",
        "outputId": "44b48dbc-9128-4fdf-d35d-ca3687f0786f"
      },
      "outputs": [
        {
          "data": {
            "text/plain": [
              "Text(0, 0.5, 'WindSpeed3pm')"
            ]
          },
          "execution_count": 62,
          "metadata": {},
          "output_type": "execute_result"
        },
        {
          "data": {
            "image/png": "[encoded data removed]",
            "text/plain": [
              "<Figure size 1500x1000 with 4 Axes>"
            ]
          },
          "metadata": {},
          "output_type": "display_data"
        }
      ],
      "source": [
        "# draw boxplots to visualize outliers\n",
        "\n",
        "plt.figure(figsize=(15,10))\n",
        "\n",
        "\n",
        "plt.subplot(2, 2, 1)\n",
        "fig = df.boxplot(column='Rainfall')\n",
        "fig.set_title('')\n",
        "fig.set_ylabel('Rainfall')\n",
        "\n",
        "\n",
        "plt.subplot(2, 2, 2)\n",
        "fig = df.boxplot(column='Evaporation')\n",
        "fig.set_title('')\n",
        "fig.set_ylabel('Evaporation')\n",
        "\n",
        "\n",
        "plt.subplot(2, 2, 3)\n",
        "fig = df.boxplot(column='WindSpeed9am')\n",
        "fig.set_title('')\n",
        "fig.set_ylabel('WindSpeed9am')\n",
        "\n",
        "\n",
        "plt.subplot(2,2,4)\n",
        "fig = df.boxplot(column='WindSpeed3pm')\n",
        "fig.set_title('')\n",
        "fig.set_ylabel('WindSpeed3pm')"
      ]
    },
    {
      "cell_type": "markdown",
      "metadata": {
        "id": "uZCgS2hwB08s"
      },
      "source": [
        "The above boxplots confirm that there are lot of outliers in these variables."
      ]
    },
    {
      "cell_type": "markdown",
      "metadata": {
        "id": "vIoyp6cQB08s"
      },
      "source": [
        "### Check the distribution of variables\n",
        "\n",
        "\n",
        "Now, I will plot the histograms to check distributions to find out if they are normal or skewed. If the variable follows normal distribution, then I will do `Extreme Value Analysis` otherwise if they are skewed, I will find IQR (Interquantile range)."
      ]
    },
    {
      "cell_type": "code",
      "execution_count": 64,
      "metadata": {
        "colab": {
          "base_uri": "https://localhost:8080/",
          "height": 867
        },
        "id": "i_ilKBbWB08s",
        "outputId": "17203a45-a948-4f8a-d3b2-8f5e3d4f0d50"
      },
      "outputs": [
        {
          "data": {
            "text/plain": [
              "Text(0, 0.5, 'RainTomorrow')"
            ]
          },
          "execution_count": 64,
          "metadata": {},
          "output_type": "execute_result"
        },
        {
          "data": {
            "image/png": "[encoded data removed]",
            "text/plain": [
              "<Figure size 1500x1000 with 4 Axes>"
            ]
          },
          "metadata": {},
          "output_type": "display_data"
        }
      ],
      "source": [
        "# plot histogram to check distribution\n",
        "# Fill the Gap\n",
        "\n",
        "plt.figure(figsize=(15,10))\n",
        "\n",
        "\n",
        "plt.subplot(2,2,1)\n",
        "fig = df.Rainfall.hist(bins=10)\n",
        "fig.set_xlabel('Rainfall')\n",
        "fig.set_ylabel('RainTomorrow')\n",
        "\n",
        "\n",
        "plt.subplot(2,2,2)\n",
        "fig = df.Evaporation.hist(bins=10)\n",
        "fig.set_xlabel('Evaporation')\n",
        "fig.set_ylabel('RainTomorrow')\n",
        "\n",
        "\n",
        "plt.subplot(2,2,3)\n",
        "fig = df.WindSpeed9am.hist(bins=10)\n",
        "fig.set_xlabel('WindSpeed9am')\n",
        "fig.set_ylabel('RainTomorrow')\n",
        "\n",
        "\n",
        "plt.subplot(2,2,4)\n",
        "fig = df.WindSpeed3pm.hist(bins=10)\n",
        "fig.set_xlabel('WindSpeed3pm')\n",
        "fig.set_ylabel('RainTomorrow')"
      ]
    },
    {
      "cell_type": "markdown",
      "metadata": {
        "id": "wg4tVQbRB08s"
      },
      "source": [
        "## Search and learn how we have reached to this formula.\n",
        "\n",
        "We can see that all the four variables are skewed. So, I will use interquantile range to find outliers.\n",
        "\n",
        "Learn about outliers, what does qunatile and interquantile means."
      ]
    },
    {
      "cell_type": "code",
      "execution_count": 65,
      "metadata": {
        "colab": {
          "base_uri": "https://localhost:8080/"
        },
        "id": "q25-SlGwB08t",
        "outputId": "f7aac8c5-2666-4598-8641-86f9b7d2a563"
      },
      "outputs": [
        {
          "name": "stdout",
          "output_type": "stream",
          "text": [
            "Rainfall outliers are values < -2.4000000000000004 or > 3.2\n"
          ]
        }
      ],
      "source": [
        "# find outliers for Rainfall variable\n",
        "\n",
        "IQR = df.Rainfall.quantile(0.75) - df.Rainfall.quantile(0.25)\n",
        "Lower_fence = df.Rainfall.quantile(0.25) - (IQR * 3)\n",
        "Upper_fence = df.Rainfall.quantile(0.75) + (IQR * 3)\n",
        "print('Rainfall outliers are values < {lowerboundary} or > {upperboundary}'.format(lowerboundary=Lower_fence, upperboundary=Upper_fence))\n"
      ]
    },
    {
      "cell_type": "markdown",
      "metadata": {
        "id": "EE_E4YWjB08t"
      },
      "source": [
        "For `Rainfall`, the minimum and maximum values are 0.0 and 371.0. So, the outliers are values > 3.2."
      ]
    },
    {
      "cell_type": "code",
      "execution_count": 66,
      "metadata": {
        "colab": {
          "base_uri": "https://localhost:8080/"
        },
        "id": "gRXLmlelB08t",
        "outputId": "5e629d08-5e49-4e76-d5ec-360aba3b32a3"
      },
      "outputs": [
        {
          "name": "stdout",
          "output_type": "stream",
          "text": [
            "Evaporation outliers are values < -11.800000000000002 or > 21.800000000000004\n"
          ]
        }
      ],
      "source": [
        "# find outliers for Evaporation variable\n",
        "\n",
        "IQR = df.Evaporation.quantile(0.75) - df.Evaporation.quantile(0.25)\n",
        "Lower_fence = df.Evaporation.quantile(0.25) - (IQR * 3)\n",
        "Upper_fence = df.Evaporation.quantile(0.75) + (IQR * 3)\n",
        "print('Evaporation outliers are values < {lowerboundary} or > {upperboundary}'.format(lowerboundary=Lower_fence, upperboundary=Upper_fence))\n"
      ]
    },
    {
      "cell_type": "markdown",
      "metadata": {
        "id": "0yBwrFL9B08t"
      },
      "source": [
        "For `Evaporation`, the minimum and maximum values are 0.0 and 145.0. So, the outliers are values > 21.8."
      ]
    },
    {
      "cell_type": "code",
      "execution_count": 67,
      "metadata": {
        "colab": {
          "base_uri": "https://localhost:8080/"
        },
        "id": "SiyXtLZLB08t",
        "outputId": "e7ce599f-ea9a-4c7d-cc79-be69739ffb22"
      },
      "outputs": [
        {
          "name": "stdout",
          "output_type": "stream",
          "text": [
            "WindSpeed9am outliers are values < -29.0 or > 55.0\n"
          ]
        }
      ],
      "source": [
        "# find outliers for WindSpeed9am variable\n",
        "\n",
        "IQR = df.WindSpeed9am.quantile(0.75) - df.WindSpeed9am.quantile(0.25)\n",
        "Lower_fence = df.WindSpeed9am.quantile(0.25) - (IQR * 3)\n",
        "Upper_fence = df.WindSpeed9am.quantile(0.75) + (IQR * 3)\n",
        "print('WindSpeed9am outliers are values < {lowerboundary} or > {upperboundary}'.format(lowerboundary=Lower_fence, upperboundary=Upper_fence))\n"
      ]
    },
    {
      "cell_type": "markdown",
      "metadata": {
        "id": "uwbEA7GuB08t"
      },
      "source": [
        "For `WindSpeed9am`, the minimum and maximum values are 0.0 and 130.0. So, the outliers are values > 55.0."
      ]
    },
    {
      "cell_type": "code",
      "execution_count": 68,
      "metadata": {
        "colab": {
          "base_uri": "https://localhost:8080/"
        },
        "id": "qnymJN7eB08t",
        "outputId": "eeed35d4-1e78-44f5-dbb1-fc8078153de7"
      },
      "outputs": [
        {
          "name": "stdout",
          "output_type": "stream",
          "text": [
            "WindSpeed3pm outliers are values < -20.0 or > 57.0\n"
          ]
        }
      ],
      "source": [
        "# find outliers for WindSpeed3pm variable\n",
        "\n",
        "IQR = df.WindSpeed3pm.quantile(0.75) - df.WindSpeed3pm.quantile(0.25)\n",
        "Lower_fence = df.WindSpeed3pm.quantile(0.25) - (IQR * 3)\n",
        "Upper_fence = df.WindSpeed3pm.quantile(0.75) + (IQR * 3)\n",
        "print('WindSpeed3pm outliers are values < {lowerboundary} or > {upperboundary}'.format(lowerboundary=Lower_fence, upperboundary=Upper_fence))\n"
      ]
    },
    {
      "cell_type": "markdown",
      "metadata": {
        "id": "BwYI0Nn-B08u"
      },
      "source": [
        "For `WindSpeed3pm`, the minimum and maximum values are 0.0 and 87.0. So, the outliers are values > 57.0."
      ]
    },
    {
      "cell_type": "markdown",
      "metadata": {
        "id": "PlOxw26YB08u"
      },
      "source": [
        "# **8. Declare feature vector and target variable** <a class=\"anchor\" id=\"8\"></a>\n",
        "\n",
        "\n",
        "[Table of Contents](#0.1)"
      ]
    },
    {
      "cell_type": "code",
      "execution_count": 69,
      "metadata": {
        "id": "16CVcCwlB08u"
      },
      "outputs": [],
      "source": [
        "X = df.drop(['RainTomorrow'], axis=1)\n",
        "\n",
        "y = df['RainTomorrow']"
      ]
    },
    {
      "cell_type": "markdown",
      "metadata": {
        "id": "S9xscUgxB08u"
      },
      "source": [
        "# **9. Split data into separate training and test set** <a class=\"anchor\" id=\"9\"></a>\n",
        "\n",
        "\n",
        "[Table of Contents](#0.1)"
      ]
    },
    {
      "cell_type": "code",
      "execution_count": 70,
      "metadata": {
        "id": "qHE3vas9B08u"
      },
      "outputs": [],
      "source": [
        "# split X and y into training and testing sets\n",
        "\n",
        "from sklearn.model_selection import train_test_split\n",
        "\n",
        "X_train, X_test, y_train, y_test = train_test_split(X, y, test_size = 0.2, random_state = 0)\n"
      ]
    },
    {
      "cell_type": "code",
      "execution_count": 72,
      "metadata": {
        "colab": {
          "base_uri": "https://localhost:8080/"
        },
        "id": "Y81cHncoB08u",
        "outputId": "2cf22414-8d6f-402f-d511-f149ed931d82"
      },
      "outputs": [
        {
          "data": {
            "text/plain": [
              "((113754, 24), (28439, 24))"
            ]
          },
          "execution_count": 72,
          "metadata": {},
          "output_type": "execute_result"
        }
      ],
      "source": [
        "# check the shape of X_train and X_test\n",
        "\n",
        "X_train.shape, X_test.shape"
      ]
    },
    {
      "cell_type": "markdown",
      "metadata": {
        "id": "46GMsmgsB08u"
      },
      "source": [
        "# **10. Feature Engineering** <a class=\"anchor\" id=\"10\"></a>\n",
        "\n",
        "\n",
        "[Table of Contents](#0.1)\n",
        "\n",
        "\n",
        "**Feature Engineering** is the process of transforming raw data into useful features that help us to understand our model better and increase its predictive power. I will carry out feature engineering on different types of variables.\n",
        "\n",
        "\n",
        "First, I will display the categorical and numerical variables again separately."
      ]
    },
    {
      "cell_type": "code",
      "execution_count": 73,
      "metadata": {
        "colab": {
          "base_uri": "https://localhost:8080/",
          "height": 836
        },
        "id": "r6aBhAv2B08v",
        "outputId": "d37bffe4-b934-4019-a948-55282486ff04"
      },
      "outputs": [
        {
          "data": {
            "text/plain": [
              "Location          object\n",
              "MinTemp          float64\n",
              "MaxTemp          float64\n",
              "Rainfall         float64\n",
              "Evaporation      float64\n",
              "Sunshine         float64\n",
              "WindGustDir       object\n",
              "WindGustSpeed    float64\n",
              "WindDir9am        object\n",
              "WindDir3pm        object\n",
              "WindSpeed9am     float64\n",
              "WindSpeed3pm     float64\n",
              "Humidity9am      float64\n",
              "Humidity3pm      float64\n",
              "Pressure9am      float64\n",
              "Pressure3pm      float64\n",
              "Cloud9am         float64\n",
              "Cloud3pm         float64\n",
              "Temp9am          float64\n",
              "Temp3pm          float64\n",
              "RainToday         object\n",
              "Year               int32\n",
              "Month              int32\n",
              "Day                int32\n",
              "dtype: object"
            ]
          },
          "execution_count": 73,
          "metadata": {},
          "output_type": "execute_result"
        }
      ],
      "source": [
        "# check data types in X_train\n",
        "\n",
        "X_train.dtypes"
      ]
    },
    {
      "cell_type": "code",
      "execution_count": 74,
      "metadata": {
        "colab": {
          "base_uri": "https://localhost:8080/"
        },
        "id": "WyymIemfB08y",
        "outputId": "56b9ca31-bfe4-44ad-da3e-79dd0f0a1bd4"
      },
      "outputs": [
        {
          "data": {
            "text/plain": [
              "['Location', 'WindGustDir', 'WindDir9am', 'WindDir3pm', 'RainToday']"
            ]
          },
          "execution_count": 74,
          "metadata": {},
          "output_type": "execute_result"
        }
      ],
      "source": [
        "# display categorical variables\n",
        "# Fill the Gap\n",
        "\n",
        "categorical = [col for col in X_train.columns if X_train[col].dtypes == 'O']\n",
        "\n",
        "categorical"
      ]
    },
    {
      "cell_type": "code",
      "execution_count": 75,
      "metadata": {
        "colab": {
          "base_uri": "https://localhost:8080/"
        },
        "id": "7FDsgrEmB08y",
        "outputId": "9da0907b-3a01-446f-ed91-79523e9d2e2b"
      },
      "outputs": [
        {
          "data": {
            "text/plain": [
              "['MinTemp',\n",
              " 'MaxTemp',\n",
              " 'Rainfall',\n",
              " 'Evaporation',\n",
              " 'Sunshine',\n",
              " 'WindGustSpeed',\n",
              " 'WindSpeed9am',\n",
              " 'WindSpeed3pm',\n",
              " 'Humidity9am',\n",
              " 'Humidity3pm',\n",
              " 'Pressure9am',\n",
              " 'Pressure3pm',\n",
              " 'Cloud9am',\n",
              " 'Cloud3pm',\n",
              " 'Temp9am',\n",
              " 'Temp3pm',\n",
              " 'Year',\n",
              " 'Month',\n",
              " 'Day']"
            ]
          },
          "execution_count": 75,
          "metadata": {},
          "output_type": "execute_result"
        }
      ],
      "source": [
        "# display numerical variables\n",
        "# Fill the Gap\n",
        "\n",
        "numerical = [col for col in X_train.columns if X_train[col].dtypes != 'O']\n",
        "\n",
        "numerical"
      ]
    },
    {
      "cell_type": "markdown",
      "metadata": {
        "id": "9-eB6l2TB08y"
      },
      "source": [
        "### Engineering missing values in numerical variables\n",
        "\n"
      ]
    },
    {
      "cell_type": "code",
      "execution_count": 76,
      "metadata": {
        "colab": {
          "base_uri": "https://localhost:8080/",
          "height": 680
        },
        "id": "3VKhfSbvB08y",
        "outputId": "1491bfbb-5668-43a9-cea5-7322b5e9bf11"
      },
      "outputs": [
        {
          "data": {
            "text/plain": [
              "MinTemp            495\n",
              "MaxTemp            264\n",
              "Rainfall          1139\n",
              "Evaporation      48718\n",
              "Sunshine         54314\n",
              "WindGustSpeed     7367\n",
              "WindSpeed9am      1086\n",
              "WindSpeed3pm      2094\n",
              "Humidity9am       1449\n",
              "Humidity3pm       2890\n",
              "Pressure9am      11212\n",
              "Pressure3pm      11186\n",
              "Cloud9am         43137\n",
              "Cloud3pm         45768\n",
              "Temp9am            740\n",
              "Temp3pm           2171\n",
              "Year                 0\n",
              "Month                0\n",
              "Day                  0\n",
              "dtype: int64"
            ]
          },
          "execution_count": 76,
          "metadata": {},
          "output_type": "execute_result"
        }
      ],
      "source": [
        "# check missing values in numerical variables in X_train\n",
        "\n",
        "X_train[numerical].isnull().sum()"
      ]
    },
    {
      "cell_type": "code",
      "execution_count": 77,
      "metadata": {
        "colab": {
          "base_uri": "https://localhost:8080/",
          "height": 680
        },
        "id": "6aKAAS0WB08z",
        "outputId": "4102990b-7655-4bf9-c842-dbb894db5c85"
      },
      "outputs": [
        {
          "data": {
            "text/plain": [
              "MinTemp            142\n",
              "MaxTemp             58\n",
              "Rainfall           267\n",
              "Evaporation      12125\n",
              "Sunshine         13502\n",
              "WindGustSpeed     1903\n",
              "WindSpeed9am       262\n",
              "WindSpeed3pm       536\n",
              "Humidity9am        325\n",
              "Humidity3pm        720\n",
              "Pressure9am       2802\n",
              "Pressure3pm       2795\n",
              "Cloud9am         10520\n",
              "Cloud3pm         11326\n",
              "Temp9am            164\n",
              "Temp3pm            555\n",
              "Year                 0\n",
              "Month                0\n",
              "Day                  0\n",
              "dtype: int64"
            ]
          },
          "execution_count": 77,
          "metadata": {},
          "output_type": "execute_result"
        }
      ],
      "source": [
        "# check missing values in numerical variables in X_test\n",
        "\n",
        "X_test[numerical].isnull().sum()"
      ]
    },
    {
      "cell_type": "code",
      "execution_count": 78,
      "metadata": {
        "colab": {
          "base_uri": "https://localhost:8080/"
        },
        "id": "sj5lpxjVB08z",
        "outputId": "789aef04-304f-47ca-ae21-8cdfd4a5939d"
      },
      "outputs": [
        {
          "name": "stdout",
          "output_type": "stream",
          "text": [
            "MinTemp 0.0044\n",
            "MaxTemp 0.0023\n",
            "Rainfall 0.01\n",
            "Evaporation 0.4283\n",
            "Sunshine 0.4775\n",
            "WindGustSpeed 0.0648\n",
            "WindSpeed9am 0.0095\n",
            "WindSpeed3pm 0.0184\n",
            "Humidity9am 0.0127\n",
            "Humidity3pm 0.0254\n",
            "Pressure9am 0.0986\n",
            "Pressure3pm 0.0983\n",
            "Cloud9am 0.3792\n",
            "Cloud3pm 0.4023\n",
            "Temp9am 0.0065\n",
            "Temp3pm 0.0191\n"
          ]
        }
      ],
      "source": [
        "# print percentage of missing values in the numerical variables in training set\n",
        "# Fill the Gap\n",
        "\n",
        "for col in numerical:\n",
        "    if X_train[col].isnull().mean()>0:\n",
        "        print(col, round(X_train[col].isnull().mean(),4))"
      ]
    },
    {
      "cell_type": "markdown",
      "metadata": {
        "id": "nmVfKE7zB08z"
      },
      "source": [
        "### Assumption\n",
        "\n",
        "\n",
        "I assume that the data are missing completely at random (MCAR). There are two methods which can be used to impute missing values. One is mean or median imputation and other one is random sample imputation. When there are outliers in the dataset, we should use median imputation. So, I will use median imputation because median imputation is robust to outliers.\n",
        "\n",
        "\n",
        "I will impute missing values with the appropriate statistical measures of the data, in this case median. Imputation should be done over the training set, and then propagated to the test set. It means that the statistical measures to be used to fill missing values both in train and test set, should be extracted from the train set only. This is to avoid overfitting."
      ]
    },
    {
      "cell_type": "code",
      "execution_count": 80,
      "metadata": {
        "id": "zY-k8iuLB08z"
      },
      "outputs": [],
      "source": [
        "# impute missing values in X_train and X_test with respective column median in X_train\n",
        "\n",
        "for df1 in [X_train, X_test]:\n",
        "    for col in numerical:\n",
        "        col_median=X_train[col].median()\n",
        "        df1[col].fillna(col_median, inplace=True)\n"
      ]
    },
    {
      "cell_type": "code",
      "execution_count": null,
      "metadata": {
        "colab": {
          "base_uri": "https://localhost:8080/",
          "height": 680
        },
        "id": "PXhbvjS0B08z",
        "outputId": "51157689-3987-4b10-a019-629a68477aba"
      },
      "outputs": [
        {
          "data": {
            "text/html": [
              "<div>\n",
              "<style scoped>\n",
              "    .dataframe tbody tr th:only-of-type {\n",
              "        vertical-align: middle;\n",
              "    }\n",
              "\n",
              "    .dataframe tbody tr th {\n",
              "        vertical-align: top;\n",
              "    }\n",
              "\n",
              "    .dataframe thead th {\n",
              "        text-align: right;\n",
              "    }\n",
              "</style>\n",
              "<table border=\"1\" class=\"dataframe\">\n",
              "  <thead>\n",
              "    <tr style=\"text-align: right;\">\n",
              "      <th></th>\n",
              "      <th>0</th>\n",
              "    </tr>\n",
              "  </thead>\n",
              "  <tbody>\n",
              "    <tr>\n",
              "      <th>MinTemp</th>\n",
              "      <td>0</td>\n",
              "    </tr>\n",
              "    <tr>\n",
              "      <th>MaxTemp</th>\n",
              "      <td>0</td>\n",
              "    </tr>\n",
              "    <tr>\n",
              "      <th>Rainfall</th>\n",
              "      <td>0</td>\n",
              "    </tr>\n",
              "    <tr>\n",
              "      <th>Evaporation</th>\n",
              "      <td>0</td>\n",
              "    </tr>\n",
              "    <tr>\n",
              "      <th>Sunshine</th>\n",
              "      <td>0</td>\n",
              "    </tr>\n",
              "    <tr>\n",
              "      <th>WindGustSpeed</th>\n",
              "      <td>0</td>\n",
              "    </tr>\n",
              "    <tr>\n",
              "      <th>WindSpeed9am</th>\n",
              "      <td>0</td>\n",
              "    </tr>\n",
              "    <tr>\n",
              "      <th>WindSpeed3pm</th>\n",
              "      <td>0</td>\n",
              "    </tr>\n",
              "    <tr>\n",
              "      <th>Humidity9am</th>\n",
              "      <td>0</td>\n",
              "    </tr>\n",
              "    <tr>\n",
              "      <th>Humidity3pm</th>\n",
              "      <td>0</td>\n",
              "    </tr>\n",
              "    <tr>\n",
              "      <th>Pressure9am</th>\n",
              "      <td>0</td>\n",
              "    </tr>\n",
              "    <tr>\n",
              "      <th>Pressure3pm</th>\n",
              "      <td>0</td>\n",
              "    </tr>\n",
              "    <tr>\n",
              "      <th>Cloud9am</th>\n",
              "      <td>0</td>\n",
              "    </tr>\n",
              "    <tr>\n",
              "      <th>Cloud3pm</th>\n",
              "      <td>0</td>\n",
              "    </tr>\n",
              "    <tr>\n",
              "      <th>Temp9am</th>\n",
              "      <td>0</td>\n",
              "    </tr>\n",
              "    <tr>\n",
              "      <th>Temp3pm</th>\n",
              "      <td>0</td>\n",
              "    </tr>\n",
              "    <tr>\n",
              "      <th>Year</th>\n",
              "      <td>0</td>\n",
              "    </tr>\n",
              "    <tr>\n",
              "      <th>Month</th>\n",
              "      <td>0</td>\n",
              "    </tr>\n",
              "    <tr>\n",
              "      <th>Day</th>\n",
              "      <td>0</td>\n",
              "    </tr>\n",
              "  </tbody>\n",
              "</table>\n",
              "</div><br><label><b>dtype:</b> int64</label>"
            ],
            "text/plain": [
              "MinTemp          0\n",
              "MaxTemp          0\n",
              "Rainfall         0\n",
              "Evaporation      0\n",
              "Sunshine         0\n",
              "WindGustSpeed    0\n",
              "WindSpeed9am     0\n",
              "WindSpeed3pm     0\n",
              "Humidity9am      0\n",
              "Humidity3pm      0\n",
              "Pressure9am      0\n",
              "Pressure3pm      0\n",
              "Cloud9am         0\n",
              "Cloud3pm         0\n",
              "Temp9am          0\n",
              "Temp3pm          0\n",
              "Year             0\n",
              "Month            0\n",
              "Day              0\n",
              "dtype: int64"
            ]
          },
          "execution_count": 76,
          "metadata": {},
          "output_type": "execute_result"
        }
      ],
      "source": [
        "# check again missing values in numerical variables in X_train\n",
        "\n",
        "X_train[numerical].isnull().sum()"
      ]
    },
    {
      "cell_type": "code",
      "execution_count": 81,
      "metadata": {
        "colab": {
          "base_uri": "https://localhost:8080/",
          "height": 680
        },
        "id": "9hCPOv9kB080",
        "outputId": "24f8d8bb-314e-44a1-d63e-e5ba21e9edc9"
      },
      "outputs": [
        {
          "data": {
            "text/plain": [
              "MinTemp          0\n",
              "MaxTemp          0\n",
              "Rainfall         0\n",
              "Evaporation      0\n",
              "Sunshine         0\n",
              "WindGustSpeed    0\n",
              "WindSpeed9am     0\n",
              "WindSpeed3pm     0\n",
              "Humidity9am      0\n",
              "Humidity3pm      0\n",
              "Pressure9am      0\n",
              "Pressure3pm      0\n",
              "Cloud9am         0\n",
              "Cloud3pm         0\n",
              "Temp9am          0\n",
              "Temp3pm          0\n",
              "Year             0\n",
              "Month            0\n",
              "Day              0\n",
              "dtype: int64"
            ]
          },
          "execution_count": 81,
          "metadata": {},
          "output_type": "execute_result"
        }
      ],
      "source": [
        "# check missing values in numerical variables in X_test\n",
        "\n",
        "X_test[numerical].isnull().sum()"
      ]
    },
    {
      "cell_type": "markdown",
      "metadata": {
        "id": "0gSKnaHbB080"
      },
      "source": [
        "Now, we can see that there are no missing values in the numerical columns of training and test set."
      ]
    },
    {
      "cell_type": "markdown",
      "metadata": {
        "id": "2DDhvMqGB080"
      },
      "source": [
        "### Engineering missing values in categorical variables"
      ]
    },
    {
      "cell_type": "code",
      "execution_count": 82,
      "metadata": {
        "colab": {
          "base_uri": "https://localhost:8080/",
          "height": 241
        },
        "id": "uYhAjntoB080",
        "outputId": "56af8de4-effd-426d-d3be-898903a1dac1"
      },
      "outputs": [
        {
          "data": {
            "text/plain": [
              "Location       0.000000\n",
              "WindGustDir    0.065114\n",
              "WindDir9am     0.070134\n",
              "WindDir3pm     0.026443\n",
              "RainToday      0.010013\n",
              "dtype: float64"
            ]
          },
          "execution_count": 82,
          "metadata": {},
          "output_type": "execute_result"
        }
      ],
      "source": [
        "# print percentage of missing values in the categorical variables in training set\n",
        "\n",
        "X_train[categorical].isnull().mean()"
      ]
    },
    {
      "cell_type": "code",
      "execution_count": 83,
      "metadata": {
        "colab": {
          "base_uri": "https://localhost:8080/"
        },
        "id": "zI_F8qtjB080",
        "outputId": "4a4bc92e-65c2-4999-fa33-a4aa8ddbf8f9"
      },
      "outputs": [
        {
          "name": "stdout",
          "output_type": "stream",
          "text": [
            "WindGustDir 0.06511419378659213\n",
            "WindDir9am 0.07013379749283542\n",
            "WindDir3pm 0.026443026179299188\n",
            "RainToday 0.01001283471350458\n"
          ]
        }
      ],
      "source": [
        "# print categorical variables with missing data\n",
        "\n",
        "for col in categorical:\n",
        "    if X_train[col].isnull().mean()>0:\n",
        "        print(col, (X_train[col].isnull().mean()))"
      ]
    },
    {
      "cell_type": "code",
      "execution_count": 85,
      "metadata": {
        "id": "hC7d0jvkB080"
      },
      "outputs": [],
      "source": [
        "# impute missing categorical variables with \"most frequent value\"\n",
        "\n",
        "for df2 in [X_train, X_test]:\n",
        "    df2['WindGustDir'].fillna(X_train['WindGustDir'].mode()[0], inplace=True)\n",
        "    df2['WindDir9am'].fillna(X_train['WindDir9am'].mode()[0], inplace=True)\n",
        "    df2['WindDir3pm'].fillna(X_train['WindDir3pm'].mode()[0], inplace=True)\n",
        "    df2['RainToday'].fillna(X_train['RainToday'].mode()[0], inplace=True)"
      ]
    },
    {
      "cell_type": "code",
      "execution_count": 86,
      "metadata": {
        "colab": {
          "base_uri": "https://localhost:8080/",
          "height": 241
        },
        "id": "RhLfrCjnB080",
        "outputId": "968deabb-c8d7-4665-91db-b0f12f1c9c97"
      },
      "outputs": [
        {
          "data": {
            "text/plain": [
              "Location       0\n",
              "WindGustDir    0\n",
              "WindDir9am     0\n",
              "WindDir3pm     0\n",
              "RainToday      0\n",
              "dtype: int64"
            ]
          },
          "execution_count": 86,
          "metadata": {},
          "output_type": "execute_result"
        }
      ],
      "source": [
        "# check missing values in categorical variables in X_train\n",
        "\n",
        "X_train[categorical].isnull().sum()"
      ]
    },
    {
      "cell_type": "code",
      "execution_count": 87,
      "metadata": {
        "colab": {
          "base_uri": "https://localhost:8080/",
          "height": 241
        },
        "id": "N8sTnZ6VB081",
        "outputId": "661891b7-7a7b-4bc6-8c37-62a823f25886"
      },
      "outputs": [
        {
          "data": {
            "text/plain": [
              "Location       0\n",
              "WindGustDir    0\n",
              "WindDir9am     0\n",
              "WindDir3pm     0\n",
              "RainToday      0\n",
              "dtype: int64"
            ]
          },
          "execution_count": 87,
          "metadata": {},
          "output_type": "execute_result"
        }
      ],
      "source": [
        "# check missing values in categorical variables in X_test\n",
        "\n",
        "X_test[categorical].isnull().sum()"
      ]
    },
    {
      "cell_type": "markdown",
      "metadata": {
        "id": "zyCBr7awB081"
      },
      "source": [
        "As a final check, I will check for missing values in X_train and X_test."
      ]
    },
    {
      "cell_type": "code",
      "execution_count": 88,
      "metadata": {
        "colab": {
          "base_uri": "https://localhost:8080/",
          "height": 836
        },
        "id": "rtBu0TyJB081",
        "outputId": "53e84015-ac1b-40c0-f49e-9911bec99ed4"
      },
      "outputs": [
        {
          "data": {
            "text/plain": [
              "Location         0\n",
              "MinTemp          0\n",
              "MaxTemp          0\n",
              "Rainfall         0\n",
              "Evaporation      0\n",
              "Sunshine         0\n",
              "WindGustDir      0\n",
              "WindGustSpeed    0\n",
              "WindDir9am       0\n",
              "WindDir3pm       0\n",
              "WindSpeed9am     0\n",
              "WindSpeed3pm     0\n",
              "Humidity9am      0\n",
              "Humidity3pm      0\n",
              "Pressure9am      0\n",
              "Pressure3pm      0\n",
              "Cloud9am         0\n",
              "Cloud3pm         0\n",
              "Temp9am          0\n",
              "Temp3pm          0\n",
              "RainToday        0\n",
              "Year             0\n",
              "Month            0\n",
              "Day              0\n",
              "dtype: int64"
            ]
          },
          "execution_count": 88,
          "metadata": {},
          "output_type": "execute_result"
        }
      ],
      "source": [
        "# check missing values in X_train\n",
        "\n",
        "X_train.isnull().sum()"
      ]
    },
    {
      "cell_type": "code",
      "execution_count": 89,
      "metadata": {
        "colab": {
          "base_uri": "https://localhost:8080/",
          "height": 836
        },
        "id": "I8Pls3a0B081",
        "outputId": "10a6a435-c453-48ad-b753-c322556dca58"
      },
      "outputs": [
        {
          "data": {
            "text/plain": [
              "Location         0\n",
              "MinTemp          0\n",
              "MaxTemp          0\n",
              "Rainfall         0\n",
              "Evaporation      0\n",
              "Sunshine         0\n",
              "WindGustDir      0\n",
              "WindGustSpeed    0\n",
              "WindDir9am       0\n",
              "WindDir3pm       0\n",
              "WindSpeed9am     0\n",
              "WindSpeed3pm     0\n",
              "Humidity9am      0\n",
              "Humidity3pm      0\n",
              "Pressure9am      0\n",
              "Pressure3pm      0\n",
              "Cloud9am         0\n",
              "Cloud3pm         0\n",
              "Temp9am          0\n",
              "Temp3pm          0\n",
              "RainToday        0\n",
              "Year             0\n",
              "Month            0\n",
              "Day              0\n",
              "dtype: int64"
            ]
          },
          "execution_count": 89,
          "metadata": {},
          "output_type": "execute_result"
        }
      ],
      "source": [
        "# check missing values in X_test\n",
        "\n",
        "X_test.isnull().sum()"
      ]
    },
    {
      "cell_type": "markdown",
      "metadata": {
        "id": "3UjN3RKHB081"
      },
      "source": [
        "We can see that there are no missing values in X_train and X_test."
      ]
    },
    {
      "cell_type": "markdown",
      "metadata": {
        "id": "bY1h_9eJB082"
      },
      "source": [
        "### Engineering outliers in numerical variables\n",
        "\n",
        "\n",
        "We have seen that the `Rainfall`, `Evaporation`, `WindSpeed9am` and `WindSpeed3pm` columns contain outliers. I will use top-coding approach to cap maximum values and remove outliers from the above variables."
      ]
    },
    {
      "cell_type": "code",
      "execution_count": 90,
      "metadata": {
        "id": "7DdydQQHB082"
      },
      "outputs": [],
      "source": [
        "def max_value(df3, variable, top):\n",
        "    return np.where(df3[variable]>top, top, df3[variable])\n",
        "\n",
        "for df3 in [X_train, X_test]:\n",
        "    df3['Rainfall'] = max_value(df3, 'Rainfall', 3.2)\n",
        "    df3['Evaporation'] = max_value(df3, 'Evaporation', 21.8)\n",
        "    df3['WindSpeed9am'] = max_value(df3, 'WindSpeed9am', 55)\n",
        "    df3['WindSpeed3pm'] = max_value(df3, 'WindSpeed3pm', 57)"
      ]
    },
    {
      "cell_type": "code",
      "execution_count": 91,
      "metadata": {
        "colab": {
          "base_uri": "https://localhost:8080/"
        },
        "id": "ZUTFJwUTB082",
        "outputId": "bcd162cd-7cc2-43ea-ed85-fc199ca8495e"
      },
      "outputs": [
        {
          "data": {
            "text/plain": [
              "(3.2, 3.2)"
            ]
          },
          "execution_count": 91,
          "metadata": {},
          "output_type": "execute_result"
        }
      ],
      "source": [
        "X_train.Rainfall.max(), X_test.Rainfall.max()"
      ]
    },
    {
      "cell_type": "code",
      "execution_count": 92,
      "metadata": {
        "colab": {
          "base_uri": "https://localhost:8080/"
        },
        "id": "W0P3I8wDB082",
        "outputId": "5fd7b1c5-8973-46ef-ef19-2c8d4aefc82d"
      },
      "outputs": [
        {
          "data": {
            "text/plain": [
              "(21.8, 21.8)"
            ]
          },
          "execution_count": 92,
          "metadata": {},
          "output_type": "execute_result"
        }
      ],
      "source": [
        "X_train.Evaporation.max(), X_test.Evaporation.max()"
      ]
    },
    {
      "cell_type": "code",
      "execution_count": 93,
      "metadata": {
        "colab": {
          "base_uri": "https://localhost:8080/"
        },
        "id": "m9mjJOI6B082",
        "outputId": "2ee99e9c-9a3e-41ab-c04f-5a8e1587fe86"
      },
      "outputs": [
        {
          "data": {
            "text/plain": [
              "(55.0, 55.0)"
            ]
          },
          "execution_count": 93,
          "metadata": {},
          "output_type": "execute_result"
        }
      ],
      "source": [
        "X_train.WindSpeed9am.max(), X_test.WindSpeed9am.max()"
      ]
    },
    {
      "cell_type": "code",
      "execution_count": 94,
      "metadata": {
        "colab": {
          "base_uri": "https://localhost:8080/"
        },
        "id": "wThyp732B082",
        "outputId": "867f829d-f639-4153-a99b-525064821e2f"
      },
      "outputs": [
        {
          "data": {
            "text/plain": [
              "(57.0, 57.0)"
            ]
          },
          "execution_count": 94,
          "metadata": {},
          "output_type": "execute_result"
        }
      ],
      "source": [
        "X_train.WindSpeed3pm.max(), X_test.WindSpeed3pm.max()"
      ]
    },
    {
      "cell_type": "code",
      "execution_count": 95,
      "metadata": {
        "colab": {
          "base_uri": "https://localhost:8080/",
          "height": 320
        },
        "id": "4jRttXAxB083",
        "outputId": "212b6e1a-fab9-427c-8844-500741c20fa2"
      },
      "outputs": [
        {
          "data": {
            "text/html": [
              "<div>\n",
              "<style scoped>\n",
              "    .dataframe tbody tr th:only-of-type {\n",
              "        vertical-align: middle;\n",
              "    }\n",
              "\n",
              "    .dataframe tbody tr th {\n",
              "        vertical-align: top;\n",
              "    }\n",
              "\n",
              "    .dataframe thead th {\n",
              "        text-align: right;\n",
              "    }\n",
              "</style>\n",
              "<table border=\"1\" class=\"dataframe\">\n",
              "  <thead>\n",
              "    <tr style=\"text-align: right;\">\n",
              "      <th></th>\n",
              "      <th>MinTemp</th>\n",
              "      <th>MaxTemp</th>\n",
              "      <th>Rainfall</th>\n",
              "      <th>Evaporation</th>\n",
              "      <th>Sunshine</th>\n",
              "      <th>WindGustSpeed</th>\n",
              "      <th>WindSpeed9am</th>\n",
              "      <th>WindSpeed3pm</th>\n",
              "      <th>Humidity9am</th>\n",
              "      <th>Humidity3pm</th>\n",
              "      <th>Pressure9am</th>\n",
              "      <th>Pressure3pm</th>\n",
              "      <th>Cloud9am</th>\n",
              "      <th>Cloud3pm</th>\n",
              "      <th>Temp9am</th>\n",
              "      <th>Temp3pm</th>\n",
              "      <th>Year</th>\n",
              "      <th>Month</th>\n",
              "      <th>Day</th>\n",
              "    </tr>\n",
              "  </thead>\n",
              "  <tbody>\n",
              "    <tr>\n",
              "      <th>count</th>\n",
              "      <td>113754.000000</td>\n",
              "      <td>113754.000000</td>\n",
              "      <td>113754.000000</td>\n",
              "      <td>113754.000000</td>\n",
              "      <td>113754.000000</td>\n",
              "      <td>113754.000000</td>\n",
              "      <td>113754.000000</td>\n",
              "      <td>113754.000000</td>\n",
              "      <td>113754.000000</td>\n",
              "      <td>113754.000000</td>\n",
              "      <td>113754.000000</td>\n",
              "      <td>113754.000000</td>\n",
              "      <td>113754.000000</td>\n",
              "      <td>113754.000000</td>\n",
              "      <td>113754.000000</td>\n",
              "      <td>113754.000000</td>\n",
              "      <td>113754.000000</td>\n",
              "      <td>113754.000000</td>\n",
              "      <td>113754.000000</td>\n",
              "    </tr>\n",
              "    <tr>\n",
              "      <th>mean</th>\n",
              "      <td>12.193497</td>\n",
              "      <td>23.237216</td>\n",
              "      <td>0.675080</td>\n",
              "      <td>5.151606</td>\n",
              "      <td>8.041154</td>\n",
              "      <td>39.884074</td>\n",
              "      <td>13.978155</td>\n",
              "      <td>18.614756</td>\n",
              "      <td>68.867486</td>\n",
              "      <td>51.509547</td>\n",
              "      <td>1017.640649</td>\n",
              "      <td>1015.241101</td>\n",
              "      <td>4.651801</td>\n",
              "      <td>4.703588</td>\n",
              "      <td>16.995062</td>\n",
              "      <td>21.688643</td>\n",
              "      <td>2012.759727</td>\n",
              "      <td>6.404021</td>\n",
              "      <td>15.710419</td>\n",
              "    </tr>\n",
              "    <tr>\n",
              "      <th>std</th>\n",
              "      <td>6.388279</td>\n",
              "      <td>7.094149</td>\n",
              "      <td>1.183837</td>\n",
              "      <td>2.823707</td>\n",
              "      <td>2.769480</td>\n",
              "      <td>13.116959</td>\n",
              "      <td>8.806558</td>\n",
              "      <td>8.685862</td>\n",
              "      <td>18.935587</td>\n",
              "      <td>20.530723</td>\n",
              "      <td>6.738680</td>\n",
              "      <td>6.675168</td>\n",
              "      <td>2.292726</td>\n",
              "      <td>2.117847</td>\n",
              "      <td>6.463772</td>\n",
              "      <td>6.855649</td>\n",
              "      <td>2.540419</td>\n",
              "      <td>3.427798</td>\n",
              "      <td>8.796821</td>\n",
              "    </tr>\n",
              "    <tr>\n",
              "      <th>min</th>\n",
              "      <td>-8.200000</td>\n",
              "      <td>-4.800000</td>\n",
              "      <td>0.000000</td>\n",
              "      <td>0.000000</td>\n",
              "      <td>0.000000</td>\n",
              "      <td>6.000000</td>\n",
              "      <td>0.000000</td>\n",
              "      <td>0.000000</td>\n",
              "      <td>0.000000</td>\n",
              "      <td>0.000000</td>\n",
              "      <td>980.500000</td>\n",
              "      <td>977.100000</td>\n",
              "      <td>0.000000</td>\n",
              "      <td>0.000000</td>\n",
              "      <td>-7.200000</td>\n",
              "      <td>-5.400000</td>\n",
              "      <td>2007.000000</td>\n",
              "      <td>1.000000</td>\n",
              "      <td>1.000000</td>\n",
              "    </tr>\n",
              "    <tr>\n",
              "      <th>25%</th>\n",
              "      <td>7.600000</td>\n",
              "      <td>18.000000</td>\n",
              "      <td>0.000000</td>\n",
              "      <td>4.000000</td>\n",
              "      <td>8.200000</td>\n",
              "      <td>31.000000</td>\n",
              "      <td>7.000000</td>\n",
              "      <td>13.000000</td>\n",
              "      <td>57.000000</td>\n",
              "      <td>37.000000</td>\n",
              "      <td>1013.500000</td>\n",
              "      <td>1011.000000</td>\n",
              "      <td>3.000000</td>\n",
              "      <td>4.000000</td>\n",
              "      <td>12.300000</td>\n",
              "      <td>16.700000</td>\n",
              "      <td>2011.000000</td>\n",
              "      <td>3.000000</td>\n",
              "      <td>8.000000</td>\n",
              "    </tr>\n",
              "    <tr>\n",
              "      <th>50%</th>\n",
              "      <td>12.000000</td>\n",
              "      <td>22.600000</td>\n",
              "      <td>0.000000</td>\n",
              "      <td>4.800000</td>\n",
              "      <td>8.500000</td>\n",
              "      <td>39.000000</td>\n",
              "      <td>13.000000</td>\n",
              "      <td>19.000000</td>\n",
              "      <td>70.000000</td>\n",
              "      <td>52.000000</td>\n",
              "      <td>1017.600000</td>\n",
              "      <td>1015.200000</td>\n",
              "      <td>5.000000</td>\n",
              "      <td>5.000000</td>\n",
              "      <td>16.700000</td>\n",
              "      <td>21.100000</td>\n",
              "      <td>2013.000000</td>\n",
              "      <td>6.000000</td>\n",
              "      <td>16.000000</td>\n",
              "    </tr>\n",
              "    <tr>\n",
              "      <th>75%</th>\n",
              "      <td>16.800000</td>\n",
              "      <td>28.200000</td>\n",
              "      <td>0.600000</td>\n",
              "      <td>5.400000</td>\n",
              "      <td>8.700000</td>\n",
              "      <td>46.000000</td>\n",
              "      <td>19.000000</td>\n",
              "      <td>24.000000</td>\n",
              "      <td>83.000000</td>\n",
              "      <td>65.000000</td>\n",
              "      <td>1021.800000</td>\n",
              "      <td>1019.400000</td>\n",
              "      <td>6.000000</td>\n",
              "      <td>6.000000</td>\n",
              "      <td>21.500000</td>\n",
              "      <td>26.300000</td>\n",
              "      <td>2015.000000</td>\n",
              "      <td>9.000000</td>\n",
              "      <td>23.000000</td>\n",
              "    </tr>\n",
              "    <tr>\n",
              "      <th>max</th>\n",
              "      <td>33.900000</td>\n",
              "      <td>48.100000</td>\n",
              "      <td>3.200000</td>\n",
              "      <td>21.800000</td>\n",
              "      <td>14.500000</td>\n",
              "      <td>135.000000</td>\n",
              "      <td>55.000000</td>\n",
              "      <td>57.000000</td>\n",
              "      <td>100.000000</td>\n",
              "      <td>100.000000</td>\n",
              "      <td>1041.000000</td>\n",
              "      <td>1039.600000</td>\n",
              "      <td>9.000000</td>\n",
              "      <td>8.000000</td>\n",
              "      <td>40.200000</td>\n",
              "      <td>46.700000</td>\n",
              "      <td>2017.000000</td>\n",
              "      <td>12.000000</td>\n",
              "      <td>31.000000</td>\n",
              "    </tr>\n",
              "  </tbody>\n",
              "</table>\n",
              "</div>"
            ],
            "text/plain": [
              "             MinTemp        MaxTemp       Rainfall    Evaporation  \\\n",
              "count  113754.000000  113754.000000  113754.000000  113754.000000   \n",
              "mean       12.193497      23.237216       0.675080       5.151606   \n",
              "std         6.388279       7.094149       1.183837       2.823707   \n",
              "min        -8.200000      -4.800000       0.000000       0.000000   \n",
              "25%         7.600000      18.000000       0.000000       4.000000   \n",
              "50%        12.000000      22.600000       0.000000       4.800000   \n",
              "75%        16.800000      28.200000       0.600000       5.400000   \n",
              "max        33.900000      48.100000       3.200000      21.800000   \n",
              "\n",
              "            Sunshine  WindGustSpeed   WindSpeed9am   WindSpeed3pm  \\\n",
              "count  113754.000000  113754.000000  113754.000000  113754.000000   \n",
              "mean        8.041154      39.884074      13.978155      18.614756   \n",
              "std         2.769480      13.116959       8.806558       8.685862   \n",
              "min         0.000000       6.000000       0.000000       0.000000   \n",
              "25%         8.200000      31.000000       7.000000      13.000000   \n",
              "50%         8.500000      39.000000      13.000000      19.000000   \n",
              "75%         8.700000      46.000000      19.000000      24.000000   \n",
              "max        14.500000     135.000000      55.000000      57.000000   \n",
              "\n",
              "         Humidity9am    Humidity3pm    Pressure9am    Pressure3pm  \\\n",
              "count  113754.000000  113754.000000  113754.000000  113754.000000   \n",
              "mean       68.867486      51.509547    1017.640649    1015.241101   \n",
              "std        18.935587      20.530723       6.738680       6.675168   \n",
              "min         0.000000       0.000000     980.500000     977.100000   \n",
              "25%        57.000000      37.000000    1013.500000    1011.000000   \n",
              "50%        70.000000      52.000000    1017.600000    1015.200000   \n",
              "75%        83.000000      65.000000    1021.800000    1019.400000   \n",
              "max       100.000000     100.000000    1041.000000    1039.600000   \n",
              "\n",
              "            Cloud9am       Cloud3pm        Temp9am        Temp3pm  \\\n",
              "count  113754.000000  113754.000000  113754.000000  113754.000000   \n",
              "mean        4.651801       4.703588      16.995062      21.688643   \n",
              "std         2.292726       2.117847       6.463772       6.855649   \n",
              "min         0.000000       0.000000      -7.200000      -5.400000   \n",
              "25%         3.000000       4.000000      12.300000      16.700000   \n",
              "50%         5.000000       5.000000      16.700000      21.100000   \n",
              "75%         6.000000       6.000000      21.500000      26.300000   \n",
              "max         9.000000       8.000000      40.200000      46.700000   \n",
              "\n",
              "                Year          Month            Day  \n",
              "count  113754.000000  113754.000000  113754.000000  \n",
              "mean     2012.759727       6.404021      15.710419  \n",
              "std         2.540419       3.427798       8.796821  \n",
              "min      2007.000000       1.000000       1.000000  \n",
              "25%      2011.000000       3.000000       8.000000  \n",
              "50%      2013.000000       6.000000      16.000000  \n",
              "75%      2015.000000       9.000000      23.000000  \n",
              "max      2017.000000      12.000000      31.000000  "
            ]
          },
          "execution_count": 95,
          "metadata": {},
          "output_type": "execute_result"
        }
      ],
      "source": [
        "X_train[numerical].describe()"
      ]
    },
    {
      "cell_type": "markdown",
      "metadata": {
        "id": "Ph9K7GKsB083"
      },
      "source": [
        "We can now see that the outliers in `Rainfall`, `Evaporation`, `WindSpeed9am` and `WindSpeed3pm` columns are capped."
      ]
    },
    {
      "cell_type": "markdown",
      "metadata": {
        "id": "WJCveB2zB083"
      },
      "source": [
        "### Encode categorical variables"
      ]
    },
    {
      "cell_type": "code",
      "execution_count": 96,
      "metadata": {
        "colab": {
          "base_uri": "https://localhost:8080/"
        },
        "id": "Z1pQrilQB083",
        "outputId": "9ec9fb5e-9752-459b-bd36-ade68eee5343"
      },
      "outputs": [
        {
          "data": {
            "text/plain": [
              "['Location', 'WindGustDir', 'WindDir9am', 'WindDir3pm', 'RainToday']"
            ]
          },
          "execution_count": 96,
          "metadata": {},
          "output_type": "execute_result"
        }
      ],
      "source": [
        "categorical"
      ]
    },
    {
      "cell_type": "code",
      "execution_count": 97,
      "metadata": {
        "colab": {
          "base_uri": "https://localhost:8080/",
          "height": 206
        },
        "id": "T1YDEfZTB083",
        "outputId": "8952a614-2ea1-48ca-97b4-e98a02835206"
      },
      "outputs": [
        {
          "data": {
            "text/html": [
              "<div>\n",
              "<style scoped>\n",
              "    .dataframe tbody tr th:only-of-type {\n",
              "        vertical-align: middle;\n",
              "    }\n",
              "\n",
              "    .dataframe tbody tr th {\n",
              "        vertical-align: top;\n",
              "    }\n",
              "\n",
              "    .dataframe thead th {\n",
              "        text-align: right;\n",
              "    }\n",
              "</style>\n",
              "<table border=\"1\" class=\"dataframe\">\n",
              "  <thead>\n",
              "    <tr style=\"text-align: right;\">\n",
              "      <th></th>\n",
              "      <th>Location</th>\n",
              "      <th>WindGustDir</th>\n",
              "      <th>WindDir9am</th>\n",
              "      <th>WindDir3pm</th>\n",
              "      <th>RainToday</th>\n",
              "    </tr>\n",
              "  </thead>\n",
              "  <tbody>\n",
              "    <tr>\n",
              "      <th>110803</th>\n",
              "      <td>Witchcliffe</td>\n",
              "      <td>S</td>\n",
              "      <td>SSE</td>\n",
              "      <td>S</td>\n",
              "      <td>No</td>\n",
              "    </tr>\n",
              "    <tr>\n",
              "      <th>87289</th>\n",
              "      <td>Cairns</td>\n",
              "      <td>ENE</td>\n",
              "      <td>SSE</td>\n",
              "      <td>SE</td>\n",
              "      <td>Yes</td>\n",
              "    </tr>\n",
              "    <tr>\n",
              "      <th>134949</th>\n",
              "      <td>AliceSprings</td>\n",
              "      <td>E</td>\n",
              "      <td>NE</td>\n",
              "      <td>N</td>\n",
              "      <td>No</td>\n",
              "    </tr>\n",
              "    <tr>\n",
              "      <th>85553</th>\n",
              "      <td>Cairns</td>\n",
              "      <td>ESE</td>\n",
              "      <td>SSE</td>\n",
              "      <td>E</td>\n",
              "      <td>No</td>\n",
              "    </tr>\n",
              "    <tr>\n",
              "      <th>16110</th>\n",
              "      <td>Newcastle</td>\n",
              "      <td>W</td>\n",
              "      <td>N</td>\n",
              "      <td>SE</td>\n",
              "      <td>No</td>\n",
              "    </tr>\n",
              "  </tbody>\n",
              "</table>\n",
              "</div>"
            ],
            "text/plain": [
              "            Location WindGustDir WindDir9am WindDir3pm RainToday\n",
              "110803   Witchcliffe           S        SSE          S        No\n",
              "87289         Cairns         ENE        SSE         SE       Yes\n",
              "134949  AliceSprings           E         NE          N        No\n",
              "85553         Cairns         ESE        SSE          E        No\n",
              "16110      Newcastle           W          N         SE        No"
            ]
          },
          "execution_count": 97,
          "metadata": {},
          "output_type": "execute_result"
        }
      ],
      "source": [
        "X_train[categorical].head()"
      ]
    },
    {
      "cell_type": "code",
      "execution_count": 99,
      "metadata": {
        "id": "BoPN8DZlB083"
      },
      "outputs": [],
      "source": [
        "# encode RainToday variable\n",
        "\n",
        "import category_encoders as ce\n",
        "\n",
        "encoder = ce.BinaryEncoder(cols=['RainToday'])\n",
        "\n",
        "X_train = encoder.fit_transform(X_train)\n",
        "\n",
        "X_test = encoder.transform(X_test)"
      ]
    },
    {
      "cell_type": "code",
      "execution_count": 100,
      "metadata": {
        "id": "QP-4P0sZB083",
        "outputId": "9405098e-8a9d-4c5f-f416-987f1c1b0c97"
      },
      "outputs": [
        {
          "data": {
            "text/html": [
              "<div>\n",
              "<style scoped>\n",
              "    .dataframe tbody tr th:only-of-type {\n",
              "        vertical-align: middle;\n",
              "    }\n",
              "\n",
              "    .dataframe tbody tr th {\n",
              "        vertical-align: top;\n",
              "    }\n",
              "\n",
              "    .dataframe thead th {\n",
              "        text-align: right;\n",
              "    }\n",
              "</style>\n",
              "<table border=\"1\" class=\"dataframe\">\n",
              "  <thead>\n",
              "    <tr style=\"text-align: right;\">\n",
              "      <th></th>\n",
              "      <th>Location</th>\n",
              "      <th>MinTemp</th>\n",
              "      <th>MaxTemp</th>\n",
              "      <th>Rainfall</th>\n",
              "      <th>Evaporation</th>\n",
              "      <th>Sunshine</th>\n",
              "      <th>WindGustDir</th>\n",
              "      <th>WindGustSpeed</th>\n",
              "      <th>WindDir9am</th>\n",
              "      <th>WindDir3pm</th>\n",
              "      <th>...</th>\n",
              "      <th>Pressure3pm</th>\n",
              "      <th>Cloud9am</th>\n",
              "      <th>Cloud3pm</th>\n",
              "      <th>Temp9am</th>\n",
              "      <th>Temp3pm</th>\n",
              "      <th>RainToday_0</th>\n",
              "      <th>RainToday_1</th>\n",
              "      <th>Year</th>\n",
              "      <th>Month</th>\n",
              "      <th>Day</th>\n",
              "    </tr>\n",
              "  </thead>\n",
              "  <tbody>\n",
              "    <tr>\n",
              "      <th>110803</th>\n",
              "      <td>Witchcliffe</td>\n",
              "      <td>13.9</td>\n",
              "      <td>22.6</td>\n",
              "      <td>0.2</td>\n",
              "      <td>4.8</td>\n",
              "      <td>8.5</td>\n",
              "      <td>S</td>\n",
              "      <td>41.0</td>\n",
              "      <td>SSE</td>\n",
              "      <td>S</td>\n",
              "      <td>...</td>\n",
              "      <td>1013.4</td>\n",
              "      <td>5.0</td>\n",
              "      <td>5.0</td>\n",
              "      <td>18.8</td>\n",
              "      <td>20.4</td>\n",
              "      <td>0</td>\n",
              "      <td>1</td>\n",
              "      <td>2014</td>\n",
              "      <td>4</td>\n",
              "      <td>25</td>\n",
              "    </tr>\n",
              "    <tr>\n",
              "      <th>87289</th>\n",
              "      <td>Cairns</td>\n",
              "      <td>22.4</td>\n",
              "      <td>29.4</td>\n",
              "      <td>2.0</td>\n",
              "      <td>6.0</td>\n",
              "      <td>6.3</td>\n",
              "      <td>ENE</td>\n",
              "      <td>33.0</td>\n",
              "      <td>SSE</td>\n",
              "      <td>SE</td>\n",
              "      <td>...</td>\n",
              "      <td>1013.1</td>\n",
              "      <td>7.0</td>\n",
              "      <td>5.0</td>\n",
              "      <td>26.4</td>\n",
              "      <td>27.5</td>\n",
              "      <td>1</td>\n",
              "      <td>0</td>\n",
              "      <td>2015</td>\n",
              "      <td>11</td>\n",
              "      <td>2</td>\n",
              "    </tr>\n",
              "    <tr>\n",
              "      <th>134949</th>\n",
              "      <td>AliceSprings</td>\n",
              "      <td>9.7</td>\n",
              "      <td>36.2</td>\n",
              "      <td>0.0</td>\n",
              "      <td>11.4</td>\n",
              "      <td>12.3</td>\n",
              "      <td>E</td>\n",
              "      <td>31.0</td>\n",
              "      <td>NE</td>\n",
              "      <td>N</td>\n",
              "      <td>...</td>\n",
              "      <td>1013.6</td>\n",
              "      <td>1.0</td>\n",
              "      <td>1.0</td>\n",
              "      <td>28.5</td>\n",
              "      <td>35.0</td>\n",
              "      <td>0</td>\n",
              "      <td>1</td>\n",
              "      <td>2014</td>\n",
              "      <td>10</td>\n",
              "      <td>19</td>\n",
              "    </tr>\n",
              "    <tr>\n",
              "      <th>85553</th>\n",
              "      <td>Cairns</td>\n",
              "      <td>20.5</td>\n",
              "      <td>30.1</td>\n",
              "      <td>0.0</td>\n",
              "      <td>8.8</td>\n",
              "      <td>11.1</td>\n",
              "      <td>ESE</td>\n",
              "      <td>37.0</td>\n",
              "      <td>SSE</td>\n",
              "      <td>E</td>\n",
              "      <td>...</td>\n",
              "      <td>1010.8</td>\n",
              "      <td>2.0</td>\n",
              "      <td>3.0</td>\n",
              "      <td>27.3</td>\n",
              "      <td>29.4</td>\n",
              "      <td>0</td>\n",
              "      <td>1</td>\n",
              "      <td>2010</td>\n",
              "      <td>10</td>\n",
              "      <td>30</td>\n",
              "    </tr>\n",
              "    <tr>\n",
              "      <th>16110</th>\n",
              "      <td>Newcastle</td>\n",
              "      <td>16.8</td>\n",
              "      <td>29.2</td>\n",
              "      <td>0.0</td>\n",
              "      <td>4.8</td>\n",
              "      <td>8.5</td>\n",
              "      <td>W</td>\n",
              "      <td>39.0</td>\n",
              "      <td>N</td>\n",
              "      <td>SE</td>\n",
              "      <td>...</td>\n",
              "      <td>1015.2</td>\n",
              "      <td>5.0</td>\n",
              "      <td>8.0</td>\n",
              "      <td>22.2</td>\n",
              "      <td>27.0</td>\n",
              "      <td>0</td>\n",
              "      <td>1</td>\n",
              "      <td>2012</td>\n",
              "      <td>11</td>\n",
              "      <td>8</td>\n",
              "    </tr>\n",
              "  </tbody>\n",
              "</table>\n",
              "<p>5 rows × 25 columns</p>\n",
              "</div>"
            ],
            "text/plain": [
              "            Location  MinTemp  MaxTemp  Rainfall  Evaporation  Sunshine  \\\n",
              "110803   Witchcliffe     13.9     22.6       0.2          4.8       8.5   \n",
              "87289         Cairns     22.4     29.4       2.0          6.0       6.3   \n",
              "134949  AliceSprings      9.7     36.2       0.0         11.4      12.3   \n",
              "85553         Cairns     20.5     30.1       0.0          8.8      11.1   \n",
              "16110      Newcastle     16.8     29.2       0.0          4.8       8.5   \n",
              "\n",
              "       WindGustDir  WindGustSpeed WindDir9am WindDir3pm  ...  Pressure3pm  \\\n",
              "110803           S           41.0        SSE          S  ...       1013.4   \n",
              "87289          ENE           33.0        SSE         SE  ...       1013.1   \n",
              "134949           E           31.0         NE          N  ...       1013.6   \n",
              "85553          ESE           37.0        SSE          E  ...       1010.8   \n",
              "16110            W           39.0          N         SE  ...       1015.2   \n",
              "\n",
              "        Cloud9am  Cloud3pm  Temp9am  Temp3pm  RainToday_0  RainToday_1  Year  \\\n",
              "110803       5.0       5.0     18.8     20.4            0            1  2014   \n",
              "87289        7.0       5.0     26.4     27.5            1            0  2015   \n",
              "134949       1.0       1.0     28.5     35.0            0            1  2014   \n",
              "85553        2.0       3.0     27.3     29.4            0            1  2010   \n",
              "16110        5.0       8.0     22.2     27.0            0            1  2012   \n",
              "\n",
              "        Month  Day  \n",
              "110803      4   25  \n",
              "87289      11    2  \n",
              "134949     10   19  \n",
              "85553      10   30  \n",
              "16110      11    8  \n",
              "\n",
              "[5 rows x 25 columns]"
            ]
          },
          "execution_count": 100,
          "metadata": {},
          "output_type": "execute_result"
        }
      ],
      "source": [
        "X_train.head()"
      ]
    },
    {
      "cell_type": "markdown",
      "metadata": {
        "id": "E8qywvLWB084"
      },
      "source": [
        "We can see that two additional variables `RainToday_0` and `RainToday_1` are created from `RainToday` variable.\n",
        "\n",
        "Now, I will create the `X_train` training set."
      ]
    },
    {
      "cell_type": "code",
      "execution_count": 101,
      "metadata": {
        "id": "ap2RbmQrB084"
      },
      "outputs": [],
      "source": [
        "X_train = pd.concat([X_train[numerical], X_train[['RainToday_0', 'RainToday_1']],\n",
        "                     pd.get_dummies(X_train.Location),\n",
        "                     pd.get_dummies(X_train.WindGustDir),\n",
        "                     pd.get_dummies(X_train.WindDir9am),\n",
        "                     pd.get_dummies(X_train.WindDir3pm)], axis=1)"
      ]
    },
    {
      "cell_type": "code",
      "execution_count": 102,
      "metadata": {
        "colab": {
          "base_uri": "https://localhost:8080/",
          "height": 255
        },
        "id": "wiYwT1f-B084",
        "outputId": "4bdbaec8-4bc8-4004-ae1e-d41816e67c6a"
      },
      "outputs": [
        {
          "data": {
            "text/html": [
              "<div>\n",
              "<style scoped>\n",
              "    .dataframe tbody tr th:only-of-type {\n",
              "        vertical-align: middle;\n",
              "    }\n",
              "\n",
              "    .dataframe tbody tr th {\n",
              "        vertical-align: top;\n",
              "    }\n",
              "\n",
              "    .dataframe thead th {\n",
              "        text-align: right;\n",
              "    }\n",
              "</style>\n",
              "<table border=\"1\" class=\"dataframe\">\n",
              "  <thead>\n",
              "    <tr style=\"text-align: right;\">\n",
              "      <th></th>\n",
              "      <th>MinTemp</th>\n",
              "      <th>MaxTemp</th>\n",
              "      <th>Rainfall</th>\n",
              "      <th>Evaporation</th>\n",
              "      <th>Sunshine</th>\n",
              "      <th>WindGustSpeed</th>\n",
              "      <th>WindSpeed9am</th>\n",
              "      <th>WindSpeed3pm</th>\n",
              "      <th>Humidity9am</th>\n",
              "      <th>Humidity3pm</th>\n",
              "      <th>...</th>\n",
              "      <th>NNW</th>\n",
              "      <th>NW</th>\n",
              "      <th>S</th>\n",
              "      <th>SE</th>\n",
              "      <th>SSE</th>\n",
              "      <th>SSW</th>\n",
              "      <th>SW</th>\n",
              "      <th>W</th>\n",
              "      <th>WNW</th>\n",
              "      <th>WSW</th>\n",
              "    </tr>\n",
              "  </thead>\n",
              "  <tbody>\n",
              "    <tr>\n",
              "      <th>110803</th>\n",
              "      <td>13.9</td>\n",
              "      <td>22.6</td>\n",
              "      <td>0.2</td>\n",
              "      <td>4.8</td>\n",
              "      <td>8.5</td>\n",
              "      <td>41.0</td>\n",
              "      <td>20.0</td>\n",
              "      <td>28.0</td>\n",
              "      <td>65.0</td>\n",
              "      <td>55.0</td>\n",
              "      <td>...</td>\n",
              "      <td>False</td>\n",
              "      <td>False</td>\n",
              "      <td>True</td>\n",
              "      <td>False</td>\n",
              "      <td>False</td>\n",
              "      <td>False</td>\n",
              "      <td>False</td>\n",
              "      <td>False</td>\n",
              "      <td>False</td>\n",
              "      <td>False</td>\n",
              "    </tr>\n",
              "    <tr>\n",
              "      <th>87289</th>\n",
              "      <td>22.4</td>\n",
              "      <td>29.4</td>\n",
              "      <td>2.0</td>\n",
              "      <td>6.0</td>\n",
              "      <td>6.3</td>\n",
              "      <td>33.0</td>\n",
              "      <td>7.0</td>\n",
              "      <td>19.0</td>\n",
              "      <td>71.0</td>\n",
              "      <td>59.0</td>\n",
              "      <td>...</td>\n",
              "      <td>False</td>\n",
              "      <td>False</td>\n",
              "      <td>False</td>\n",
              "      <td>True</td>\n",
              "      <td>False</td>\n",
              "      <td>False</td>\n",
              "      <td>False</td>\n",
              "      <td>False</td>\n",
              "      <td>False</td>\n",
              "      <td>False</td>\n",
              "    </tr>\n",
              "    <tr>\n",
              "      <th>134949</th>\n",
              "      <td>9.7</td>\n",
              "      <td>36.2</td>\n",
              "      <td>0.0</td>\n",
              "      <td>11.4</td>\n",
              "      <td>12.3</td>\n",
              "      <td>31.0</td>\n",
              "      <td>15.0</td>\n",
              "      <td>11.0</td>\n",
              "      <td>6.0</td>\n",
              "      <td>2.0</td>\n",
              "      <td>...</td>\n",
              "      <td>False</td>\n",
              "      <td>False</td>\n",
              "      <td>False</td>\n",
              "      <td>False</td>\n",
              "      <td>False</td>\n",
              "      <td>False</td>\n",
              "      <td>False</td>\n",
              "      <td>False</td>\n",
              "      <td>False</td>\n",
              "      <td>False</td>\n",
              "    </tr>\n",
              "    <tr>\n",
              "      <th>85553</th>\n",
              "      <td>20.5</td>\n",
              "      <td>30.1</td>\n",
              "      <td>0.0</td>\n",
              "      <td>8.8</td>\n",
              "      <td>11.1</td>\n",
              "      <td>37.0</td>\n",
              "      <td>22.0</td>\n",
              "      <td>19.0</td>\n",
              "      <td>59.0</td>\n",
              "      <td>53.0</td>\n",
              "      <td>...</td>\n",
              "      <td>False</td>\n",
              "      <td>False</td>\n",
              "      <td>False</td>\n",
              "      <td>False</td>\n",
              "      <td>False</td>\n",
              "      <td>False</td>\n",
              "      <td>False</td>\n",
              "      <td>False</td>\n",
              "      <td>False</td>\n",
              "      <td>False</td>\n",
              "    </tr>\n",
              "    <tr>\n",
              "      <th>16110</th>\n",
              "      <td>16.8</td>\n",
              "      <td>29.2</td>\n",
              "      <td>0.0</td>\n",
              "      <td>4.8</td>\n",
              "      <td>8.5</td>\n",
              "      <td>39.0</td>\n",
              "      <td>0.0</td>\n",
              "      <td>7.0</td>\n",
              "      <td>72.0</td>\n",
              "      <td>53.0</td>\n",
              "      <td>...</td>\n",
              "      <td>False</td>\n",
              "      <td>False</td>\n",
              "      <td>False</td>\n",
              "      <td>True</td>\n",
              "      <td>False</td>\n",
              "      <td>False</td>\n",
              "      <td>False</td>\n",
              "      <td>False</td>\n",
              "      <td>False</td>\n",
              "      <td>False</td>\n",
              "    </tr>\n",
              "  </tbody>\n",
              "</table>\n",
              "<p>5 rows × 118 columns</p>\n",
              "</div>"
            ],
            "text/plain": [
              "        MinTemp  MaxTemp  Rainfall  Evaporation  Sunshine  WindGustSpeed  \\\n",
              "110803     13.9     22.6       0.2          4.8       8.5           41.0   \n",
              "87289      22.4     29.4       2.0          6.0       6.3           33.0   \n",
              "134949      9.7     36.2       0.0         11.4      12.3           31.0   \n",
              "85553      20.5     30.1       0.0          8.8      11.1           37.0   \n",
              "16110      16.8     29.2       0.0          4.8       8.5           39.0   \n",
              "\n",
              "        WindSpeed9am  WindSpeed3pm  Humidity9am  Humidity3pm  ...    NNW  \\\n",
              "110803          20.0          28.0         65.0         55.0  ...  False   \n",
              "87289            7.0          19.0         71.0         59.0  ...  False   \n",
              "134949          15.0          11.0          6.0          2.0  ...  False   \n",
              "85553           22.0          19.0         59.0         53.0  ...  False   \n",
              "16110            0.0           7.0         72.0         53.0  ...  False   \n",
              "\n",
              "           NW      S     SE    SSE    SSW     SW      W    WNW    WSW  \n",
              "110803  False   True  False  False  False  False  False  False  False  \n",
              "87289   False  False   True  False  False  False  False  False  False  \n",
              "134949  False  False  False  False  False  False  False  False  False  \n",
              "85553   False  False  False  False  False  False  False  False  False  \n",
              "16110   False  False   True  False  False  False  False  False  False  \n",
              "\n",
              "[5 rows x 118 columns]"
            ]
          },
          "execution_count": 102,
          "metadata": {},
          "output_type": "execute_result"
        }
      ],
      "source": [
        "X_train.head()"
      ]
    },
    {
      "cell_type": "markdown",
      "metadata": {
        "id": "VwCynm5PB084"
      },
      "source": [
        "Similarly, I will create the `X_test` testing set."
      ]
    },
    {
      "cell_type": "code",
      "execution_count": 103,
      "metadata": {
        "id": "GqtXGFRnB084"
      },
      "outputs": [],
      "source": [
        "X_test = pd.concat([X_test[numerical], X_test[['RainToday_0', 'RainToday_1']],\n",
        "                     pd.get_dummies(X_test.Location),\n",
        "                     pd.get_dummies(X_test.WindGustDir),\n",
        "                     pd.get_dummies(X_test.WindDir9am),\n",
        "                     pd.get_dummies(X_test.WindDir3pm)], axis=1)"
      ]
    },
    {
      "cell_type": "code",
      "execution_count": 104,
      "metadata": {
        "colab": {
          "base_uri": "https://localhost:8080/",
          "height": 255
        },
        "id": "2XCbGvWiB084",
        "outputId": "ca193f19-1254-41f6-fb14-4243b89e7d6d"
      },
      "outputs": [
        {
          "data": {
            "text/html": [
              "<div>\n",
              "<style scoped>\n",
              "    .dataframe tbody tr th:only-of-type {\n",
              "        vertical-align: middle;\n",
              "    }\n",
              "\n",
              "    .dataframe tbody tr th {\n",
              "        vertical-align: top;\n",
              "    }\n",
              "\n",
              "    .dataframe thead th {\n",
              "        text-align: right;\n",
              "    }\n",
              "</style>\n",
              "<table border=\"1\" class=\"dataframe\">\n",
              "  <thead>\n",
              "    <tr style=\"text-align: right;\">\n",
              "      <th></th>\n",
              "      <th>MinTemp</th>\n",
              "      <th>MaxTemp</th>\n",
              "      <th>Rainfall</th>\n",
              "      <th>Evaporation</th>\n",
              "      <th>Sunshine</th>\n",
              "      <th>WindGustSpeed</th>\n",
              "      <th>WindSpeed9am</th>\n",
              "      <th>WindSpeed3pm</th>\n",
              "      <th>Humidity9am</th>\n",
              "      <th>Humidity3pm</th>\n",
              "      <th>...</th>\n",
              "      <th>NNW</th>\n",
              "      <th>NW</th>\n",
              "      <th>S</th>\n",
              "      <th>SE</th>\n",
              "      <th>SSE</th>\n",
              "      <th>SSW</th>\n",
              "      <th>SW</th>\n",
              "      <th>W</th>\n",
              "      <th>WNW</th>\n",
              "      <th>WSW</th>\n",
              "    </tr>\n",
              "  </thead>\n",
              "  <tbody>\n",
              "    <tr>\n",
              "      <th>86232</th>\n",
              "      <td>17.4</td>\n",
              "      <td>29.0</td>\n",
              "      <td>0.0</td>\n",
              "      <td>3.6</td>\n",
              "      <td>11.1</td>\n",
              "      <td>33.0</td>\n",
              "      <td>11.0</td>\n",
              "      <td>19.0</td>\n",
              "      <td>63.0</td>\n",
              "      <td>61.0</td>\n",
              "      <td>...</td>\n",
              "      <td>False</td>\n",
              "      <td>False</td>\n",
              "      <td>False</td>\n",
              "      <td>False</td>\n",
              "      <td>False</td>\n",
              "      <td>False</td>\n",
              "      <td>False</td>\n",
              "      <td>False</td>\n",
              "      <td>False</td>\n",
              "      <td>False</td>\n",
              "    </tr>\n",
              "    <tr>\n",
              "      <th>57576</th>\n",
              "      <td>6.8</td>\n",
              "      <td>14.4</td>\n",
              "      <td>0.8</td>\n",
              "      <td>0.8</td>\n",
              "      <td>8.5</td>\n",
              "      <td>46.0</td>\n",
              "      <td>17.0</td>\n",
              "      <td>22.0</td>\n",
              "      <td>80.0</td>\n",
              "      <td>55.0</td>\n",
              "      <td>...</td>\n",
              "      <td>False</td>\n",
              "      <td>False</td>\n",
              "      <td>True</td>\n",
              "      <td>False</td>\n",
              "      <td>False</td>\n",
              "      <td>False</td>\n",
              "      <td>False</td>\n",
              "      <td>False</td>\n",
              "      <td>False</td>\n",
              "      <td>False</td>\n",
              "    </tr>\n",
              "    <tr>\n",
              "      <th>124071</th>\n",
              "      <td>10.1</td>\n",
              "      <td>15.4</td>\n",
              "      <td>3.2</td>\n",
              "      <td>4.8</td>\n",
              "      <td>8.5</td>\n",
              "      <td>31.0</td>\n",
              "      <td>13.0</td>\n",
              "      <td>9.0</td>\n",
              "      <td>70.0</td>\n",
              "      <td>61.0</td>\n",
              "      <td>...</td>\n",
              "      <td>False</td>\n",
              "      <td>False</td>\n",
              "      <td>False</td>\n",
              "      <td>False</td>\n",
              "      <td>True</td>\n",
              "      <td>False</td>\n",
              "      <td>False</td>\n",
              "      <td>False</td>\n",
              "      <td>False</td>\n",
              "      <td>False</td>\n",
              "    </tr>\n",
              "    <tr>\n",
              "      <th>117955</th>\n",
              "      <td>14.4</td>\n",
              "      <td>33.4</td>\n",
              "      <td>0.0</td>\n",
              "      <td>8.0</td>\n",
              "      <td>11.6</td>\n",
              "      <td>41.0</td>\n",
              "      <td>9.0</td>\n",
              "      <td>17.0</td>\n",
              "      <td>40.0</td>\n",
              "      <td>23.0</td>\n",
              "      <td>...</td>\n",
              "      <td>False</td>\n",
              "      <td>False</td>\n",
              "      <td>False</td>\n",
              "      <td>False</td>\n",
              "      <td>False</td>\n",
              "      <td>False</td>\n",
              "      <td>True</td>\n",
              "      <td>False</td>\n",
              "      <td>False</td>\n",
              "      <td>False</td>\n",
              "    </tr>\n",
              "    <tr>\n",
              "      <th>133468</th>\n",
              "      <td>6.8</td>\n",
              "      <td>14.3</td>\n",
              "      <td>3.2</td>\n",
              "      <td>0.2</td>\n",
              "      <td>7.3</td>\n",
              "      <td>28.0</td>\n",
              "      <td>15.0</td>\n",
              "      <td>13.0</td>\n",
              "      <td>92.0</td>\n",
              "      <td>47.0</td>\n",
              "      <td>...</td>\n",
              "      <td>False</td>\n",
              "      <td>False</td>\n",
              "      <td>False</td>\n",
              "      <td>False</td>\n",
              "      <td>False</td>\n",
              "      <td>False</td>\n",
              "      <td>False</td>\n",
              "      <td>False</td>\n",
              "      <td>False</td>\n",
              "      <td>False</td>\n",
              "    </tr>\n",
              "  </tbody>\n",
              "</table>\n",
              "<p>5 rows × 118 columns</p>\n",
              "</div>"
            ],
            "text/plain": [
              "        MinTemp  MaxTemp  Rainfall  Evaporation  Sunshine  WindGustSpeed  \\\n",
              "86232      17.4     29.0       0.0          3.6      11.1           33.0   \n",
              "57576       6.8     14.4       0.8          0.8       8.5           46.0   \n",
              "124071     10.1     15.4       3.2          4.8       8.5           31.0   \n",
              "117955     14.4     33.4       0.0          8.0      11.6           41.0   \n",
              "133468      6.8     14.3       3.2          0.2       7.3           28.0   \n",
              "\n",
              "        WindSpeed9am  WindSpeed3pm  Humidity9am  Humidity3pm  ...    NNW  \\\n",
              "86232           11.0          19.0         63.0         61.0  ...  False   \n",
              "57576           17.0          22.0         80.0         55.0  ...  False   \n",
              "124071          13.0           9.0         70.0         61.0  ...  False   \n",
              "117955           9.0          17.0         40.0         23.0  ...  False   \n",
              "133468          15.0          13.0         92.0         47.0  ...  False   \n",
              "\n",
              "           NW      S     SE    SSE    SSW     SW      W    WNW    WSW  \n",
              "86232   False  False  False  False  False  False  False  False  False  \n",
              "57576   False   True  False  False  False  False  False  False  False  \n",
              "124071  False  False  False   True  False  False  False  False  False  \n",
              "117955  False  False  False  False  False   True  False  False  False  \n",
              "133468  False  False  False  False  False  False  False  False  False  \n",
              "\n",
              "[5 rows x 118 columns]"
            ]
          },
          "execution_count": 104,
          "metadata": {},
          "output_type": "execute_result"
        }
      ],
      "source": [
        "X_test.head()"
      ]
    },
    {
      "cell_type": "markdown",
      "metadata": {
        "id": "wdc1a9uEB084"
      },
      "source": [
        "We now have training and testing set ready for model building. Before that, we should map all the feature variables onto the same scale. It is called `feature scaling`. I will do it as follows."
      ]
    },
    {
      "cell_type": "markdown",
      "metadata": {
        "id": "c-sfk3ExB085"
      },
      "source": [
        "# **11. Feature Scaling** <a class=\"anchor\" id=\"11\"></a>\n",
        "\n",
        "\n",
        "[Table of Contents](#0.1)"
      ]
    },
    {
      "cell_type": "code",
      "execution_count": 105,
      "metadata": {
        "colab": {
          "base_uri": "https://localhost:8080/",
          "height": 349
        },
        "id": "aQfhT742B085",
        "outputId": "1c618517-99c6-455e-e6d3-7450fe38594e"
      },
      "outputs": [
        {
          "data": {
            "text/html": [
              "<div>\n",
              "<style scoped>\n",
              "    .dataframe tbody tr th:only-of-type {\n",
              "        vertical-align: middle;\n",
              "    }\n",
              "\n",
              "    .dataframe tbody tr th {\n",
              "        vertical-align: top;\n",
              "    }\n",
              "\n",
              "    .dataframe thead th {\n",
              "        text-align: right;\n",
              "    }\n",
              "</style>\n",
              "<table border=\"1\" class=\"dataframe\">\n",
              "  <thead>\n",
              "    <tr style=\"text-align: right;\">\n",
              "      <th></th>\n",
              "      <th>MinTemp</th>\n",
              "      <th>MaxTemp</th>\n",
              "      <th>Rainfall</th>\n",
              "      <th>Evaporation</th>\n",
              "      <th>Sunshine</th>\n",
              "      <th>WindGustSpeed</th>\n",
              "      <th>WindSpeed9am</th>\n",
              "      <th>WindSpeed3pm</th>\n",
              "      <th>Humidity9am</th>\n",
              "      <th>Humidity3pm</th>\n",
              "      <th>...</th>\n",
              "      <th>Pressure3pm</th>\n",
              "      <th>Cloud9am</th>\n",
              "      <th>Cloud3pm</th>\n",
              "      <th>Temp9am</th>\n",
              "      <th>Temp3pm</th>\n",
              "      <th>Year</th>\n",
              "      <th>Month</th>\n",
              "      <th>Day</th>\n",
              "      <th>RainToday_0</th>\n",
              "      <th>RainToday_1</th>\n",
              "    </tr>\n",
              "  </thead>\n",
              "  <tbody>\n",
              "    <tr>\n",
              "      <th>count</th>\n",
              "      <td>113754.000000</td>\n",
              "      <td>113754.000000</td>\n",
              "      <td>113754.000000</td>\n",
              "      <td>113754.000000</td>\n",
              "      <td>113754.000000</td>\n",
              "      <td>113754.000000</td>\n",
              "      <td>113754.000000</td>\n",
              "      <td>113754.000000</td>\n",
              "      <td>113754.000000</td>\n",
              "      <td>113754.000000</td>\n",
              "      <td>...</td>\n",
              "      <td>113754.000000</td>\n",
              "      <td>113754.000000</td>\n",
              "      <td>113754.000000</td>\n",
              "      <td>113754.000000</td>\n",
              "      <td>113754.000000</td>\n",
              "      <td>113754.000000</td>\n",
              "      <td>113754.000000</td>\n",
              "      <td>113754.000000</td>\n",
              "      <td>113754.000000</td>\n",
              "      <td>113754.000000</td>\n",
              "    </tr>\n",
              "    <tr>\n",
              "      <th>mean</th>\n",
              "      <td>12.193497</td>\n",
              "      <td>23.237216</td>\n",
              "      <td>0.675080</td>\n",
              "      <td>5.151606</td>\n",
              "      <td>8.041154</td>\n",
              "      <td>39.884074</td>\n",
              "      <td>13.978155</td>\n",
              "      <td>18.614756</td>\n",
              "      <td>68.867486</td>\n",
              "      <td>51.509547</td>\n",
              "      <td>...</td>\n",
              "      <td>1015.241101</td>\n",
              "      <td>4.651801</td>\n",
              "      <td>4.703588</td>\n",
              "      <td>16.995062</td>\n",
              "      <td>21.688643</td>\n",
              "      <td>2012.759727</td>\n",
              "      <td>6.404021</td>\n",
              "      <td>15.710419</td>\n",
              "      <td>0.221012</td>\n",
              "      <td>0.778988</td>\n",
              "    </tr>\n",
              "    <tr>\n",
              "      <th>std</th>\n",
              "      <td>6.388279</td>\n",
              "      <td>7.094149</td>\n",
              "      <td>1.183837</td>\n",
              "      <td>2.823707</td>\n",
              "      <td>2.769480</td>\n",
              "      <td>13.116959</td>\n",
              "      <td>8.806558</td>\n",
              "      <td>8.685862</td>\n",
              "      <td>18.935587</td>\n",
              "      <td>20.530723</td>\n",
              "      <td>...</td>\n",
              "      <td>6.675168</td>\n",
              "      <td>2.292726</td>\n",
              "      <td>2.117847</td>\n",
              "      <td>6.463772</td>\n",
              "      <td>6.855649</td>\n",
              "      <td>2.540419</td>\n",
              "      <td>3.427798</td>\n",
              "      <td>8.796821</td>\n",
              "      <td>0.414930</td>\n",
              "      <td>0.414930</td>\n",
              "    </tr>\n",
              "    <tr>\n",
              "      <th>min</th>\n",
              "      <td>-8.200000</td>\n",
              "      <td>-4.800000</td>\n",
              "      <td>0.000000</td>\n",
              "      <td>0.000000</td>\n",
              "      <td>0.000000</td>\n",
              "      <td>6.000000</td>\n",
              "      <td>0.000000</td>\n",
              "      <td>0.000000</td>\n",
              "      <td>0.000000</td>\n",
              "      <td>0.000000</td>\n",
              "      <td>...</td>\n",
              "      <td>977.100000</td>\n",
              "      <td>0.000000</td>\n",
              "      <td>0.000000</td>\n",
              "      <td>-7.200000</td>\n",
              "      <td>-5.400000</td>\n",
              "      <td>2007.000000</td>\n",
              "      <td>1.000000</td>\n",
              "      <td>1.000000</td>\n",
              "      <td>0.000000</td>\n",
              "      <td>0.000000</td>\n",
              "    </tr>\n",
              "    <tr>\n",
              "      <th>25%</th>\n",
              "      <td>7.600000</td>\n",
              "      <td>18.000000</td>\n",
              "      <td>0.000000</td>\n",
              "      <td>4.000000</td>\n",
              "      <td>8.200000</td>\n",
              "      <td>31.000000</td>\n",
              "      <td>7.000000</td>\n",
              "      <td>13.000000</td>\n",
              "      <td>57.000000</td>\n",
              "      <td>37.000000</td>\n",
              "      <td>...</td>\n",
              "      <td>1011.000000</td>\n",
              "      <td>3.000000</td>\n",
              "      <td>4.000000</td>\n",
              "      <td>12.300000</td>\n",
              "      <td>16.700000</td>\n",
              "      <td>2011.000000</td>\n",
              "      <td>3.000000</td>\n",
              "      <td>8.000000</td>\n",
              "      <td>0.000000</td>\n",
              "      <td>1.000000</td>\n",
              "    </tr>\n",
              "    <tr>\n",
              "      <th>50%</th>\n",
              "      <td>12.000000</td>\n",
              "      <td>22.600000</td>\n",
              "      <td>0.000000</td>\n",
              "      <td>4.800000</td>\n",
              "      <td>8.500000</td>\n",
              "      <td>39.000000</td>\n",
              "      <td>13.000000</td>\n",
              "      <td>19.000000</td>\n",
              "      <td>70.000000</td>\n",
              "      <td>52.000000</td>\n",
              "      <td>...</td>\n",
              "      <td>1015.200000</td>\n",
              "      <td>5.000000</td>\n",
              "      <td>5.000000</td>\n",
              "      <td>16.700000</td>\n",
              "      <td>21.100000</td>\n",
              "      <td>2013.000000</td>\n",
              "      <td>6.000000</td>\n",
              "      <td>16.000000</td>\n",
              "      <td>0.000000</td>\n",
              "      <td>1.000000</td>\n",
              "    </tr>\n",
              "    <tr>\n",
              "      <th>75%</th>\n",
              "      <td>16.800000</td>\n",
              "      <td>28.200000</td>\n",
              "      <td>0.600000</td>\n",
              "      <td>5.400000</td>\n",
              "      <td>8.700000</td>\n",
              "      <td>46.000000</td>\n",
              "      <td>19.000000</td>\n",
              "      <td>24.000000</td>\n",
              "      <td>83.000000</td>\n",
              "      <td>65.000000</td>\n",
              "      <td>...</td>\n",
              "      <td>1019.400000</td>\n",
              "      <td>6.000000</td>\n",
              "      <td>6.000000</td>\n",
              "      <td>21.500000</td>\n",
              "      <td>26.300000</td>\n",
              "      <td>2015.000000</td>\n",
              "      <td>9.000000</td>\n",
              "      <td>23.000000</td>\n",
              "      <td>0.000000</td>\n",
              "      <td>1.000000</td>\n",
              "    </tr>\n",
              "    <tr>\n",
              "      <th>max</th>\n",
              "      <td>33.900000</td>\n",
              "      <td>48.100000</td>\n",
              "      <td>3.200000</td>\n",
              "      <td>21.800000</td>\n",
              "      <td>14.500000</td>\n",
              "      <td>135.000000</td>\n",
              "      <td>55.000000</td>\n",
              "      <td>57.000000</td>\n",
              "      <td>100.000000</td>\n",
              "      <td>100.000000</td>\n",
              "      <td>...</td>\n",
              "      <td>1039.600000</td>\n",
              "      <td>9.000000</td>\n",
              "      <td>8.000000</td>\n",
              "      <td>40.200000</td>\n",
              "      <td>46.700000</td>\n",
              "      <td>2017.000000</td>\n",
              "      <td>12.000000</td>\n",
              "      <td>31.000000</td>\n",
              "      <td>1.000000</td>\n",
              "      <td>1.000000</td>\n",
              "    </tr>\n",
              "  </tbody>\n",
              "</table>\n",
              "<p>8 rows × 21 columns</p>\n",
              "</div>"
            ],
            "text/plain": [
              "             MinTemp        MaxTemp       Rainfall    Evaporation  \\\n",
              "count  113754.000000  113754.000000  113754.000000  113754.000000   \n",
              "mean       12.193497      23.237216       0.675080       5.151606   \n",
              "std         6.388279       7.094149       1.183837       2.823707   \n",
              "min        -8.200000      -4.800000       0.000000       0.000000   \n",
              "25%         7.600000      18.000000       0.000000       4.000000   \n",
              "50%        12.000000      22.600000       0.000000       4.800000   \n",
              "75%        16.800000      28.200000       0.600000       5.400000   \n",
              "max        33.900000      48.100000       3.200000      21.800000   \n",
              "\n",
              "            Sunshine  WindGustSpeed   WindSpeed9am   WindSpeed3pm  \\\n",
              "count  113754.000000  113754.000000  113754.000000  113754.000000   \n",
              "mean        8.041154      39.884074      13.978155      18.614756   \n",
              "std         2.769480      13.116959       8.806558       8.685862   \n",
              "min         0.000000       6.000000       0.000000       0.000000   \n",
              "25%         8.200000      31.000000       7.000000      13.000000   \n",
              "50%         8.500000      39.000000      13.000000      19.000000   \n",
              "75%         8.700000      46.000000      19.000000      24.000000   \n",
              "max        14.500000     135.000000      55.000000      57.000000   \n",
              "\n",
              "         Humidity9am    Humidity3pm  ...    Pressure3pm       Cloud9am  \\\n",
              "count  113754.000000  113754.000000  ...  113754.000000  113754.000000   \n",
              "mean       68.867486      51.509547  ...    1015.241101       4.651801   \n",
              "std        18.935587      20.530723  ...       6.675168       2.292726   \n",
              "min         0.000000       0.000000  ...     977.100000       0.000000   \n",
              "25%        57.000000      37.000000  ...    1011.000000       3.000000   \n",
              "50%        70.000000      52.000000  ...    1015.200000       5.000000   \n",
              "75%        83.000000      65.000000  ...    1019.400000       6.000000   \n",
              "max       100.000000     100.000000  ...    1039.600000       9.000000   \n",
              "\n",
              "            Cloud3pm        Temp9am        Temp3pm           Year  \\\n",
              "count  113754.000000  113754.000000  113754.000000  113754.000000   \n",
              "mean        4.703588      16.995062      21.688643    2012.759727   \n",
              "std         2.117847       6.463772       6.855649       2.540419   \n",
              "min         0.000000      -7.200000      -5.400000    2007.000000   \n",
              "25%         4.000000      12.300000      16.700000    2011.000000   \n",
              "50%         5.000000      16.700000      21.100000    2013.000000   \n",
              "75%         6.000000      21.500000      26.300000    2015.000000   \n",
              "max         8.000000      40.200000      46.700000    2017.000000   \n",
              "\n",
              "               Month            Day    RainToday_0    RainToday_1  \n",
              "count  113754.000000  113754.000000  113754.000000  113754.000000  \n",
              "mean        6.404021      15.710419       0.221012       0.778988  \n",
              "std         3.427798       8.796821       0.414930       0.414930  \n",
              "min         1.000000       1.000000       0.000000       0.000000  \n",
              "25%         3.000000       8.000000       0.000000       1.000000  \n",
              "50%         6.000000      16.000000       0.000000       1.000000  \n",
              "75%         9.000000      23.000000       0.000000       1.000000  \n",
              "max        12.000000      31.000000       1.000000       1.000000  \n",
              "\n",
              "[8 rows x 21 columns]"
            ]
          },
          "execution_count": 105,
          "metadata": {},
          "output_type": "execute_result"
        }
      ],
      "source": [
        "X_train.describe()"
      ]
    },
    {
      "cell_type": "code",
      "execution_count": 106,
      "metadata": {
        "id": "yHTcsvB-B085"
      },
      "outputs": [],
      "source": [
        "cols = X_train.columns"
      ]
    },
    {
      "cell_type": "code",
      "execution_count": 107,
      "metadata": {
        "id": "7swuObfIB085"
      },
      "outputs": [],
      "source": [
        "from sklearn.preprocessing import MinMaxScaler\n",
        "\n",
        "scaler = MinMaxScaler()\n",
        "\n",
        "X_train = scaler.fit_transform(X_train)\n",
        "\n",
        "X_test = scaler.transform(X_test)\n"
      ]
    },
    {
      "cell_type": "code",
      "execution_count": 108,
      "metadata": {
        "id": "YZKy1FjbB085"
      },
      "outputs": [],
      "source": [
        "X_train = pd.DataFrame(X_train, columns=[cols])"
      ]
    },
    {
      "cell_type": "code",
      "execution_count": 109,
      "metadata": {
        "id": "ihGp--ZIB085"
      },
      "outputs": [],
      "source": [
        "X_test = pd.DataFrame(X_test, columns=[cols])"
      ]
    },
    {
      "cell_type": "code",
      "execution_count": 110,
      "metadata": {
        "colab": {
          "base_uri": "https://localhost:8080/",
          "height": 349
        },
        "id": "RqgT61rhB086",
        "outputId": "19a3d3ea-a014-413a-d627-b73051e14c5b"
      },
      "outputs": [
        {
          "data": {
            "text/html": [
              "<div>\n",
              "<style scoped>\n",
              "    .dataframe tbody tr th:only-of-type {\n",
              "        vertical-align: middle;\n",
              "    }\n",
              "\n",
              "    .dataframe tbody tr th {\n",
              "        vertical-align: top;\n",
              "    }\n",
              "\n",
              "    .dataframe thead tr th {\n",
              "        text-align: left;\n",
              "    }\n",
              "</style>\n",
              "<table border=\"1\" class=\"dataframe\">\n",
              "  <thead>\n",
              "    <tr>\n",
              "      <th></th>\n",
              "      <th>MinTemp</th>\n",
              "      <th>MaxTemp</th>\n",
              "      <th>Rainfall</th>\n",
              "      <th>Evaporation</th>\n",
              "      <th>Sunshine</th>\n",
              "      <th>WindGustSpeed</th>\n",
              "      <th>WindSpeed9am</th>\n",
              "      <th>WindSpeed3pm</th>\n",
              "      <th>Humidity9am</th>\n",
              "      <th>Humidity3pm</th>\n",
              "      <th>...</th>\n",
              "      <th>NNW</th>\n",
              "      <th>NW</th>\n",
              "      <th>S</th>\n",
              "      <th>SE</th>\n",
              "      <th>SSE</th>\n",
              "      <th>SSW</th>\n",
              "      <th>SW</th>\n",
              "      <th>W</th>\n",
              "      <th>WNW</th>\n",
              "      <th>WSW</th>\n",
              "    </tr>\n",
              "  </thead>\n",
              "  <tbody>\n",
              "    <tr>\n",
              "      <th>count</th>\n",
              "      <td>113754.000000</td>\n",
              "      <td>113754.000000</td>\n",
              "      <td>113754.000000</td>\n",
              "      <td>113754.000000</td>\n",
              "      <td>113754.000000</td>\n",
              "      <td>113754.000000</td>\n",
              "      <td>113754.000000</td>\n",
              "      <td>113754.000000</td>\n",
              "      <td>113754.000000</td>\n",
              "      <td>113754.000000</td>\n",
              "      <td>...</td>\n",
              "      <td>113754.000000</td>\n",
              "      <td>113754.000000</td>\n",
              "      <td>113754.000000</td>\n",
              "      <td>113754.000000</td>\n",
              "      <td>113754.000000</td>\n",
              "      <td>113754.000000</td>\n",
              "      <td>113754.000000</td>\n",
              "      <td>113754.000000</td>\n",
              "      <td>113754.000000</td>\n",
              "      <td>113754.000000</td>\n",
              "    </tr>\n",
              "    <tr>\n",
              "      <th>mean</th>\n",
              "      <td>0.484406</td>\n",
              "      <td>0.530004</td>\n",
              "      <td>0.210962</td>\n",
              "      <td>0.236312</td>\n",
              "      <td>0.554562</td>\n",
              "      <td>0.262667</td>\n",
              "      <td>0.254148</td>\n",
              "      <td>0.326575</td>\n",
              "      <td>0.688675</td>\n",
              "      <td>0.515095</td>\n",
              "      <td>...</td>\n",
              "      <td>0.054530</td>\n",
              "      <td>0.060288</td>\n",
              "      <td>0.067259</td>\n",
              "      <td>0.101605</td>\n",
              "      <td>0.064059</td>\n",
              "      <td>0.056402</td>\n",
              "      <td>0.064464</td>\n",
              "      <td>0.069334</td>\n",
              "      <td>0.060798</td>\n",
              "      <td>0.065483</td>\n",
              "    </tr>\n",
              "    <tr>\n",
              "      <th>std</th>\n",
              "      <td>0.151741</td>\n",
              "      <td>0.134105</td>\n",
              "      <td>0.369949</td>\n",
              "      <td>0.129528</td>\n",
              "      <td>0.190999</td>\n",
              "      <td>0.101682</td>\n",
              "      <td>0.160119</td>\n",
              "      <td>0.152384</td>\n",
              "      <td>0.189356</td>\n",
              "      <td>0.205307</td>\n",
              "      <td>...</td>\n",
              "      <td>0.227061</td>\n",
              "      <td>0.238021</td>\n",
              "      <td>0.250471</td>\n",
              "      <td>0.302130</td>\n",
              "      <td>0.244860</td>\n",
              "      <td>0.230698</td>\n",
              "      <td>0.245578</td>\n",
              "      <td>0.254022</td>\n",
              "      <td>0.238960</td>\n",
              "      <td>0.247378</td>\n",
              "    </tr>\n",
              "    <tr>\n",
              "      <th>min</th>\n",
              "      <td>0.000000</td>\n",
              "      <td>0.000000</td>\n",
              "      <td>0.000000</td>\n",
              "      <td>0.000000</td>\n",
              "      <td>0.000000</td>\n",
              "      <td>0.000000</td>\n",
              "      <td>0.000000</td>\n",
              "      <td>0.000000</td>\n",
              "      <td>0.000000</td>\n",
              "      <td>0.000000</td>\n",
              "      <td>...</td>\n",
              "      <td>0.000000</td>\n",
              "      <td>0.000000</td>\n",
              "      <td>0.000000</td>\n",
              "      <td>0.000000</td>\n",
              "      <td>0.000000</td>\n",
              "      <td>0.000000</td>\n",
              "      <td>0.000000</td>\n",
              "      <td>0.000000</td>\n",
              "      <td>0.000000</td>\n",
              "      <td>0.000000</td>\n",
              "    </tr>\n",
              "    <tr>\n",
              "      <th>25%</th>\n",
              "      <td>0.375297</td>\n",
              "      <td>0.431002</td>\n",
              "      <td>0.000000</td>\n",
              "      <td>0.183486</td>\n",
              "      <td>0.565517</td>\n",
              "      <td>0.193798</td>\n",
              "      <td>0.127273</td>\n",
              "      <td>0.228070</td>\n",
              "      <td>0.570000</td>\n",
              "      <td>0.370000</td>\n",
              "      <td>...</td>\n",
              "      <td>0.000000</td>\n",
              "      <td>0.000000</td>\n",
              "      <td>0.000000</td>\n",
              "      <td>0.000000</td>\n",
              "      <td>0.000000</td>\n",
              "      <td>0.000000</td>\n",
              "      <td>0.000000</td>\n",
              "      <td>0.000000</td>\n",
              "      <td>0.000000</td>\n",
              "      <td>0.000000</td>\n",
              "    </tr>\n",
              "    <tr>\n",
              "      <th>50%</th>\n",
              "      <td>0.479810</td>\n",
              "      <td>0.517958</td>\n",
              "      <td>0.000000</td>\n",
              "      <td>0.220183</td>\n",
              "      <td>0.586207</td>\n",
              "      <td>0.255814</td>\n",
              "      <td>0.236364</td>\n",
              "      <td>0.333333</td>\n",
              "      <td>0.700000</td>\n",
              "      <td>0.520000</td>\n",
              "      <td>...</td>\n",
              "      <td>0.000000</td>\n",
              "      <td>0.000000</td>\n",
              "      <td>0.000000</td>\n",
              "      <td>0.000000</td>\n",
              "      <td>0.000000</td>\n",
              "      <td>0.000000</td>\n",
              "      <td>0.000000</td>\n",
              "      <td>0.000000</td>\n",
              "      <td>0.000000</td>\n",
              "      <td>0.000000</td>\n",
              "    </tr>\n",
              "    <tr>\n",
              "      <th>75%</th>\n",
              "      <td>0.593824</td>\n",
              "      <td>0.623819</td>\n",
              "      <td>0.187500</td>\n",
              "      <td>0.247706</td>\n",
              "      <td>0.600000</td>\n",
              "      <td>0.310078</td>\n",
              "      <td>0.345455</td>\n",
              "      <td>0.421053</td>\n",
              "      <td>0.830000</td>\n",
              "      <td>0.650000</td>\n",
              "      <td>...</td>\n",
              "      <td>0.000000</td>\n",
              "      <td>0.000000</td>\n",
              "      <td>0.000000</td>\n",
              "      <td>0.000000</td>\n",
              "      <td>0.000000</td>\n",
              "      <td>0.000000</td>\n",
              "      <td>0.000000</td>\n",
              "      <td>0.000000</td>\n",
              "      <td>0.000000</td>\n",
              "      <td>0.000000</td>\n",
              "    </tr>\n",
              "    <tr>\n",
              "      <th>max</th>\n",
              "      <td>1.000000</td>\n",
              "      <td>1.000000</td>\n",
              "      <td>1.000000</td>\n",
              "      <td>1.000000</td>\n",
              "      <td>1.000000</td>\n",
              "      <td>1.000000</td>\n",
              "      <td>1.000000</td>\n",
              "      <td>1.000000</td>\n",
              "      <td>1.000000</td>\n",
              "      <td>1.000000</td>\n",
              "      <td>...</td>\n",
              "      <td>1.000000</td>\n",
              "      <td>1.000000</td>\n",
              "      <td>1.000000</td>\n",
              "      <td>1.000000</td>\n",
              "      <td>1.000000</td>\n",
              "      <td>1.000000</td>\n",
              "      <td>1.000000</td>\n",
              "      <td>1.000000</td>\n",
              "      <td>1.000000</td>\n",
              "      <td>1.000000</td>\n",
              "    </tr>\n",
              "  </tbody>\n",
              "</table>\n",
              "<p>8 rows × 118 columns</p>\n",
              "</div>"
            ],
            "text/plain": [
              "             MinTemp        MaxTemp       Rainfall    Evaporation  \\\n",
              "count  113754.000000  113754.000000  113754.000000  113754.000000   \n",
              "mean        0.484406       0.530004       0.210962       0.236312   \n",
              "std         0.151741       0.134105       0.369949       0.129528   \n",
              "min         0.000000       0.000000       0.000000       0.000000   \n",
              "25%         0.375297       0.431002       0.000000       0.183486   \n",
              "50%         0.479810       0.517958       0.000000       0.220183   \n",
              "75%         0.593824       0.623819       0.187500       0.247706   \n",
              "max         1.000000       1.000000       1.000000       1.000000   \n",
              "\n",
              "            Sunshine  WindGustSpeed   WindSpeed9am   WindSpeed3pm  \\\n",
              "count  113754.000000  113754.000000  113754.000000  113754.000000   \n",
              "mean        0.554562       0.262667       0.254148       0.326575   \n",
              "std         0.190999       0.101682       0.160119       0.152384   \n",
              "min         0.000000       0.000000       0.000000       0.000000   \n",
              "25%         0.565517       0.193798       0.127273       0.228070   \n",
              "50%         0.586207       0.255814       0.236364       0.333333   \n",
              "75%         0.600000       0.310078       0.345455       0.421053   \n",
              "max         1.000000       1.000000       1.000000       1.000000   \n",
              "\n",
              "         Humidity9am    Humidity3pm  ...            NNW             NW  \\\n",
              "count  113754.000000  113754.000000  ...  113754.000000  113754.000000   \n",
              "mean        0.688675       0.515095  ...       0.054530       0.060288   \n",
              "std         0.189356       0.205307  ...       0.227061       0.238021   \n",
              "min         0.000000       0.000000  ...       0.000000       0.000000   \n",
              "25%         0.570000       0.370000  ...       0.000000       0.000000   \n",
              "50%         0.700000       0.520000  ...       0.000000       0.000000   \n",
              "75%         0.830000       0.650000  ...       0.000000       0.000000   \n",
              "max         1.000000       1.000000  ...       1.000000       1.000000   \n",
              "\n",
              "                   S             SE            SSE            SSW  \\\n",
              "count  113754.000000  113754.000000  113754.000000  113754.000000   \n",
              "mean        0.067259       0.101605       0.064059       0.056402   \n",
              "std         0.250471       0.302130       0.244860       0.230698   \n",
              "min         0.000000       0.000000       0.000000       0.000000   \n",
              "25%         0.000000       0.000000       0.000000       0.000000   \n",
              "50%         0.000000       0.000000       0.000000       0.000000   \n",
              "75%         0.000000       0.000000       0.000000       0.000000   \n",
              "max         1.000000       1.000000       1.000000       1.000000   \n",
              "\n",
              "                  SW              W            WNW            WSW  \n",
              "count  113754.000000  113754.000000  113754.000000  113754.000000  \n",
              "mean        0.064464       0.069334       0.060798       0.065483  \n",
              "std         0.245578       0.254022       0.238960       0.247378  \n",
              "min         0.000000       0.000000       0.000000       0.000000  \n",
              "25%         0.000000       0.000000       0.000000       0.000000  \n",
              "50%         0.000000       0.000000       0.000000       0.000000  \n",
              "75%         0.000000       0.000000       0.000000       0.000000  \n",
              "max         1.000000       1.000000       1.000000       1.000000  \n",
              "\n",
              "[8 rows x 118 columns]"
            ]
          },
          "execution_count": 110,
          "metadata": {},
          "output_type": "execute_result"
        }
      ],
      "source": [
        "X_train.describe()"
      ]
    },
    {
      "cell_type": "markdown",
      "metadata": {
        "id": "oefro_awB086"
      },
      "source": [
        "We now have `X_train` dataset ready to be fed into the Logistic Regression classifier. I will do it as follows."
      ]
    },
    {
      "cell_type": "markdown",
      "metadata": {
        "id": "Jof0ANqlB086"
      },
      "source": [
        "# **12. Model training** <a class=\"anchor\" id=\"12\"></a>\n",
        "\n",
        "\n",
        "[Table of Contents](#0.1)"
      ]
    },
    {
      "cell_type": "code",
      "execution_count": 111,
      "metadata": {
        "colab": {
          "base_uri": "https://localhost:8080/",
          "height": 80
        },
        "id": "B2kNTVtnB086",
        "outputId": "d56ca1ba-28a9-40ae-a884-a63da1ac3c35"
      },
      "outputs": [
        {
          "data": {
            "text/html": [
              "<style>#sk-container-id-1 {color: black;background-color: white;}#sk-container-id-1 pre{padding: 0;}#sk-container-id-1 div.sk-toggleable {background-color: white;}#sk-container-id-1 label.sk-toggleable__label {cursor: pointer;display: block;width: 100%;margin-bottom: 0;padding: 0.3em;box-sizing: border-box;text-align: center;}#sk-container-id-1 label.sk-toggleable__label-arrow:before {content: \"▸\";float: left;margin-right: 0.25em;color: #696969;}#sk-container-id-1 label.sk-toggleable__label-arrow:hover:before {color: black;}#sk-container-id-1 div.sk-estimator:hover label.sk-toggleable__label-arrow:before {color: black;}#sk-container-id-1 div.sk-toggleable__content {max-height: 0;max-width: 0;overflow: hidden;text-align: left;background-color: #f0f8ff;}#sk-container-id-1 div.sk-toggleable__content pre {margin: 0.2em;color: black;border-radius: 0.25em;background-color: #f0f8ff;}#sk-container-id-1 input.sk-toggleable__control:checked~div.sk-toggleable__content {max-height: 200px;max-width: 100%;overflow: auto;}#sk-container-id-1 input.sk-toggleable__control:checked~label.sk-toggleable__label-arrow:before {content: \"▾\";}#sk-container-id-1 div.sk-estimator input.sk-toggleable__control:checked~label.sk-toggleable__label {background-color: #d4ebff;}#sk-container-id-1 div.sk-label input.sk-toggleable__control:checked~label.sk-toggleable__label {background-color: #d4ebff;}#sk-container-id-1 input.sk-hidden--visually {border: 0;clip: rect(1px 1px 1px 1px);clip: rect(1px, 1px, 1px, 1px);height: 1px;margin: -1px;overflow: hidden;padding: 0;position: absolute;width: 1px;}#sk-container-id-1 div.sk-estimator {font-family: monospace;background-color: #f0f8ff;border: 1px dotted black;border-radius: 0.25em;box-sizing: border-box;margin-bottom: 0.5em;}#sk-container-id-1 div.sk-estimator:hover {background-color: #d4ebff;}#sk-container-id-1 div.sk-parallel-item::after {content: \"\";width: 100%;border-bottom: 1px solid gray;flex-grow: 1;}#sk-container-id-1 div.sk-label:hover label.sk-toggleable__label {background-color: #d4ebff;}#sk-container-id-1 div.sk-serial::before {content: \"\";position: absolute;border-left: 1px solid gray;box-sizing: border-box;top: 0;bottom: 0;left: 50%;z-index: 0;}#sk-container-id-1 div.sk-serial {display: flex;flex-direction: column;align-items: center;background-color: white;padding-right: 0.2em;padding-left: 0.2em;position: relative;}#sk-container-id-1 div.sk-item {position: relative;z-index: 1;}#sk-container-id-1 div.sk-parallel {display: flex;align-items: stretch;justify-content: center;background-color: white;position: relative;}#sk-container-id-1 div.sk-item::before, #sk-container-id-1 div.sk-parallel-item::before {content: \"\";position: absolute;border-left: 1px solid gray;box-sizing: border-box;top: 0;bottom: 0;left: 50%;z-index: -1;}#sk-container-id-1 div.sk-parallel-item {display: flex;flex-direction: column;z-index: 1;position: relative;background-color: white;}#sk-container-id-1 div.sk-parallel-item:first-child::after {align-self: flex-end;width: 50%;}#sk-container-id-1 div.sk-parallel-item:last-child::after {align-self: flex-start;width: 50%;}#sk-container-id-1 div.sk-parallel-item:only-child::after {width: 0;}#sk-container-id-1 div.sk-dashed-wrapped {border: 1px dashed gray;margin: 0 0.4em 0.5em 0.4em;box-sizing: border-box;padding-bottom: 0.4em;background-color: white;}#sk-container-id-1 div.sk-label label {font-family: monospace;font-weight: bold;display: inline-block;line-height: 1.2em;}#sk-container-id-1 div.sk-label-container {text-align: center;}#sk-container-id-1 div.sk-container {/* jupyter's `normalize.less` sets `[hidden] { display: none; }` but bootstrap.min.css set `[hidden] { display: none !important; }` so we also need the `!important` here to be able to override the default hidden behavior on the sphinx rendered scikit-learn.org. See: https://github.com/scikit-learn/scikit-learn/issues/21755 */display: inline-block !important;position: relative;}#sk-container-id-1 div.sk-text-repr-fallback {display: none;}</style><div id=\"sk-container-id-1\" class=\"sk-top-container\"><div class=\"sk-text-repr-fallback\"><pre>LogisticRegression(random_state=0, solver=&#x27;liblinear&#x27;)</pre><b>In a Jupyter environment, please rerun this cell to show the HTML representation or trust the notebook. <br />On GitHub, the HTML representation is unable to render, please try loading this page with nbviewer.org.</b></div><div class=\"sk-container\" hidden><div class=\"sk-item\"><div class=\"sk-estimator sk-toggleable\"><input class=\"sk-toggleable__control sk-hidden--visually\" id=\"sk-estimator-id-1\" type=\"checkbox\" checked><label for=\"sk-estimator-id-1\" class=\"sk-toggleable__label sk-toggleable__label-arrow\">LogisticRegression</label><div class=\"sk-toggleable__content\"><pre>LogisticRegression(random_state=0, solver=&#x27;liblinear&#x27;)</pre></div></div></div></div></div>"
            ],
            "text/plain": [
              "LogisticRegression(random_state=0, solver='liblinear')"
            ]
          },
          "execution_count": 111,
          "metadata": {},
          "output_type": "execute_result"
        }
      ],
      "source": [
        "# train a logistic regression model on the training set\n",
        "from sklearn.linear_model import LogisticRegression\n",
        "\n",
        "\n",
        "# instantiate the model\n",
        "logreg = LogisticRegression(solver='liblinear', random_state=0)\n",
        "\n",
        "\n",
        "# fit the model\n",
        "logreg.fit(X_train, y_train)\n"
      ]
    },
    {
      "cell_type": "markdown",
      "metadata": {
        "id": "j9YRq1dqB087"
      },
      "source": [
        "# **13. Predict results** <a class=\"anchor\" id=\"13\"></a>\n",
        "\n",
        "\n",
        "[Table of Contents](#0.1)"
      ]
    },
    {
      "cell_type": "code",
      "execution_count": 112,
      "metadata": {
        "colab": {
          "base_uri": "https://localhost:8080/"
        },
        "id": "5OgxFsmVB087",
        "outputId": "38f8055a-6a66-4d4f-fe10-19eb93a32e33"
      },
      "outputs": [
        {
          "data": {
            "text/plain": [
              "array(['No', 'No', 'No', ..., 'No', 'No', 'Yes'], dtype=object)"
            ]
          },
          "execution_count": 112,
          "metadata": {},
          "output_type": "execute_result"
        }
      ],
      "source": [
        "y_pred_test = logreg.predict(X_test)\n",
        "\n",
        "y_pred_test"
      ]
    },
    {
      "cell_type": "markdown",
      "metadata": {
        "id": "2YdI-ZeKB087"
      },
      "source": [
        "### predict_proba method\n",
        "\n",
        "\n",
        "**predict_proba** method gives the probabilities for the target variable(0 and 1) in this case, in array form.\n",
        "\n",
        "`0 is for probability of no rain` and `1 is for probability of rain.`"
      ]
    },
    {
      "cell_type": "code",
      "execution_count": 113,
      "metadata": {
        "colab": {
          "base_uri": "https://localhost:8080/"
        },
        "id": "g6dlrAzIB087",
        "outputId": "1cc2f302-1afb-418f-9ffe-2156017ab576"
      },
      "outputs": [
        {
          "data": {
            "text/plain": [
              "array([0.91388025, 0.83563486, 0.82035859, ..., 0.97675236, 0.79856388,\n",
              "       0.3073537 ])"
            ]
          },
          "execution_count": 113,
          "metadata": {},
          "output_type": "execute_result"
        }
      ],
      "source": [
        "# probability of getting output as 0 - no rain\n",
        "\n",
        "logreg.predict_proba(X_test)[:,0]"
      ]
    },
    {
      "cell_type": "code",
      "execution_count": 114,
      "metadata": {
        "colab": {
          "base_uri": "https://localhost:8080/"
        },
        "id": "iZtlml8uB087",
        "outputId": "b2a69efd-5c61-419e-d0a0-980626be55cd"
      },
      "outputs": [
        {
          "data": {
            "text/plain": [
              "array([0.08611975, 0.16436514, 0.17964141, ..., 0.02324764, 0.20143612,\n",
              "       0.6926463 ])"
            ]
          },
          "execution_count": 114,
          "metadata": {},
          "output_type": "execute_result"
        }
      ],
      "source": [
        "# probability of getting output as 1 - rain\n",
        "\n",
        "logreg.predict_proba(X_test)[:,1]"
      ]
    },
    {
      "cell_type": "markdown",
      "metadata": {
        "id": "9o8hu7rXB087"
      },
      "source": [
        "# **14. Check accuracy score** <a class=\"anchor\" id=\"14\"></a>\n",
        "\n",
        "\n",
        "[Table of Contents](#0.1)"
      ]
    },
    {
      "cell_type": "code",
      "execution_count": 116,
      "metadata": {
        "colab": {
          "base_uri": "https://localhost:8080/"
        },
        "id": "kmlZ4UdJB087",
        "outputId": "4ad02a9d-3d62-4de8-9abd-b4e5eb5ea1dd"
      },
      "outputs": [
        {
          "name": "stdout",
          "output_type": "stream",
          "text": [
            "Model accuracy score: 0.8502\n"
          ]
        }
      ],
      "source": [
        "from sklearn.metrics import accuracy_score\n",
        "\n",
        "print('Model accuracy score: {0:0.4f}'. format(accuracy_score(y_test , y_pred_test)))"
      ]
    },
    {
      "cell_type": "markdown",
      "metadata": {
        "id": "j_NajxDEB088"
      },
      "source": [
        "Here, **y_test** are the true class labels and **y_pred_test** are the predicted class labels in the test-set."
      ]
    },
    {
      "cell_type": "markdown",
      "metadata": {
        "id": "q_RDl-nXB088"
      },
      "source": [
        "### Compare the train-set and test-set accuracy\n",
        "\n",
        "\n",
        "Now, I will compare the train-set and test-set accuracy to check for overfitting."
      ]
    },
    {
      "cell_type": "code",
      "execution_count": 117,
      "metadata": {
        "colab": {
          "base_uri": "https://localhost:8080/"
        },
        "id": "OyttbNGzB088",
        "outputId": "c7ac9ccd-4844-4cca-a733-3b1d3de94338"
      },
      "outputs": [
        {
          "data": {
            "text/plain": [
              "array(['No', 'No', 'No', ..., 'No', 'No', 'No'], dtype=object)"
            ]
          },
          "execution_count": 117,
          "metadata": {},
          "output_type": "execute_result"
        }
      ],
      "source": [
        "y_pred_train = logreg.predict(X_train)\n",
        "\n",
        "y_pred_train"
      ]
    },
    {
      "cell_type": "code",
      "execution_count": 118,
      "metadata": {
        "colab": {
          "base_uri": "https://localhost:8080/"
        },
        "id": "6njx0E-WB088",
        "outputId": "6be9449e-6bca-46e1-8f61-518653c8358a"
      },
      "outputs": [
        {
          "name": "stdout",
          "output_type": "stream",
          "text": [
            "Training-set accuracy score: 0.8476\n"
          ]
        }
      ],
      "source": [
        "print('Training-set accuracy score: {0:0.4f}'. format(accuracy_score(y_train, y_pred_train)))"
      ]
    },
    {
      "cell_type": "markdown",
      "metadata": {
        "id": "NkAVcJTUB088"
      },
      "source": [
        "### Check for overfitting and underfitting"
      ]
    },
    {
      "cell_type": "code",
      "execution_count": 119,
      "metadata": {
        "colab": {
          "base_uri": "https://localhost:8080/"
        },
        "id": "4mnPZeiaB089",
        "outputId": "edffa36e-2c3e-4dee-a740-dfd0eee6625c"
      },
      "outputs": [
        {
          "name": "stdout",
          "output_type": "stream",
          "text": [
            "Training set score: 0.8476\n",
            "Test set score: 0.8502\n"
          ]
        }
      ],
      "source": [
        "# print the scores on training and test set\n",
        "\n",
        "print('Training set score: {:.4f}'.format(logreg.score(X_train , y_train)))\n",
        "\n",
        "print('Test set score: {:.4f}'.format(logreg.score(X_test , y_test)))"
      ]
    },
    {
      "cell_type": "markdown",
      "metadata": {
        "id": "9Ds7jgIgB089"
      },
      "source": [
        "The training-set accuracy score is 0.8476 while the test-set accuracy to be 0.8501. These two values are quite comparable. So, there is no question of overfitting.\n"
      ]
    },
    {
      "cell_type": "markdown",
      "metadata": {
        "id": "YD6I6iZiB089"
      },
      "source": [
        "In Logistic Regression, we use default value of C = 1. It provides good performance with approximately 85% accuracy on both the training and the test set. But the model performance on both the training and test set are very comparable. It is likely the case of underfitting.\n",
        "\n",
        "I will increase C and fit a more flexible model.\n",
        "\n",
        "\n",
        "## What is C?\n",
        "\n",
        "### Answer here"
      ]
    },
    {
      "cell_type": "code",
      "execution_count": 120,
      "metadata": {
        "colab": {
          "base_uri": "https://localhost:8080/",
          "height": 80
        },
        "id": "9sZgsmfQB089",
        "outputId": "049c4cec-bbbc-4e7b-cc68-927767aac05d"
      },
      "outputs": [
        {
          "data": {
            "text/html": [
              "<style>#sk-container-id-2 {color: black;background-color: white;}#sk-container-id-2 pre{padding: 0;}#sk-container-id-2 div.sk-toggleable {background-color: white;}#sk-container-id-2 label.sk-toggleable__label {cursor: pointer;display: block;width: 100%;margin-bottom: 0;padding: 0.3em;box-sizing: border-box;text-align: center;}#sk-container-id-2 label.sk-toggleable__label-arrow:before {content: \"▸\";float: left;margin-right: 0.25em;color: #696969;}#sk-container-id-2 label.sk-toggleable__label-arrow:hover:before {color: black;}#sk-container-id-2 div.sk-estimator:hover label.sk-toggleable__label-arrow:before {color: black;}#sk-container-id-2 div.sk-toggleable__content {max-height: 0;max-width: 0;overflow: hidden;text-align: left;background-color: #f0f8ff;}#sk-container-id-2 div.sk-toggleable__content pre {margin: 0.2em;color: black;border-radius: 0.25em;background-color: #f0f8ff;}#sk-container-id-2 input.sk-toggleable__control:checked~div.sk-toggleable__content {max-height: 200px;max-width: 100%;overflow: auto;}#sk-container-id-2 input.sk-toggleable__control:checked~label.sk-toggleable__label-arrow:before {content: \"▾\";}#sk-container-id-2 div.sk-estimator input.sk-toggleable__control:checked~label.sk-toggleable__label {background-color: #d4ebff;}#sk-container-id-2 div.sk-label input.sk-toggleable__control:checked~label.sk-toggleable__label {background-color: #d4ebff;}#sk-container-id-2 input.sk-hidden--visually {border: 0;clip: rect(1px 1px 1px 1px);clip: rect(1px, 1px, 1px, 1px);height: 1px;margin: -1px;overflow: hidden;padding: 0;position: absolute;width: 1px;}#sk-container-id-2 div.sk-estimator {font-family: monospace;background-color: #f0f8ff;border: 1px dotted black;border-radius: 0.25em;box-sizing: border-box;margin-bottom: 0.5em;}#sk-container-id-2 div.sk-estimator:hover {background-color: #d4ebff;}#sk-container-id-2 div.sk-parallel-item::after {content: \"\";width: 100%;border-bottom: 1px solid gray;flex-grow: 1;}#sk-container-id-2 div.sk-label:hover label.sk-toggleable__label {background-color: #d4ebff;}#sk-container-id-2 div.sk-serial::before {content: \"\";position: absolute;border-left: 1px solid gray;box-sizing: border-box;top: 0;bottom: 0;left: 50%;z-index: 0;}#sk-container-id-2 div.sk-serial {display: flex;flex-direction: column;align-items: center;background-color: white;padding-right: 0.2em;padding-left: 0.2em;position: relative;}#sk-container-id-2 div.sk-item {position: relative;z-index: 1;}#sk-container-id-2 div.sk-parallel {display: flex;align-items: stretch;justify-content: center;background-color: white;position: relative;}#sk-container-id-2 div.sk-item::before, #sk-container-id-2 div.sk-parallel-item::before {content: \"\";position: absolute;border-left: 1px solid gray;box-sizing: border-box;top: 0;bottom: 0;left: 50%;z-index: -1;}#sk-container-id-2 div.sk-parallel-item {display: flex;flex-direction: column;z-index: 1;position: relative;background-color: white;}#sk-container-id-2 div.sk-parallel-item:first-child::after {align-self: flex-end;width: 50%;}#sk-container-id-2 div.sk-parallel-item:last-child::after {align-self: flex-start;width: 50%;}#sk-container-id-2 div.sk-parallel-item:only-child::after {width: 0;}#sk-container-id-2 div.sk-dashed-wrapped {border: 1px dashed gray;margin: 0 0.4em 0.5em 0.4em;box-sizing: border-box;padding-bottom: 0.4em;background-color: white;}#sk-container-id-2 div.sk-label label {font-family: monospace;font-weight: bold;display: inline-block;line-height: 1.2em;}#sk-container-id-2 div.sk-label-container {text-align: center;}#sk-container-id-2 div.sk-container {/* jupyter's `normalize.less` sets `[hidden] { display: none; }` but bootstrap.min.css set `[hidden] { display: none !important; }` so we also need the `!important` here to be able to override the default hidden behavior on the sphinx rendered scikit-learn.org. See: https://github.com/scikit-learn/scikit-learn/issues/21755 */display: inline-block !important;position: relative;}#sk-container-id-2 div.sk-text-repr-fallback {display: none;}</style><div id=\"sk-container-id-2\" class=\"sk-top-container\"><div class=\"sk-text-repr-fallback\"><pre>LogisticRegression(C=100, random_state=0, solver=&#x27;liblinear&#x27;)</pre><b>In a Jupyter environment, please rerun this cell to show the HTML representation or trust the notebook. <br />On GitHub, the HTML representation is unable to render, please try loading this page with nbviewer.org.</b></div><div class=\"sk-container\" hidden><div class=\"sk-item\"><div class=\"sk-estimator sk-toggleable\"><input class=\"sk-toggleable__control sk-hidden--visually\" id=\"sk-estimator-id-2\" type=\"checkbox\" checked><label for=\"sk-estimator-id-2\" class=\"sk-toggleable__label sk-toggleable__label-arrow\">LogisticRegression</label><div class=\"sk-toggleable__content\"><pre>LogisticRegression(C=100, random_state=0, solver=&#x27;liblinear&#x27;)</pre></div></div></div></div></div>"
            ],
            "text/plain": [
              "LogisticRegression(C=100, random_state=0, solver='liblinear')"
            ]
          },
          "execution_count": 120,
          "metadata": {},
          "output_type": "execute_result"
        }
      ],
      "source": [
        "# fit the Logsitic Regression model with C=100\n",
        "\n",
        "# instantiate the model\n",
        "logreg100 = LogisticRegression(C=100, solver='liblinear', random_state=0)\n",
        "\n",
        "\n",
        "# fit the model\n",
        "logreg100.fit(X_train, y_train)"
      ]
    },
    {
      "cell_type": "code",
      "execution_count": 121,
      "metadata": {
        "colab": {
          "base_uri": "https://localhost:8080/"
        },
        "id": "4RNevNLQB089",
        "outputId": "06488b20-5937-4950-915e-32705a5ac448"
      },
      "outputs": [
        {
          "name": "stdout",
          "output_type": "stream",
          "text": [
            "Training set score: 0.8478\n",
            "Test set score: 0.8506\n"
          ]
        }
      ],
      "source": [
        "# print the scores on training and test set\n",
        "\n",
        "print('Training set score: {:.4f}'.format(logreg100.score(X_train, y_train)))\n",
        "\n",
        "print('Test set score: {:.4f}'.format(logreg100.score(X_test, y_test)))"
      ]
    },
    {
      "cell_type": "markdown",
      "metadata": {
        "id": "cXdvOtJQB08-"
      },
      "source": [
        "We can see that, C=100 results in higher test set accuracy and also a slightly increased training set accuracy. So, we can conclude that a more complex model should perform better."
      ]
    },
    {
      "cell_type": "markdown",
      "metadata": {
        "id": "UkbMF1wmB08-"
      },
      "source": [
        "Now, I will investigate, what happens if we use more regularized model than the default value of C=1, by setting C=0.01."
      ]
    },
    {
      "cell_type": "code",
      "execution_count": 122,
      "metadata": {
        "colab": {
          "base_uri": "https://localhost:8080/",
          "height": 80
        },
        "id": "aMsUkSTcB08-",
        "outputId": "ae50360a-6809-4659-d617-7c16394df744"
      },
      "outputs": [
        {
          "data": {
            "text/html": [
              "<style>#sk-container-id-3 {color: black;background-color: white;}#sk-container-id-3 pre{padding: 0;}#sk-container-id-3 div.sk-toggleable {background-color: white;}#sk-container-id-3 label.sk-toggleable__label {cursor: pointer;display: block;width: 100%;margin-bottom: 0;padding: 0.3em;box-sizing: border-box;text-align: center;}#sk-container-id-3 label.sk-toggleable__label-arrow:before {content: \"▸\";float: left;margin-right: 0.25em;color: #696969;}#sk-container-id-3 label.sk-toggleable__label-arrow:hover:before {color: black;}#sk-container-id-3 div.sk-estimator:hover label.sk-toggleable__label-arrow:before {color: black;}#sk-container-id-3 div.sk-toggleable__content {max-height: 0;max-width: 0;overflow: hidden;text-align: left;background-color: #f0f8ff;}#sk-container-id-3 div.sk-toggleable__content pre {margin: 0.2em;color: black;border-radius: 0.25em;background-color: #f0f8ff;}#sk-container-id-3 input.sk-toggleable__control:checked~div.sk-toggleable__content {max-height: 200px;max-width: 100%;overflow: auto;}#sk-container-id-3 input.sk-toggleable__control:checked~label.sk-toggleable__label-arrow:before {content: \"▾\";}#sk-container-id-3 div.sk-estimator input.sk-toggleable__control:checked~label.sk-toggleable__label {background-color: #d4ebff;}#sk-container-id-3 div.sk-label input.sk-toggleable__control:checked~label.sk-toggleable__label {background-color: #d4ebff;}#sk-container-id-3 input.sk-hidden--visually {border: 0;clip: rect(1px 1px 1px 1px);clip: rect(1px, 1px, 1px, 1px);height: 1px;margin: -1px;overflow: hidden;padding: 0;position: absolute;width: 1px;}#sk-container-id-3 div.sk-estimator {font-family: monospace;background-color: #f0f8ff;border: 1px dotted black;border-radius: 0.25em;box-sizing: border-box;margin-bottom: 0.5em;}#sk-container-id-3 div.sk-estimator:hover {background-color: #d4ebff;}#sk-container-id-3 div.sk-parallel-item::after {content: \"\";width: 100%;border-bottom: 1px solid gray;flex-grow: 1;}#sk-container-id-3 div.sk-label:hover label.sk-toggleable__label {background-color: #d4ebff;}#sk-container-id-3 div.sk-serial::before {content: \"\";position: absolute;border-left: 1px solid gray;box-sizing: border-box;top: 0;bottom: 0;left: 50%;z-index: 0;}#sk-container-id-3 div.sk-serial {display: flex;flex-direction: column;align-items: center;background-color: white;padding-right: 0.2em;padding-left: 0.2em;position: relative;}#sk-container-id-3 div.sk-item {position: relative;z-index: 1;}#sk-container-id-3 div.sk-parallel {display: flex;align-items: stretch;justify-content: center;background-color: white;position: relative;}#sk-container-id-3 div.sk-item::before, #sk-container-id-3 div.sk-parallel-item::before {content: \"\";position: absolute;border-left: 1px solid gray;box-sizing: border-box;top: 0;bottom: 0;left: 50%;z-index: -1;}#sk-container-id-3 div.sk-parallel-item {display: flex;flex-direction: column;z-index: 1;position: relative;background-color: white;}#sk-container-id-3 div.sk-parallel-item:first-child::after {align-self: flex-end;width: 50%;}#sk-container-id-3 div.sk-parallel-item:last-child::after {align-self: flex-start;width: 50%;}#sk-container-id-3 div.sk-parallel-item:only-child::after {width: 0;}#sk-container-id-3 div.sk-dashed-wrapped {border: 1px dashed gray;margin: 0 0.4em 0.5em 0.4em;box-sizing: border-box;padding-bottom: 0.4em;background-color: white;}#sk-container-id-3 div.sk-label label {font-family: monospace;font-weight: bold;display: inline-block;line-height: 1.2em;}#sk-container-id-3 div.sk-label-container {text-align: center;}#sk-container-id-3 div.sk-container {/* jupyter's `normalize.less` sets `[hidden] { display: none; }` but bootstrap.min.css set `[hidden] { display: none !important; }` so we also need the `!important` here to be able to override the default hidden behavior on the sphinx rendered scikit-learn.org. See: https://github.com/scikit-learn/scikit-learn/issues/21755 */display: inline-block !important;position: relative;}#sk-container-id-3 div.sk-text-repr-fallback {display: none;}</style><div id=\"sk-container-id-3\" class=\"sk-top-container\"><div class=\"sk-text-repr-fallback\"><pre>LogisticRegression(C=0.01, random_state=0, solver=&#x27;liblinear&#x27;)</pre><b>In a Jupyter environment, please rerun this cell to show the HTML representation or trust the notebook. <br />On GitHub, the HTML representation is unable to render, please try loading this page with nbviewer.org.</b></div><div class=\"sk-container\" hidden><div class=\"sk-item\"><div class=\"sk-estimator sk-toggleable\"><input class=\"sk-toggleable__control sk-hidden--visually\" id=\"sk-estimator-id-3\" type=\"checkbox\" checked><label for=\"sk-estimator-id-3\" class=\"sk-toggleable__label sk-toggleable__label-arrow\">LogisticRegression</label><div class=\"sk-toggleable__content\"><pre>LogisticRegression(C=0.01, random_state=0, solver=&#x27;liblinear&#x27;)</pre></div></div></div></div></div>"
            ],
            "text/plain": [
              "LogisticRegression(C=0.01, random_state=0, solver='liblinear')"
            ]
          },
          "execution_count": 122,
          "metadata": {},
          "output_type": "execute_result"
        }
      ],
      "source": [
        "# fit the Logsitic Regression model with C=001\n",
        "\n",
        "# instantiate the model\n",
        "logreg001 = LogisticRegression(C=0.01, solver='liblinear', random_state=0)\n",
        "\n",
        "\n",
        "# fit the model\n",
        "logreg001.fit(X_train, y_train)"
      ]
    },
    {
      "cell_type": "code",
      "execution_count": 123,
      "metadata": {
        "colab": {
          "base_uri": "https://localhost:8080/"
        },
        "id": "htcO8fL1B08-",
        "outputId": "8c828049-4a6f-480d-816c-290e9f5171df"
      },
      "outputs": [
        {
          "name": "stdout",
          "output_type": "stream",
          "text": [
            "Training set score: 0.8408\n",
            "Test set score: 0.8448\n"
          ]
        }
      ],
      "source": [
        "# print the scores on training and test set\n",
        "\n",
        "print('Training set score: {:.4f}'.format(logreg001.score(X_train, y_train)))\n",
        "\n",
        "print('Test set score: {:.4f}'.format(logreg001.score(X_test, y_test)))"
      ]
    },
    {
      "cell_type": "markdown",
      "metadata": {
        "id": "Ez0c4UG2B08-"
      },
      "source": [
        "So, if we use more regularized model by setting C=0.01, then both the training and test set accuracy decrease relatiev to the default parameters."
      ]
    },
    {
      "cell_type": "markdown",
      "metadata": {
        "id": "VrtgWdTaB08_"
      },
      "source": [
        "### Compare model accuracy with null accuracy\n",
        "\n",
        "\n",
        "So, the model accuracy is 0.8501. But, we cannot say that our model is very good based on the above accuracy. We must compare it with the **null accuracy**. Null accuracy is the accuracy that could be achieved by always predicting the most frequent class.\n",
        "\n",
        "So, we should first check the class distribution in the test set."
      ]
    },
    {
      "cell_type": "code",
      "execution_count": 124,
      "metadata": {
        "colab": {
          "base_uri": "https://localhost:8080/",
          "height": 178
        },
        "id": "PT7jjRDYB08_",
        "outputId": "956d19a4-383c-49a6-cae6-9f8d4b31fa29"
      },
      "outputs": [
        {
          "data": {
            "text/plain": [
              "RainTomorrow\n",
              "No     22067\n",
              "Yes     6372\n",
              "Name: count, dtype: int64"
            ]
          },
          "execution_count": 124,
          "metadata": {},
          "output_type": "execute_result"
        }
      ],
      "source": [
        "# check class distribution in test set\n",
        "\n",
        "y_test.value_counts()"
      ]
    },
    {
      "cell_type": "markdown",
      "metadata": {
        "id": "CvKvu-uQB08_"
      },
      "source": [
        "We can see that the occurences of most frequent class is 22067. So, we can calculate null accuracy by dividing 22067 by total number of occurences."
      ]
    },
    {
      "cell_type": "code",
      "execution_count": 125,
      "metadata": {
        "colab": {
          "base_uri": "https://localhost:8080/"
        },
        "id": "4lFOTMncB08_",
        "outputId": "a333aef9-a520-4a81-b81c-2db500e3257c"
      },
      "outputs": [
        {
          "name": "stdout",
          "output_type": "stream",
          "text": [
            "Null accuracy score: 0.7759\n"
          ]
        }
      ],
      "source": [
        "# check null accuracy score\n",
        "\n",
        "null_accuracy = (22067/(22067+6372))\n",
        "\n",
        "print('Null accuracy score: {0:0.4f}'. format(null_accuracy))"
      ]
    },
    {
      "cell_type": "markdown",
      "metadata": {
        "id": "TC1zXZaTB08_"
      },
      "source": [
        "We can see that our model accuracy score is 0.8501 but null accuracy score is 0.7759. So, we can conclude that our Logistic Regression model is doing a very good job in predicting the class labels."
      ]
    },
    {
      "cell_type": "markdown",
      "metadata": {
        "id": "FjYHSDotB08_"
      },
      "source": [
        "Now, based on the above analysis we can conclude that our classification model accuracy is very good. Our model is doing a very good job in terms of predicting the class labels.\n",
        "\n",
        "\n",
        "But, it does not give the underlying distribution of values. Also, it does not tell anything about the type of errors our classifer is making.\n",
        "\n",
        "\n",
        "We have another tool called `Confusion matrix` that comes to our rescue."
      ]
    },
    {
      "cell_type": "markdown",
      "metadata": {
        "id": "l__fxhf5B08_"
      },
      "source": [
        "# **15. Confusion matrix** <a class=\"anchor\" id=\"15\"></a>\n",
        "\n",
        "\n",
        "[Table of Contents](#0.1)\n",
        "\n",
        "\n",
        "A confusion matrix is a tool for summarizing the performance of a classification algorithm. A confusion matrix will give us a clear picture of classification model performance and the types of errors produced by the model. It gives us a summary of correct and incorrect predictions broken down by each category. The summary is represented in a tabular form.\n",
        "\n",
        "\n",
        "Four types of outcomes are possible while evaluating a classification model performance. These four outcomes are described below:-\n",
        "\n",
        "\n",
        "**True Positives (TP)** – True Positives occur when we predict an observation belongs to a certain class and the observation actually belongs to that class.\n",
        "\n",
        "\n",
        "**True Negatives (TN)** – True Negatives occur when we predict an observation does not belong to a certain class and the observation actually does not belong to that class.\n",
        "\n",
        "\n",
        "**False Positives (FP)** – False Positives occur when we predict an observation belongs to a    certain class but the observation actually does not belong to that class. This type of error is called **Type I error.**\n",
        "\n",
        "\n",
        "\n",
        "**False Negatives (FN)** – False Negatives occur when we predict an observation does not belong to a certain class but the observation actually belongs to that class. This is a very serious error and it is called **Type II error.**\n",
        "\n",
        "\n",
        "\n",
        "These four outcomes are summarized in a confusion matrix given below.\n"
      ]
    },
    {
      "cell_type": "code",
      "execution_count": 126,
      "metadata": {
        "colab": {
          "base_uri": "https://localhost:8080/"
        },
        "id": "co4gl29QB09A",
        "outputId": "70dbbac9-5787-47af-b825-14655ddfd60b"
      },
      "outputs": [
        {
          "name": "stdout",
          "output_type": "stream",
          "text": [
            "Confusion matrix\n",
            "\n",
            " [[20892  1175]\n",
            " [ 3086  3286]]\n",
            "\n",
            "True Positives(TP) =  3286\n",
            "\n",
            "True Negatives(TN) =  20892\n",
            "\n",
            "False Positives(FP) =  1175\n",
            "\n",
            "False Negatives(FN) =  3086\n"
          ]
        }
      ],
      "source": [
        "# Print the Confusion Matrix and slice it into four pieces\n",
        "\n",
        "from sklearn.metrics import confusion_matrix\n",
        "\n",
        "cm = confusion_matrix(y_test, y_pred_test)\n",
        "\n",
        "print('Confusion matrix\\n\\n', cm)\n",
        "\n",
        "print('\\nTrue Positives(TP) = ', cm[1,1])\n",
        "\n",
        "print('\\nTrue Negatives(TN) = ', cm[0,0])\n",
        "\n",
        "print('\\nFalse Positives(FP) = ', cm[0,1])\n",
        "\n",
        "print('\\nFalse Negatives(FN) = ', cm[1,0])"
      ]
    },
    {
      "cell_type": "markdown",
      "metadata": {
        "id": "y8q-8HrBB09A"
      },
      "source": [
        "The confusion matrix shows `20892 + 3285 = 24177 correct predictions` and `3087 + 1175 = 4262 incorrect predictions`.\n",
        "\n",
        "\n",
        "In this case, we have\n",
        "\n",
        "\n",
        "- `True Positives` (Actual Positive:1 and Predict Positive:1) - 20892\n",
        "\n",
        "\n",
        "- `True Negatives` (Actual Negative:0 and Predict Negative:0) - 3285\n",
        "\n",
        "\n",
        "- `False Positives` (Actual Negative:0 but Predict Positive:1) - 1175 `(Type I error)`\n",
        "\n",
        "\n",
        "- `False Negatives` (Actual Positive:1 but Predict Negative:0) - 3087 `(Type II error)`"
      ]
    },
    {
      "cell_type": "code",
      "execution_count": 127,
      "metadata": {
        "colab": {
          "base_uri": "https://localhost:8080/",
          "height": 447
        },
        "id": "SdJ6ebS4B09A",
        "outputId": "e0593bbd-8290-4c37-e927-81e1693e451e"
      },
      "outputs": [
        {
          "data": {
            "text/plain": [
              "<Axes: >"
            ]
          },
          "execution_count": 127,
          "metadata": {},
          "output_type": "execute_result"
        },
        {
          "data": {
            "image/png": "[encoded data removed]",
            "text/plain": [
              "<Figure size 640x480 with 2 Axes>"
            ]
          },
          "metadata": {},
          "output_type": "display_data"
        }
      ],
      "source": [
        "# visualize confusion matrix with seaborn heatmap\n",
        "\n",
        "cm_matrix = pd.DataFrame(data=cm, columns=['Actual Positive:1', 'Actual Negative:0'],\n",
        "                                 index=['Predict Positive:1', 'Predict Negative:0'])\n",
        "\n",
        "sns.heatmap(cm_matrix, annot=True, fmt='d', cmap='YlGnBu')"
      ]
    },
    {
      "cell_type": "markdown",
      "metadata": {
        "id": "BoyYPX-VB09A"
      },
      "source": [
        "# **16. Classification metrices** <a class=\"anchor\" id=\"16\"></a>\n",
        "\n",
        "\n",
        "[Table of Contents](#0.1)"
      ]
    },
    {
      "cell_type": "markdown",
      "metadata": {
        "id": "0fOk_bXtB09A"
      },
      "source": [
        "## Classification Report\n",
        "### Learn about all the metrics used in the report\n",
        "\n",
        "\n",
        "\n",
        "**Classification report** is another way to evaluate the classification model performance. It displays the  **precision**, **recall**, **f1** and **support** scores for the model. I have described these terms in later.\n",
        "\n",
        "We can print a classification report as follows:-"
      ]
    },
    {
      "cell_type": "code",
      "execution_count": 128,
      "metadata": {
        "colab": {
          "base_uri": "https://localhost:8080/"
        },
        "id": "v4X0-G7dB09B",
        "outputId": "44dfabd7-725a-4f7a-c57b-a21e96ab9145"
      },
      "outputs": [
        {
          "name": "stdout",
          "output_type": "stream",
          "text": [
            "              precision    recall  f1-score   support\n",
            "\n",
            "          No       0.87      0.95      0.91     22067\n",
            "         Yes       0.74      0.52      0.61      6372\n",
            "\n",
            "    accuracy                           0.85     28439\n",
            "   macro avg       0.80      0.73      0.76     28439\n",
            "weighted avg       0.84      0.85      0.84     28439\n",
            "\n"
          ]
        }
      ],
      "source": [
        "from sklearn.metrics import classification_report\n",
        "\n",
        "print(classification_report(y_test, y_pred_test))"
      ]
    },
    {
      "cell_type": "markdown",
      "metadata": {
        "id": "HtMgrvceB09B"
      },
      "source": [
        "## Classification accuracy"
      ]
    },
    {
      "cell_type": "code",
      "execution_count": 129,
      "metadata": {
        "id": "OKzfarJjB09B"
      },
      "outputs": [],
      "source": [
        "TP = cm[0,0]\n",
        "TN = cm[1,1]\n",
        "FP = cm[0,1]\n",
        "FN = cm[1,0]"
      ]
    },
    {
      "cell_type": "code",
      "execution_count": 130,
      "metadata": {
        "colab": {
          "base_uri": "https://localhost:8080/"
        },
        "id": "rQ2qJxyRB09B",
        "outputId": "b99560e5-5788-4890-e67e-ee92ef6a4a96"
      },
      "outputs": [
        {
          "name": "stdout",
          "output_type": "stream",
          "text": [
            "Classification accuracy : 0.8502\n"
          ]
        }
      ],
      "source": [
        "# print classification accuracy\n",
        "\n",
        "classification_accuracy = (TP + TN) / float(TP + TN + FP + FN)\n",
        "\n",
        "print('Classification accuracy : {0:0.4f}'.format(classification_accuracy))\n"
      ]
    },
    {
      "cell_type": "markdown",
      "metadata": {
        "id": "LJvQV_GYB09B"
      },
      "source": [
        "## Classification error"
      ]
    },
    {
      "cell_type": "code",
      "execution_count": 131,
      "metadata": {
        "colab": {
          "base_uri": "https://localhost:8080/"
        },
        "id": "jcqUcqTyB09B",
        "outputId": "09d7e3d5-c0da-41c3-84fd-780ef9688637"
      },
      "outputs": [
        {
          "name": "stdout",
          "output_type": "stream",
          "text": [
            "Classification error : 0.1498\n"
          ]
        }
      ],
      "source": [
        "# print classification error\n",
        "\n",
        "classification_error = (FP + FN) / float(TP + TN + FP + FN)\n",
        "\n",
        "print('Classification error : {0:0.4f}'.format(classification_error))"
      ]
    },
    {
      "cell_type": "markdown",
      "metadata": {
        "id": "KzQabZk0B09B"
      },
      "source": [
        "## Precision\n",
        "\n",
        "\n",
        "**Precision** can be defined as the percentage of correctly predicted positive outcomes out of all the predicted positive outcomes. It can be given as the ratio of true positives (TP) to the sum of true and false positives (TP + FP).\n",
        "\n",
        "\n",
        "So, **Precision** identifies the proportion of correctly predicted positive outcome. It is more concerned with the positive class than the negative class.\n",
        "\n",
        "\n",
        "\n",
        "Mathematically, precision can be defined as the ratio of `TP to (TP + FP).`\n",
        "\n",
        "\n"
      ]
    },
    {
      "cell_type": "code",
      "execution_count": 132,
      "metadata": {
        "colab": {
          "base_uri": "https://localhost:8080/"
        },
        "id": "6azRW5pOB09C",
        "outputId": "f3f19f40-6669-4c2d-80ac-b79e9af05620"
      },
      "outputs": [
        {
          "name": "stdout",
          "output_type": "stream",
          "text": [
            "Precision : 0.9468\n"
          ]
        }
      ],
      "source": [
        "# print precision score\n",
        "\n",
        "precision = TP / float(TP + FP)\n",
        "\n",
        "\n",
        "print('Precision : {0:0.4f}'.format(precision))\n"
      ]
    },
    {
      "cell_type": "markdown",
      "metadata": {
        "id": "jkvq3362B09C"
      },
      "source": [
        "## Recall\n",
        "\n",
        "\n",
        "Recall can be defined as the percentage of correctly predicted positive outcomes out of all the actual positive outcomes.\n",
        "It can be given as the ratio of true positives (TP) to the sum of true positives and false negatives (TP + FN). **Recall** is also called **Sensitivity**.\n",
        "\n",
        "\n",
        "**Recall** identifies the proportion of correctly predicted actual positives.\n",
        "\n",
        "\n",
        "Mathematically, recall can be given as the ratio of `TP to (TP + FN).`\n",
        "\n",
        "\n",
        "\n"
      ]
    },
    {
      "cell_type": "code",
      "execution_count": 133,
      "metadata": {
        "colab": {
          "base_uri": "https://localhost:8080/"
        },
        "id": "7d9YfgoYB09C",
        "outputId": "60e938b8-8903-45bb-f850-0517da0b6a12"
      },
      "outputs": [
        {
          "name": "stdout",
          "output_type": "stream",
          "text": [
            "Recall or Sensitivity : 0.8713\n"
          ]
        }
      ],
      "source": [
        "recall = TP / float(TP + FN)\n",
        "\n",
        "print('Recall or Sensitivity : {0:0.4f}'.format(recall))"
      ]
    },
    {
      "cell_type": "markdown",
      "metadata": {
        "id": "povR2A1pB09C"
      },
      "source": [
        "## True Positive Rate\n",
        "\n",
        "\n",
        "**True Positive Rate** is synonymous with **Recall**.\n"
      ]
    },
    {
      "cell_type": "code",
      "execution_count": 134,
      "metadata": {
        "colab": {
          "base_uri": "https://localhost:8080/"
        },
        "id": "oA0fNDgxB09C",
        "outputId": "a85badad-81b6-4ccf-ad94-741e49b0df41"
      },
      "outputs": [
        {
          "name": "stdout",
          "output_type": "stream",
          "text": [
            "True Positive Rate : 0.8713\n"
          ]
        }
      ],
      "source": [
        "true_positive_rate = TP / float(TP + FN)\n",
        "\n",
        "\n",
        "print('True Positive Rate : {0:0.4f}'.format(true_positive_rate))"
      ]
    },
    {
      "cell_type": "markdown",
      "metadata": {
        "id": "W7gDqgjCB09C"
      },
      "source": [
        "## False Positive Rate"
      ]
    },
    {
      "cell_type": "code",
      "execution_count": 135,
      "metadata": {
        "colab": {
          "base_uri": "https://localhost:8080/"
        },
        "id": "vODYx8TxB09C",
        "outputId": "ce537485-70dc-4314-8bed-1a201c20c4a4"
      },
      "outputs": [
        {
          "name": "stdout",
          "output_type": "stream",
          "text": [
            "False Positive Rate : 0.2634\n"
          ]
        }
      ],
      "source": [
        "false_positive_rate = FP / float(FP + TN)\n",
        "\n",
        "\n",
        "print('False Positive Rate : {0:0.4f}'.format(false_positive_rate))"
      ]
    },
    {
      "cell_type": "markdown",
      "metadata": {
        "id": "LD4wCz1GB09C"
      },
      "source": [
        "## Specificity"
      ]
    },
    {
      "cell_type": "code",
      "execution_count": 137,
      "metadata": {
        "colab": {
          "base_uri": "https://localhost:8080/"
        },
        "id": "U_27V7GBB09D",
        "outputId": "c6167882-f6d1-4701-c12a-40d4b1b47c81"
      },
      "outputs": [
        {
          "name": "stdout",
          "output_type": "stream",
          "text": [
            "Specificity : 0.7366\n"
          ]
        }
      ],
      "source": [
        "specificity = TN / (TN + FP)\n",
        "\n",
        "print('Specificity : {0:0.4f}'.format(specificity))"
      ]
    },
    {
      "cell_type": "markdown",
      "metadata": {
        "id": "tzaWUrgcB09D"
      },
      "source": [
        "## f1-score\n",
        "\n",
        "\n",
        "**f1-score** is the weighted harmonic mean of precision and recall. The best possible **f1-score** would be 1.0 and the worst\n",
        "would be 0.0.  **f1-score** is the harmonic mean of precision and recall. So, **f1-score** is always lower than accuracy measures as they embed precision and recall into their computation. The weighted average of `f1-score` should be used to\n",
        "compare classifier models, not global accuracy.\n",
        "\n"
      ]
    },
    {
      "cell_type": "markdown",
      "metadata": {
        "id": "8WqCpDkxB09D"
      },
      "source": [
        "## Support\n",
        "\n",
        "\n",
        "**Support** is the actual number of occurrences of the class in our dataset."
      ]
    },
    {
      "cell_type": "markdown",
      "metadata": {
        "id": "z4KnfE5dB09D"
      },
      "source": [
        "# **17. Adjusting the threshold level** <a class=\"anchor\" id=\"17\"></a>\n",
        "\n",
        "\n",
        "[Table of Contents](#0.1)"
      ]
    },
    {
      "cell_type": "code",
      "execution_count": 139,
      "metadata": {
        "colab": {
          "base_uri": "https://localhost:8080/"
        },
        "id": "S_-LsYQYB09D",
        "outputId": "9baaa543-81fe-40eb-80c4-07bc90a7ffd1"
      },
      "outputs": [
        {
          "data": {
            "text/plain": [
              "array([[0.91388025, 0.08611975],\n",
              "       [0.83563486, 0.16436514],\n",
              "       [0.82035859, 0.17964141],\n",
              "       [0.99025723, 0.00974277],\n",
              "       [0.95727654, 0.04272346],\n",
              "       [0.97992439, 0.02007561],\n",
              "       [0.17844395, 0.82155605],\n",
              "       [0.23482408, 0.76517592],\n",
              "       [0.90053182, 0.09946818],\n",
              "       [0.8548328 , 0.1451672 ]])"
            ]
          },
          "execution_count": 139,
          "metadata": {},
          "output_type": "execute_result"
        }
      ],
      "source": [
        "# print the first 10 predicted probabilities of two classes- 0 and 1\n",
        "\n",
        "y_pred_prob = logreg.predict_proba(X_test)[0:10]\n",
        "\n",
        "y_pred_prob"
      ]
    },
    {
      "cell_type": "markdown",
      "metadata": {
        "id": "SbSgYK7PB09D"
      },
      "source": [
        "### Observations\n",
        "\n",
        "\n",
        "- In each row, the numbers sum to 1.\n",
        "\n",
        "\n",
        "- There are 2 columns which correspond to 2 classes - 0 and 1.\n",
        "\n",
        "    - Class 0 - predicted probability that there is no rain tomorrow.    \n",
        "    \n",
        "    - Class 1 - predicted probability that there is rain tomorrow.\n",
        "        \n",
        "    \n",
        "- Importance of predicted probabilities\n",
        "\n",
        "    - We can rank the observations by probability of rain or no rain.\n",
        "\n",
        "\n",
        "- predict_proba process\n",
        "\n",
        "    - Predicts the probabilities    \n",
        "    \n",
        "    - Choose the class with the highest probability    \n",
        "    \n",
        "    \n",
        "- Classification threshold level\n",
        "\n",
        "    - There is a classification threshold level of 0.5.    \n",
        "    \n",
        "    - Class 1 - probability of rain is predicted if probability > 0.5.    \n",
        "    \n",
        "    - Class 0 - probability of no rain is predicted if probability < 0.5.    \n",
        "    \n"
      ]
    },
    {
      "cell_type": "code",
      "execution_count": 140,
      "metadata": {
        "colab": {
          "base_uri": "https://localhost:8080/",
          "height": 363
        },
        "id": "_0tA_picB09D",
        "outputId": "4ed42aa1-f7b6-45a4-d53e-aab919e31d65"
      },
      "outputs": [
        {
          "data": {
            "text/html": [
              "<div>\n",
              "<style scoped>\n",
              "    .dataframe tbody tr th:only-of-type {\n",
              "        vertical-align: middle;\n",
              "    }\n",
              "\n",
              "    .dataframe tbody tr th {\n",
              "        vertical-align: top;\n",
              "    }\n",
              "\n",
              "    .dataframe thead th {\n",
              "        text-align: right;\n",
              "    }\n",
              "</style>\n",
              "<table border=\"1\" class=\"dataframe\">\n",
              "  <thead>\n",
              "    <tr style=\"text-align: right;\">\n",
              "      <th></th>\n",
              "      <th>Prob of - No rain tomorrow (0)</th>\n",
              "      <th>Prob of - Rain tomorrow (1)</th>\n",
              "    </tr>\n",
              "  </thead>\n",
              "  <tbody>\n",
              "    <tr>\n",
              "      <th>0</th>\n",
              "      <td>0.913880</td>\n",
              "      <td>0.086120</td>\n",
              "    </tr>\n",
              "    <tr>\n",
              "      <th>1</th>\n",
              "      <td>0.835635</td>\n",
              "      <td>0.164365</td>\n",
              "    </tr>\n",
              "    <tr>\n",
              "      <th>2</th>\n",
              "      <td>0.820359</td>\n",
              "      <td>0.179641</td>\n",
              "    </tr>\n",
              "    <tr>\n",
              "      <th>3</th>\n",
              "      <td>0.990257</td>\n",
              "      <td>0.009743</td>\n",
              "    </tr>\n",
              "    <tr>\n",
              "      <th>4</th>\n",
              "      <td>0.957277</td>\n",
              "      <td>0.042723</td>\n",
              "    </tr>\n",
              "    <tr>\n",
              "      <th>5</th>\n",
              "      <td>0.979924</td>\n",
              "      <td>0.020076</td>\n",
              "    </tr>\n",
              "    <tr>\n",
              "      <th>6</th>\n",
              "      <td>0.178444</td>\n",
              "      <td>0.821556</td>\n",
              "    </tr>\n",
              "    <tr>\n",
              "      <th>7</th>\n",
              "      <td>0.234824</td>\n",
              "      <td>0.765176</td>\n",
              "    </tr>\n",
              "    <tr>\n",
              "      <th>8</th>\n",
              "      <td>0.900532</td>\n",
              "      <td>0.099468</td>\n",
              "    </tr>\n",
              "    <tr>\n",
              "      <th>9</th>\n",
              "      <td>0.854833</td>\n",
              "      <td>0.145167</td>\n",
              "    </tr>\n",
              "  </tbody>\n",
              "</table>\n",
              "</div>"
            ],
            "text/plain": [
              "   Prob of - No rain tomorrow (0)  Prob of - Rain tomorrow (1)\n",
              "0                        0.913880                     0.086120\n",
              "1                        0.835635                     0.164365\n",
              "2                        0.820359                     0.179641\n",
              "3                        0.990257                     0.009743\n",
              "4                        0.957277                     0.042723\n",
              "5                        0.979924                     0.020076\n",
              "6                        0.178444                     0.821556\n",
              "7                        0.234824                     0.765176\n",
              "8                        0.900532                     0.099468\n",
              "9                        0.854833                     0.145167"
            ]
          },
          "execution_count": 140,
          "metadata": {},
          "output_type": "execute_result"
        }
      ],
      "source": [
        "# store the probabilities in dataframe\n",
        "\n",
        "y_pred_prob_df = pd.DataFrame(data=y_pred_prob, columns=['Prob of - No rain tomorrow (0)', 'Prob of - Rain tomorrow (1)'])\n",
        "\n",
        "y_pred_prob_df"
      ]
    },
    {
      "cell_type": "code",
      "execution_count": 142,
      "metadata": {
        "colab": {
          "base_uri": "https://localhost:8080/"
        },
        "id": "oOtSLQcBB09D",
        "outputId": "ec1fee20-a94f-4500-ce27-6d004c857348"
      },
      "outputs": [
        {
          "data": {
            "text/plain": [
              "array([0.08611975, 0.16436514, 0.17964141, 0.00974277, 0.04272346,\n",
              "       0.02007561, 0.82155605, 0.76517592, 0.09946818, 0.1451672 ])"
            ]
          },
          "execution_count": 142,
          "metadata": {},
          "output_type": "execute_result"
        }
      ],
      "source": [
        "# print the first 10 predicted probabilities for class 1 - Probability of rain\n",
        "# Fill the Gap\n",
        "\n",
        "logreg.predict_proba(X_test)[0:10, 1]"
      ]
    },
    {
      "cell_type": "code",
      "execution_count": 143,
      "metadata": {
        "id": "gchF06-PB09E"
      },
      "outputs": [],
      "source": [
        "# store the predicted probabilities for class 1 - Probability of rain\n",
        "# Fill the Gap\n",
        "\n",
        "y_pred1 = logreg.predict_proba(X_test)[:, 1]"
      ]
    },
    {
      "cell_type": "code",
      "execution_count": 144,
      "metadata": {
        "colab": {
          "base_uri": "https://localhost:8080/",
          "height": 498
        },
        "id": "wOJb_RcWB09E",
        "outputId": "56cc7cf9-fa36-434b-b6fc-4db021640cec"
      },
      "outputs": [
        {
          "data": {
            "text/plain": [
              "Text(0, 0.5, 'Frequency')"
            ]
          },
          "execution_count": 144,
          "metadata": {},
          "output_type": "execute_result"
        },
        {
          "data": {
            "image/png": "[encoded data removed]",
            "text/plain": [
              "<Figure size 640x480 with 1 Axes>"
            ]
          },
          "metadata": {},
          "output_type": "display_data"
        }
      ],
      "source": [
        "# plot histogram of predicted probabilities\n",
        "\n",
        "\n",
        "# adjust the font size\n",
        "plt.rcParams['font.size'] = 12\n",
        "\n",
        "\n",
        "# plot histogram with 10 bins\n",
        "plt.hist(y_pred1, bins = 10)\n",
        "\n",
        "\n",
        "# set the title of predicted probabilities\n",
        "plt.title('Histogram of predicted probabilities of rain')\n",
        "\n",
        "\n",
        "# set the x-axis limit\n",
        "plt.xlim(0,1)\n",
        "\n",
        "\n",
        "# set the title\n",
        "plt.xlabel('Predicted probabilities of rain')\n",
        "plt.ylabel('Frequency')"
      ]
    },
    {
      "cell_type": "markdown",
      "metadata": {
        "id": "xm5u2GiJB09E"
      },
      "source": [
        "### Observations\n",
        "\n",
        "\n",
        "- We can see that the above histogram is highly positive skewed.\n",
        "\n",
        "\n",
        "- The first column tell us that there are approximately 15000 observations with probability between 0.0 and 0.1.\n",
        "\n",
        "\n",
        "- There are small number of observations with probability > 0.5.\n",
        "\n",
        "\n",
        "- So, these small number of observations predict that there will be rain tomorrow.\n",
        "\n",
        "\n",
        "- Majority of observations predict that there will be no rain tomorrow."
      ]
    },
    {
      "cell_type": "markdown",
      "metadata": {
        "id": "g4rsUXrnB09E"
      },
      "source": [
        "### Lower the threshold"
      ]
    },
    {
      "cell_type": "code",
      "execution_count": 145,
      "metadata": {
        "colab": {
          "base_uri": "https://localhost:8080/"
        },
        "id": "RImBmw2WB09E",
        "outputId": "23174568-570e-4697-c89d-be4f3c7a3f0c"
      },
      "outputs": [
        {
          "name": "stdout",
          "output_type": "stream",
          "text": [
            "With 0.1 threshold the Confusion Matrix is  \n",
            "\n",
            " [[12726  9341]\n",
            " [  547  5825]] \n",
            "\n",
            " with 18551 correct predictions,  \n",
            "\n",
            " 9341 Type I errors( False Positives),  \n",
            "\n",
            " 547 Type II errors( False Negatives),  \n",
            "\n",
            " Accuracy score:  0.6523084496641935 \n",
            "\n",
            " Sensitivity:  0.9141556811048337 \n",
            "\n",
            " Specificity:  0.5766982371867494 \n",
            "\n",
            " ==================================================== \n",
            "\n",
            "\n",
            "With 0.2 threshold the Confusion Matrix is  \n",
            "\n",
            " [[17067  5000]\n",
            " [ 1234  5138]] \n",
            "\n",
            " with 22205 correct predictions,  \n",
            "\n",
            " 5000 Type I errors( False Positives),  \n",
            "\n",
            " 1234 Type II errors( False Negatives),  \n",
            "\n",
            " Accuracy score:  0.7807939800977531 \n",
            "\n",
            " Sensitivity:  0.8063402385436284 \n",
            "\n",
            " Specificity:  0.7734173199800607 \n",
            "\n",
            " ==================================================== \n",
            "\n",
            "\n",
            "With 0.3 threshold the Confusion Matrix is  \n",
            "\n",
            " [[19080  2987]\n",
            " [ 1873  4499]] \n",
            "\n",
            " with 23579 correct predictions,  \n",
            "\n",
            " 2987 Type I errors( False Positives),  \n",
            "\n",
            " 1873 Type II errors( False Negatives),  \n",
            "\n",
            " Accuracy score:  0.8291079151868912 \n",
            "\n",
            " Sensitivity:  0.7060577526679221 \n",
            "\n",
            " Specificity:  0.8646395069560883 \n",
            "\n",
            " ==================================================== \n",
            "\n",
            "\n",
            "With 0.4 threshold the Confusion Matrix is  \n",
            "\n",
            " [[20191  1876]\n",
            " [ 2517  3855]] \n",
            "\n",
            " with 24046 correct predictions,  \n",
            "\n",
            " 1876 Type I errors( False Positives),  \n",
            "\n",
            " 2517 Type II errors( False Negatives),  \n",
            "\n",
            " Accuracy score:  0.845529027040332 \n",
            "\n",
            " Sensitivity:  0.6049905838041432 \n",
            "\n",
            " Specificity:  0.9149861784565188 \n",
            "\n",
            " ==================================================== \n",
            "\n",
            "\n"
          ]
        }
      ],
      "source": [
        "from sklearn.preprocessing import binarize\n",
        "\n",
        "for i in range(1,5):\n",
        "\n",
        "    cm1=0\n",
        "\n",
        "    y_pred1 = logreg.predict_proba(X_test)[:,1]\n",
        "\n",
        "    y_pred1 = y_pred1.reshape(-1,1)\n",
        "\n",
        "    y_pred2 = binarize(y_pred1, threshold=i/10)\n",
        "\n",
        "    y_pred2 = np.where(y_pred2 == 1, 'Yes', 'No')\n",
        "\n",
        "    cm1 = confusion_matrix(y_test, y_pred2)\n",
        "\n",
        "    print ('With',i/10,'threshold the Confusion Matrix is ','\\n\\n',cm1,'\\n\\n',\n",
        "\n",
        "            'with',cm1[0,0]+cm1[1,1],'correct predictions, ', '\\n\\n',\n",
        "\n",
        "            cm1[0,1],'Type I errors( False Positives), ','\\n\\n',\n",
        "\n",
        "            cm1[1,0],'Type II errors( False Negatives), ','\\n\\n',\n",
        "\n",
        "           'Accuracy score: ', (accuracy_score(y_test, y_pred2)), '\\n\\n',\n",
        "\n",
        "           'Sensitivity: ',cm1[1,1]/(float(cm1[1,1]+cm1[1,0])), '\\n\\n',\n",
        "\n",
        "           'Specificity: ',cm1[0,0]/(float(cm1[0,0]+cm1[0,1])),'\\n\\n',\n",
        "\n",
        "            '====================================================', '\\n\\n')"
      ]
    },
    {
      "cell_type": "markdown",
      "metadata": {
        "id": "7gzuEYyqB09E"
      },
      "source": [
        "### Comments\n",
        "\n",
        "\n",
        "- In binary problems, the threshold of 0.5 is used by default to convert predicted probabilities into class predictions.\n",
        "\n",
        "\n",
        "- Threshold can be adjusted to increase sensitivity or specificity.\n",
        "\n",
        "\n",
        "- Sensitivity and specificity have an inverse relationship. Increasing one would always decrease the other and vice versa.\n",
        "\n",
        "\n",
        "- We can see that increasing the threshold level results in increased accuracy.\n",
        "\n",
        "\n",
        "- Adjusting the threshold level should be one of the last step you do in the model-building process."
      ]
    },
    {
      "cell_type": "markdown",
      "metadata": {
        "id": "CGDdo3qTB09E"
      },
      "source": [
        "# **18. ROC - AUC** <a class=\"anchor\" id=\"18\"></a>\n",
        "\n",
        "\n",
        "[Table of Contents](#0.1)\n",
        "\n",
        "\n",
        "\n",
        "## ROC Curve\n",
        "\n",
        "\n",
        "Another tool to measure the classification model performance visually is **ROC Curve**. ROC Curve stands for **Receiver Operating Characteristic Curve**. An **ROC Curve** is a plot which shows the performance of a classification model at various\n",
        "classification threshold levels.\n",
        "\n",
        "\n",
        "\n",
        "The **ROC Curve** plots the **True Positive Rate (TPR)** against the **False Positive Rate (FPR)** at various threshold levels.\n",
        "\n",
        "\n",
        "\n",
        "**True Positive Rate (TPR)** is also called **Recall**. It is defined as the ratio of `TP to (TP + FN).`\n",
        "\n",
        "\n",
        "\n",
        "**False Positive Rate (FPR)** is defined as the ratio of `FP to (FP + TN).`\n",
        "\n",
        "\n",
        "\n",
        "\n",
        "In the ROC Curve, we will focus on the TPR (True Positive Rate) and FPR (False Positive Rate) of a single point. This will give us the general performance of the ROC curve which consists of the TPR and FPR at various threshold levels. So, an ROC Curve plots TPR vs FPR at different classification threshold levels. If we lower the threshold levels, it may result in more items being classified as positve. It will increase both True Positives (TP) and False Positives (FP).\n",
        "\n"
      ]
    },
    {
      "cell_type": "code",
      "execution_count": 146,
      "metadata": {
        "colab": {
          "base_uri": "https://localhost:8080/",
          "height": 419
        },
        "id": "Y1I7c7VMB09E",
        "outputId": "9fdc1624-91f0-4d35-b12a-54a387c3e1d3"
      },
      "outputs": [
        {
          "data": {
            "image/png": "[encoded data removed]",
            "text/plain": [
              "<Figure size 600x400 with 1 Axes>"
            ]
          },
          "metadata": {},
          "output_type": "display_data"
        }
      ],
      "source": [
        "# plot ROC Curve\n",
        "\n",
        "from sklearn.metrics import roc_curve\n",
        "\n",
        "fpr, tpr, thresholds = roc_curve(y_test, y_pred1, pos_label = 'Yes')\n",
        "\n",
        "plt.figure(figsize=(6,4))\n",
        "\n",
        "plt.plot(fpr, tpr, linewidth=2)\n",
        "\n",
        "plt.plot([0,1], [0,1], 'k--' )\n",
        "\n",
        "plt.rcParams['font.size'] = 12\n",
        "\n",
        "plt.title('ROC curve for RainTomorrow classifier')\n",
        "\n",
        "plt.xlabel('False Positive Rate (1 - Specificity)')\n",
        "\n",
        "plt.ylabel('True Positive Rate (Sensitivity)')\n",
        "\n",
        "plt.show()\n"
      ]
    },
    {
      "cell_type": "markdown",
      "metadata": {
        "id": "fOgOTToiB09F"
      },
      "source": [
        "ROC curve help us to choose a threshold level that balances sensitivity and specificity for a particular context."
      ]
    },
    {
      "cell_type": "markdown",
      "metadata": {
        "id": "sXZnO5Y7B09F"
      },
      "source": [
        "## ROC-AUC\n",
        "\n",
        "\n",
        "**ROC AUC** stands for **Receiver Operating Characteristic - Area Under Curve**. It is a technique to compare classifier performance. In this technique, we measure the `area under the curve (AUC)`. A perfect classifier will have a ROC AUC equal to 1, whereas a purely random classifier will have a ROC AUC equal to 0.5.\n",
        "\n",
        "\n",
        "So, **ROC AUC** is the percentage of the ROC plot that is underneath the curve."
      ]
    },
    {
      "cell_type": "code",
      "execution_count": 147,
      "metadata": {
        "colab": {
          "base_uri": "https://localhost:8080/"
        },
        "id": "Jfarq9FQB09F",
        "outputId": "b7db84ee-7f23-4a80-825f-e44cd806b3c6"
      },
      "outputs": [
        {
          "name": "stdout",
          "output_type": "stream",
          "text": [
            "ROC AUC : 0.8729\n"
          ]
        }
      ],
      "source": [
        "# compute ROC AUC\n",
        "# Fill the Gap\n",
        "\n",
        "from sklearn.metrics import roc_auc_score\n",
        "\n",
        "ROC_AUC = roc_auc_score(y_test,logreg.predict_proba(X_test)[:, 1])\n",
        "print('ROC AUC : {:.4f}'.format(ROC_AUC))"
      ]
    },
    {
      "cell_type": "markdown",
      "metadata": {
        "id": "8EiR8pOMB09F"
      },
      "source": [
        "### Comments\n",
        "\n",
        "\n",
        "- ROC AUC is a single number summary of classifier performance. The higher the value, the better the classifier.\n",
        "\n",
        "- ROC AUC of our model approaches towards 1. So, we can conclude that our classifier does a good job in predicting whether it will rain tomorrow or not."
      ]
    },
    {
      "cell_type": "code",
      "execution_count": 148,
      "metadata": {
        "colab": {
          "base_uri": "https://localhost:8080/"
        },
        "id": "mlrSIQhkB09F",
        "outputId": "62503cff-9dcf-43c8-d649-fcd72d219501"
      },
      "outputs": [
        {
          "name": "stdout",
          "output_type": "stream",
          "text": [
            "Cross validated ROC AUC : 0.8695\n"
          ]
        }
      ],
      "source": [
        "# calculate cross-validated ROC AUC\n",
        "\n",
        "from sklearn.model_selection import cross_val_score\n",
        "\n",
        "Cross_validated_ROC_AUC = cross_val_score(logreg, X_train, y_train, cv=5, scoring='roc_auc').mean()\n",
        "\n",
        "print('Cross validated ROC AUC : {:.4f}'.format(Cross_validated_ROC_AUC))"
      ]
    },
    {
      "cell_type": "markdown",
      "metadata": {
        "id": "JM31aEGbB09F"
      },
      "source": [
        "# **19. k-Fold Cross Validation** <a class=\"anchor\" id=\"19\"></a>\n",
        "\n",
        "\n",
        "[Table of Contents](#0.1)"
      ]
    },
    {
      "cell_type": "code",
      "execution_count": 149,
      "metadata": {
        "colab": {
          "base_uri": "https://localhost:8080/"
        },
        "id": "Cj18FUNFB09G",
        "outputId": "6aaacc46-46ab-438f-ab17-ec1d21197ef8"
      },
      "outputs": [
        {
          "name": "stdout",
          "output_type": "stream",
          "text": [
            "Cross-validation scores:[0.84681992 0.84624852 0.84633642 0.84963298 0.84773626]\n"
          ]
        }
      ],
      "source": [
        "# Applying 5-Fold Cross Validation\n",
        "\n",
        "from sklearn.model_selection import cross_val_score\n",
        "\n",
        "scores = cross_val_score(logreg, X_train, y_train, cv = 5, scoring='accuracy')\n",
        "\n",
        "print('Cross-validation scores:{}'.format(scores))"
      ]
    },
    {
      "cell_type": "markdown",
      "metadata": {
        "id": "mWBHLpPFB09G"
      },
      "source": [
        "We can summarize the cross-validation accuracy by calculating its mean."
      ]
    },
    {
      "cell_type": "code",
      "execution_count": 150,
      "metadata": {
        "colab": {
          "base_uri": "https://localhost:8080/"
        },
        "id": "YDaGBCIgB09G",
        "outputId": "558b5986-2aa5-461e-9ad4-a66ea6ea3d5b"
      },
      "outputs": [
        {
          "name": "stdout",
          "output_type": "stream",
          "text": [
            "Average cross-validation score: 0.8474\n"
          ]
        }
      ],
      "source": [
        "# compute Average cross-validation score\n",
        "\n",
        "print('Average cross-validation score: {:.4f}'.format(scores.mean()))"
      ]
    },
    {
      "cell_type": "markdown",
      "metadata": {
        "id": "pf-bZvpdB09G"
      },
      "source": [
        "Our, original model score is found to be 0.8476. The average cross-validation score is 0.8474. So, we can conclude that cross-validation does not result in performance improvement."
      ]
    },
    {
      "cell_type": "markdown",
      "metadata": {
        "id": "inVG3GqtB09H"
      },
      "source": [
        "# **21. Results and conclusion** <a class=\"anchor\" id=\"21\"></a>\n",
        "\n",
        "\n",
        "[Table of Contents](#0.1)"
      ]
    },
    {
      "cell_type": "markdown",
      "metadata": {
        "id": "rhU0xzXuB09H"
      },
      "source": [
        "1.\tThe logistic regression model accuracy score is 0.8501. So, the model does a very good job in predicting whether or not it will rain tomorrow in Australia.\n",
        "\n",
        "2.\tSmall number of observations predict that there will be rain tomorrow. Majority of observations predict that there will be no rain tomorrow.\n",
        "\n",
        "3.\tThe model shows no signs of overfitting.\n",
        "\n",
        "4.\tIncreasing the value of C results in higher test set accuracy and also a slightly increased training set accuracy. So, we can conclude that a more complex model should perform better.\n",
        "\n",
        "5.\tIncreasing the threshold level results in increased accuracy.\n",
        "\n",
        "6.\tROC AUC of our model approaches towards 1. So, we can conclude that our classifier does a good job in predicting whether it will rain tomorrow or not.\n",
        "\n",
        "7.\tOur original model accuracy score is 0.8501 whereas accuracy score after RFECV is 0.8500. So, we can obtain approximately similar accuracy but with reduced set of features.\n",
        "\n",
        "8.\tIn the original model, we have FP = 1175 whereas FP1 = 1174. So, we get approximately same number of false positives. Also, FN = 3087 whereas FN1 = 3091. So, we get slighly higher false negatives.\n",
        "\n",
        "9.\tOur, original model score is found to be 0.8476. The average cross-validation score is 0.8474. So, we can conclude that cross-validation does not result in performance improvement.\n",
        "\n"
      ]
    }
  ],
  "metadata": {
    "accelerator": "GPU",
    "colab": {
      "gpuType": "T4",
      "provenance": []
    },
    "kernelspec": {
      "display_name": "newvenv",
      "language": "python",
      "name": "python3"
    },
    "language_info": {
      "codemirror_mode": {
        "name": "ipython",
        "version": 3
      },
      "file_extension": ".py",
      "mimetype": "text/x-python",
      "name": "python",
      "nbconvert_exporter": "python",
      "pygments_lexer": "ipython3",
      "version": "3.11.10"
    }
  },
  "nbformat": 4,
  "nbformat_minor": 0
}
